{
 "cells": [
  {
   "cell_type": "code",
   "execution_count": 1,
   "metadata": {},
   "outputs": [],
   "source": [
    "import pandas as pd\n",
    "import matplotlib.pyplot as plt\n",
    "import numpy as np\n",
    "from joblib import load, dump"
   ]
  },
  {
   "cell_type": "code",
   "execution_count": 2,
   "metadata": {
    "scrolled": true
   },
   "outputs": [],
   "source": [
    "# If using google colab, run this cell\n",
    "# pip install --upgrade category_encoders"
   ]
  },
  {
   "cell_type": "code",
   "execution_count": 3,
   "metadata": {},
   "outputs": [],
   "source": [
    "# If using google colab, run this cell\n",
    "# pip install --upgrade eli5"
   ]
  },
  {
   "cell_type": "code",
   "execution_count": 4,
   "metadata": {
    "scrolled": false
   },
   "outputs": [
    {
     "name": "stderr",
     "output_type": "stream",
     "text": [
      "//anaconda3/envs/DSEnv/lib/python3.7/site-packages/IPython/core/interactiveshell.py:3058: DtypeWarning: Columns (12) have mixed types. Specify dtype option on import or set low_memory=False.\n",
      "  interactivity=interactivity, compiler=compiler, result=result)\n",
      "//anaconda3/envs/DSEnv/lib/python3.7/site-packages/IPython/core/interactiveshell.py:3058: DtypeWarning: Columns (3) have mixed types. Specify dtype option on import or set low_memory=False.\n",
      "  interactivity=interactivity, compiler=compiler, result=result)\n"
     ]
    }
   ],
   "source": [
    "from functools import reduce\n",
    "\n",
    "df1 = pd.read_csv('https://raw.githubusercontent.com/xander-bennett/San-Diego-Police-Data/master/San%20Diego%20Police%20Data/Data/ripa_stops_datasd.csv',sep=',')\n",
    "df2 = pd.read_csv('https://raw.githubusercontent.com/xander-bennett/San-Diego-Police-Data/master/San%20Diego%20Police%20Data/Data/ripa_stop_reason_datasd.csv',sep=',')\n",
    "df3 = pd.read_csv('https://raw.githubusercontent.com/xander-bennett/San-Diego-Police-Data/master/San%20Diego%20Police%20Data/Data/ripa_race_datasd.csv',sep=',')\n",
    "df4 = pd.read_csv('https://raw.githubusercontent.com/xander-bennett/San-Diego-Police-Data/master/San%20Diego%20Police%20Data/Data/ripa_stop_result_datasd.csv',sep=',')\n",
    "df5 = pd.read_csv('https://raw.githubusercontent.com/xander-bennett/San-Diego-Police-Data/master/San%20Diego%20Police%20Data/Data/ripa_actions_taken_datasd.csv',sep=',')"
   ]
  },
  {
   "cell_type": "code",
   "execution_count": 5,
   "metadata": {},
   "outputs": [
    {
     "data": {
      "text/html": [
       "<div>\n",
       "<style scoped>\n",
       "    .dataframe tbody tr th:only-of-type {\n",
       "        vertical-align: middle;\n",
       "    }\n",
       "\n",
       "    .dataframe tbody tr th {\n",
       "        vertical-align: top;\n",
       "    }\n",
       "\n",
       "    .dataframe thead th {\n",
       "        text-align: right;\n",
       "    }\n",
       "</style>\n",
       "<table border=\"1\" class=\"dataframe\">\n",
       "  <thead>\n",
       "    <tr style=\"text-align: right;\">\n",
       "      <th></th>\n",
       "      <th>stop_id</th>\n",
       "      <th>pid</th>\n",
       "      <th>reason_for_stop</th>\n",
       "      <th>reason_for_stopcode</th>\n",
       "      <th>reason_for_stop_code_text</th>\n",
       "      <th>reason_for_stop_detail</th>\n",
       "      <th>reason_for_stop_explanation</th>\n",
       "    </tr>\n",
       "  </thead>\n",
       "  <tbody>\n",
       "    <tr>\n",
       "      <th>0</th>\n",
       "      <td>2443</td>\n",
       "      <td>1</td>\n",
       "      <td>Reasonable Suspicion</td>\n",
       "      <td>64005</td>\n",
       "      <td>647(F) PC - DISORD CONDUCT:ALCOHOL (M) 64005</td>\n",
       "      <td>Officer witnessed commission of a crime</td>\n",
       "      <td>staggering, unable to safely walk</td>\n",
       "    </tr>\n",
       "    <tr>\n",
       "      <th>1</th>\n",
       "      <td>2444</td>\n",
       "      <td>1</td>\n",
       "      <td>Traffic Violation</td>\n",
       "      <td>54106</td>\n",
       "      <td>22350 VC - UNSAFE SPEED:PREVAIL COND (I) 54106</td>\n",
       "      <td>Moving Violation</td>\n",
       "      <td>Speeding</td>\n",
       "    </tr>\n",
       "    <tr>\n",
       "      <th>2</th>\n",
       "      <td>2447</td>\n",
       "      <td>1</td>\n",
       "      <td>Reasonable Suspicion</td>\n",
       "      <td>53072</td>\n",
       "      <td>415(1) PC - FIGHT IN PUBLIC PLACE (M) 53072</td>\n",
       "      <td>Matched suspect description</td>\n",
       "      <td>Both parties involved in argument.</td>\n",
       "    </tr>\n",
       "    <tr>\n",
       "      <th>3</th>\n",
       "      <td>2447</td>\n",
       "      <td>2</td>\n",
       "      <td>Reasonable Suspicion</td>\n",
       "      <td>53072</td>\n",
       "      <td>415(1) PC - FIGHT IN PUBLIC PLACE (M) 53072</td>\n",
       "      <td>Other Reasonable Suspicion of a crime</td>\n",
       "      <td>Both parties engaged in argument.</td>\n",
       "    </tr>\n",
       "    <tr>\n",
       "      <th>4</th>\n",
       "      <td>2448</td>\n",
       "      <td>1</td>\n",
       "      <td>Traffic Violation</td>\n",
       "      <td>54106</td>\n",
       "      <td>22350 VC - UNSAFE SPEED:PREVAIL COND (I) 54106</td>\n",
       "      <td>Moving Violation</td>\n",
       "      <td>UNSAFE DRIVING</td>\n",
       "    </tr>\n",
       "  </tbody>\n",
       "</table>\n",
       "</div>"
      ],
      "text/plain": [
       "   stop_id  pid       reason_for_stop reason_for_stopcode  \\\n",
       "0     2443    1  Reasonable Suspicion               64005   \n",
       "1     2444    1     Traffic Violation               54106   \n",
       "2     2447    1  Reasonable Suspicion               53072   \n",
       "3     2447    2  Reasonable Suspicion               53072   \n",
       "4     2448    1     Traffic Violation               54106   \n",
       "\n",
       "                        reason_for_stop_code_text  \\\n",
       "0    647(F) PC - DISORD CONDUCT:ALCOHOL (M) 64005   \n",
       "1  22350 VC - UNSAFE SPEED:PREVAIL COND (I) 54106   \n",
       "2     415(1) PC - FIGHT IN PUBLIC PLACE (M) 53072   \n",
       "3     415(1) PC - FIGHT IN PUBLIC PLACE (M) 53072   \n",
       "4  22350 VC - UNSAFE SPEED:PREVAIL COND (I) 54106   \n",
       "\n",
       "                    reason_for_stop_detail         reason_for_stop_explanation  \n",
       "0  Officer witnessed commission of a crime   staggering, unable to safely walk  \n",
       "1                         Moving Violation                            Speeding  \n",
       "2              Matched suspect description  Both parties involved in argument.  \n",
       "3    Other Reasonable Suspicion of a crime   Both parties engaged in argument.  \n",
       "4                         Moving Violation                      UNSAFE DRIVING  "
      ]
     },
     "execution_count": 5,
     "metadata": {},
     "output_type": "execute_result"
    }
   ],
   "source": [
    "df2.head()"
   ]
  },
  {
   "cell_type": "markdown",
   "metadata": {},
   "source": [
    "df1.head()"
   ]
  },
  {
   "cell_type": "code",
   "execution_count": 6,
   "metadata": {
    "scrolled": true
   },
   "outputs": [
    {
     "name": "stdout",
     "output_type": "stream",
     "text": [
      "(321815, 41)\n"
     ]
    },
    {
     "data": {
      "text/html": [
       "<div>\n",
       "<style scoped>\n",
       "    .dataframe tbody tr th:only-of-type {\n",
       "        vertical-align: middle;\n",
       "    }\n",
       "\n",
       "    .dataframe tbody tr th {\n",
       "        vertical-align: top;\n",
       "    }\n",
       "\n",
       "    .dataframe thead th {\n",
       "        text-align: right;\n",
       "    }\n",
       "</style>\n",
       "<table border=\"1\" class=\"dataframe\">\n",
       "  <thead>\n",
       "    <tr style=\"text-align: right;\">\n",
       "      <th></th>\n",
       "      <th>stop_id</th>\n",
       "      <th>ori</th>\n",
       "      <th>agency</th>\n",
       "      <th>exp_years</th>\n",
       "      <th>stopdate</th>\n",
       "      <th>stoptime</th>\n",
       "      <th>stopduration</th>\n",
       "      <th>stop_in_response_to_cfs</th>\n",
       "      <th>officer_assignment_key</th>\n",
       "      <th>assignment</th>\n",
       "      <th>...</th>\n",
       "      <th>reason_for_stop_code_text</th>\n",
       "      <th>reason_for_stop_detail</th>\n",
       "      <th>reason_for_stop_explanation</th>\n",
       "      <th>race</th>\n",
       "      <th>resultkey</th>\n",
       "      <th>result</th>\n",
       "      <th>code</th>\n",
       "      <th>resulttext</th>\n",
       "      <th>action</th>\n",
       "      <th>consented</th>\n",
       "    </tr>\n",
       "  </thead>\n",
       "  <tbody>\n",
       "    <tr>\n",
       "      <th>0</th>\n",
       "      <td>2443</td>\n",
       "      <td>CA0371100</td>\n",
       "      <td>SD</td>\n",
       "      <td>10</td>\n",
       "      <td>2018-07-01</td>\n",
       "      <td>00:01:37</td>\n",
       "      <td>30</td>\n",
       "      <td>0</td>\n",
       "      <td>1</td>\n",
       "      <td>Patrol, traffic enforcement, field operations</td>\n",
       "      <td>...</td>\n",
       "      <td>647(F) PC - DISORD CONDUCT:ALCOHOL (M) 64005</td>\n",
       "      <td>Officer witnessed commission of a crime</td>\n",
       "      <td>staggering, unable to safely walk</td>\n",
       "      <td>White</td>\n",
       "      <td>6</td>\n",
       "      <td>Custodial Arrest without warrant</td>\n",
       "      <td>64005.0</td>\n",
       "      <td>647(F) PC - DISORD CONDUCT:ALCOHOL (M) 64005</td>\n",
       "      <td>None</td>\n",
       "      <td>NaN</td>\n",
       "    </tr>\n",
       "    <tr>\n",
       "      <th>1</th>\n",
       "      <td>2444</td>\n",
       "      <td>CA0371100</td>\n",
       "      <td>SD</td>\n",
       "      <td>18</td>\n",
       "      <td>2018-07-01</td>\n",
       "      <td>00:03:34</td>\n",
       "      <td>10</td>\n",
       "      <td>0</td>\n",
       "      <td>1</td>\n",
       "      <td>Patrol, traffic enforcement, field operations</td>\n",
       "      <td>...</td>\n",
       "      <td>22350 VC - UNSAFE SPEED:PREVAIL COND (I) 54106</td>\n",
       "      <td>Moving Violation</td>\n",
       "      <td>Speeding</td>\n",
       "      <td>White</td>\n",
       "      <td>2</td>\n",
       "      <td>Warning (verbal or written)</td>\n",
       "      <td>54395.0</td>\n",
       "      <td>22349(B) VC - EXC 55MPH SPEED:2 LANE RD (I) 54395</td>\n",
       "      <td>None</td>\n",
       "      <td>NaN</td>\n",
       "    </tr>\n",
       "    <tr>\n",
       "      <th>2</th>\n",
       "      <td>2447</td>\n",
       "      <td>CA0371100</td>\n",
       "      <td>SD</td>\n",
       "      <td>1</td>\n",
       "      <td>2018-07-01</td>\n",
       "      <td>00:05:43</td>\n",
       "      <td>15</td>\n",
       "      <td>1</td>\n",
       "      <td>10</td>\n",
       "      <td>Other</td>\n",
       "      <td>...</td>\n",
       "      <td>415(1) PC - FIGHT IN PUBLIC PLACE (M) 53072</td>\n",
       "      <td>Matched suspect description</td>\n",
       "      <td>Both parties involved in argument.</td>\n",
       "      <td>Hispanic/Latino/a</td>\n",
       "      <td>1</td>\n",
       "      <td>No Action</td>\n",
       "      <td>NaN</td>\n",
       "      <td>NaN</td>\n",
       "      <td>Curbside detention</td>\n",
       "      <td>NaN</td>\n",
       "    </tr>\n",
       "    <tr>\n",
       "      <th>3</th>\n",
       "      <td>2447</td>\n",
       "      <td>CA0371100</td>\n",
       "      <td>SD</td>\n",
       "      <td>1</td>\n",
       "      <td>2018-07-01</td>\n",
       "      <td>00:05:43</td>\n",
       "      <td>15</td>\n",
       "      <td>1</td>\n",
       "      <td>10</td>\n",
       "      <td>Other</td>\n",
       "      <td>...</td>\n",
       "      <td>415(1) PC - FIGHT IN PUBLIC PLACE (M) 53072</td>\n",
       "      <td>Other Reasonable Suspicion of a crime</td>\n",
       "      <td>Both parties engaged in argument.</td>\n",
       "      <td>Hispanic/Latino/a</td>\n",
       "      <td>1</td>\n",
       "      <td>No Action</td>\n",
       "      <td>NaN</td>\n",
       "      <td>NaN</td>\n",
       "      <td>Curbside detention</td>\n",
       "      <td>NaN</td>\n",
       "    </tr>\n",
       "    <tr>\n",
       "      <th>4</th>\n",
       "      <td>2448</td>\n",
       "      <td>CA0371100</td>\n",
       "      <td>SD</td>\n",
       "      <td>3</td>\n",
       "      <td>2018-07-01</td>\n",
       "      <td>00:19:06</td>\n",
       "      <td>5</td>\n",
       "      <td>0</td>\n",
       "      <td>1</td>\n",
       "      <td>Patrol, traffic enforcement, field operations</td>\n",
       "      <td>...</td>\n",
       "      <td>22350 VC - UNSAFE SPEED:PREVAIL COND (I) 54106</td>\n",
       "      <td>Moving Violation</td>\n",
       "      <td>UNSAFE DRIVING</td>\n",
       "      <td>White</td>\n",
       "      <td>1</td>\n",
       "      <td>No Action</td>\n",
       "      <td>NaN</td>\n",
       "      <td>NaN</td>\n",
       "      <td>None</td>\n",
       "      <td>NaN</td>\n",
       "    </tr>\n",
       "  </tbody>\n",
       "</table>\n",
       "<p>5 rows × 41 columns</p>\n",
       "</div>"
      ],
      "text/plain": [
       "   stop_id        ori agency  exp_years    stopdate  stoptime  stopduration  \\\n",
       "0     2443  CA0371100     SD         10  2018-07-01  00:01:37            30   \n",
       "1     2444  CA0371100     SD         18  2018-07-01  00:03:34            10   \n",
       "2     2447  CA0371100     SD          1  2018-07-01  00:05:43            15   \n",
       "3     2447  CA0371100     SD          1  2018-07-01  00:05:43            15   \n",
       "4     2448  CA0371100     SD          3  2018-07-01  00:19:06             5   \n",
       "\n",
       "   stop_in_response_to_cfs  officer_assignment_key  \\\n",
       "0                        0                       1   \n",
       "1                        0                       1   \n",
       "2                        1                      10   \n",
       "3                        1                      10   \n",
       "4                        0                       1   \n",
       "\n",
       "                                      assignment    ...     \\\n",
       "0  Patrol, traffic enforcement, field operations    ...      \n",
       "1  Patrol, traffic enforcement, field operations    ...      \n",
       "2                                          Other    ...      \n",
       "3                                          Other    ...      \n",
       "4  Patrol, traffic enforcement, field operations    ...      \n",
       "\n",
       "                        reason_for_stop_code_text  \\\n",
       "0    647(F) PC - DISORD CONDUCT:ALCOHOL (M) 64005   \n",
       "1  22350 VC - UNSAFE SPEED:PREVAIL COND (I) 54106   \n",
       "2     415(1) PC - FIGHT IN PUBLIC PLACE (M) 53072   \n",
       "3     415(1) PC - FIGHT IN PUBLIC PLACE (M) 53072   \n",
       "4  22350 VC - UNSAFE SPEED:PREVAIL COND (I) 54106   \n",
       "\n",
       "                    reason_for_stop_detail  \\\n",
       "0  Officer witnessed commission of a crime   \n",
       "1                         Moving Violation   \n",
       "2              Matched suspect description   \n",
       "3    Other Reasonable Suspicion of a crime   \n",
       "4                         Moving Violation   \n",
       "\n",
       "          reason_for_stop_explanation               race resultkey  \\\n",
       "0   staggering, unable to safely walk              White         6   \n",
       "1                            Speeding              White         2   \n",
       "2  Both parties involved in argument.  Hispanic/Latino/a         1   \n",
       "3   Both parties engaged in argument.  Hispanic/Latino/a         1   \n",
       "4                      UNSAFE DRIVING              White         1   \n",
       "\n",
       "                             result     code  \\\n",
       "0  Custodial Arrest without warrant  64005.0   \n",
       "1       Warning (verbal or written)  54395.0   \n",
       "2                         No Action      NaN   \n",
       "3                         No Action      NaN   \n",
       "4                         No Action      NaN   \n",
       "\n",
       "                                          resulttext              action  \\\n",
       "0       647(F) PC - DISORD CONDUCT:ALCOHOL (M) 64005                None   \n",
       "1  22349(B) VC - EXC 55MPH SPEED:2 LANE RD (I) 54395                None   \n",
       "2                                                NaN  Curbside detention   \n",
       "3                                                NaN  Curbside detention   \n",
       "4                                                NaN                None   \n",
       "\n",
       "  consented  \n",
       "0       NaN  \n",
       "1       NaN  \n",
       "2       NaN  \n",
       "3       NaN  \n",
       "4       NaN  \n",
       "\n",
       "[5 rows x 41 columns]"
      ]
     },
     "execution_count": 6,
     "metadata": {},
     "output_type": "execute_result"
    }
   ],
   "source": [
    "# Merge dataframes\n",
    "df_merged_1 = pd.merge(df1, df2, how='inner')\n",
    "df_merged_2 = pd.merge(df3, df4, how='inner')\n",
    "df_merged_3= pd.merge(df_merged_1, df_merged_2, how='inner')\n",
    "df = pd.merge(df_merged_3, df5, how='inner')\n",
    "\n",
    "print(df.shape)\n",
    "df.head()"
   ]
  },
  {
   "cell_type": "code",
   "execution_count": 7,
   "metadata": {},
   "outputs": [
    {
     "data": {
      "text/plain": [
       "['stop_id',\n",
       " 'ori',\n",
       " 'agency',\n",
       " 'exp_years',\n",
       " 'stopdate',\n",
       " 'stoptime',\n",
       " 'stopduration',\n",
       " 'stop_in_response_to_cfs',\n",
       " 'officer_assignment_key',\n",
       " 'assignment',\n",
       " 'intersection',\n",
       " 'block',\n",
       " 'land_mark',\n",
       " 'street',\n",
       " 'highway_exit',\n",
       " 'isschool',\n",
       " 'school_name',\n",
       " 'cityname',\n",
       " 'beat',\n",
       " 'beat_name',\n",
       " 'pid',\n",
       " 'isstudent',\n",
       " 'perceived_limited_english',\n",
       " 'perceived_age',\n",
       " 'perceived_gender',\n",
       " 'gender_nonconforming',\n",
       " 'gend',\n",
       " 'gend_nc',\n",
       " 'perceived_lgbt',\n",
       " 'reason_for_stop',\n",
       " 'reason_for_stopcode',\n",
       " 'reason_for_stop_code_text',\n",
       " 'reason_for_stop_detail',\n",
       " 'reason_for_stop_explanation',\n",
       " 'race',\n",
       " 'resultkey',\n",
       " 'result',\n",
       " 'code',\n",
       " 'resulttext',\n",
       " 'action',\n",
       " 'consented']"
      ]
     },
     "execution_count": 7,
     "metadata": {},
     "output_type": "execute_result"
    }
   ],
   "source": [
    "cols = df.columns.tolist()\n",
    "cols"
   ]
  },
  {
   "cell_type": "code",
   "execution_count": 8,
   "metadata": {
    "scrolled": true
   },
   "outputs": [
    {
     "data": {
      "text/plain": [
       "(321815, 17)"
      ]
     },
     "execution_count": 8,
     "metadata": {},
     "output_type": "execute_result"
    }
   ],
   "source": [
    "# dropping columns for missing values, constant values, etc.\n",
    "df = df.drop(['agency', 'ori', 'block', 'gend_nc', \n",
    "         'highway_exit', 'intersection', 'land_mark',\n",
    "         'school_name', 'street', 'gender_nonconforming', \n",
    "              'pid', 'consented', 'resulttext', 'code',\n",
    "              'beat', 'resultkey','reason_for_stopcode', \n",
    "              'isschool', 'stop_id', 'isstudent','reason_for_stop_code_text',\n",
    "             'reason_for_stop_explanation','cityname',\n",
    "             'perceived_gender'], axis=1)\n",
    "df.shape"
   ]
  },
  {
   "cell_type": "code",
   "execution_count": 9,
   "metadata": {},
   "outputs": [
    {
     "name": "stdout",
     "output_type": "stream",
     "text": [
      "(46469, 17)\n"
     ]
    },
    {
     "data": {
      "text/html": [
       "<div>\n",
       "<style scoped>\n",
       "    .dataframe tbody tr th:only-of-type {\n",
       "        vertical-align: middle;\n",
       "    }\n",
       "\n",
       "    .dataframe tbody tr th {\n",
       "        vertical-align: top;\n",
       "    }\n",
       "\n",
       "    .dataframe thead th {\n",
       "        text-align: right;\n",
       "    }\n",
       "</style>\n",
       "<table border=\"1\" class=\"dataframe\">\n",
       "  <thead>\n",
       "    <tr style=\"text-align: right;\">\n",
       "      <th></th>\n",
       "      <th>exp_years</th>\n",
       "      <th>stopdate</th>\n",
       "      <th>stoptime</th>\n",
       "      <th>stopduration</th>\n",
       "      <th>stop_in_response_to_cfs</th>\n",
       "      <th>officer_assignment_key</th>\n",
       "      <th>assignment</th>\n",
       "      <th>beat_name</th>\n",
       "      <th>perceived_limited_english</th>\n",
       "      <th>perceived_age</th>\n",
       "      <th>gend</th>\n",
       "      <th>perceived_lgbt</th>\n",
       "      <th>reason_for_stop</th>\n",
       "      <th>reason_for_stop_detail</th>\n",
       "      <th>race</th>\n",
       "      <th>result</th>\n",
       "      <th>action</th>\n",
       "    </tr>\n",
       "  </thead>\n",
       "  <tbody>\n",
       "    <tr>\n",
       "      <th>25</th>\n",
       "      <td>1</td>\n",
       "      <td>2018-07-01</td>\n",
       "      <td>01:03:00</td>\n",
       "      <td>15</td>\n",
       "      <td>0</td>\n",
       "      <td>1</td>\n",
       "      <td>Patrol, traffic enforcement, field operations</td>\n",
       "      <td>Pacific Beach 122</td>\n",
       "      <td>0</td>\n",
       "      <td>35</td>\n",
       "      <td>1</td>\n",
       "      <td>No</td>\n",
       "      <td>Traffic Violation</td>\n",
       "      <td>Moving Violation</td>\n",
       "      <td>Middle Eastern or South Asian</td>\n",
       "      <td>Citation for infraction</td>\n",
       "      <td>None</td>\n",
       "    </tr>\n",
       "    <tr>\n",
       "      <th>33</th>\n",
       "      <td>2</td>\n",
       "      <td>2018-07-01</td>\n",
       "      <td>01:52:51</td>\n",
       "      <td>12</td>\n",
       "      <td>0</td>\n",
       "      <td>1</td>\n",
       "      <td>Patrol, traffic enforcement, field operations</td>\n",
       "      <td>La Jolla 124</td>\n",
       "      <td>0</td>\n",
       "      <td>20</td>\n",
       "      <td>1</td>\n",
       "      <td>No</td>\n",
       "      <td>Traffic Violation</td>\n",
       "      <td>Moving Violation</td>\n",
       "      <td>White</td>\n",
       "      <td>Citation for infraction</td>\n",
       "      <td>None</td>\n",
       "    </tr>\n",
       "    <tr>\n",
       "      <th>93</th>\n",
       "      <td>1</td>\n",
       "      <td>2018-07-01</td>\n",
       "      <td>05:00:49</td>\n",
       "      <td>20</td>\n",
       "      <td>0</td>\n",
       "      <td>1</td>\n",
       "      <td>Patrol, traffic enforcement, field operations</td>\n",
       "      <td>Sorrento Valley 931</td>\n",
       "      <td>0</td>\n",
       "      <td>22</td>\n",
       "      <td>2</td>\n",
       "      <td>No</td>\n",
       "      <td>Traffic Violation</td>\n",
       "      <td>Equipment Violation</td>\n",
       "      <td>Asian</td>\n",
       "      <td>Citation for infraction</td>\n",
       "      <td>None</td>\n",
       "    </tr>\n",
       "    <tr>\n",
       "      <th>95</th>\n",
       "      <td>10</td>\n",
       "      <td>2018-07-01</td>\n",
       "      <td>05:29:26</td>\n",
       "      <td>15</td>\n",
       "      <td>0</td>\n",
       "      <td>1</td>\n",
       "      <td>Patrol, traffic enforcement, field operations</td>\n",
       "      <td>Pacific Beach 122</td>\n",
       "      <td>0</td>\n",
       "      <td>21</td>\n",
       "      <td>1</td>\n",
       "      <td>No</td>\n",
       "      <td>Reasonable Suspicion</td>\n",
       "      <td>Officer witnessed commission of a crime</td>\n",
       "      <td>White</td>\n",
       "      <td>Citation for infraction</td>\n",
       "      <td>Curbside detention</td>\n",
       "    </tr>\n",
       "    <tr>\n",
       "      <th>109</th>\n",
       "      <td>1</td>\n",
       "      <td>2018-07-01</td>\n",
       "      <td>05:42:21</td>\n",
       "      <td>83</td>\n",
       "      <td>0</td>\n",
       "      <td>1</td>\n",
       "      <td>Patrol, traffic enforcement, field operations</td>\n",
       "      <td>Golden Hill 517</td>\n",
       "      <td>0</td>\n",
       "      <td>55</td>\n",
       "      <td>1</td>\n",
       "      <td>No</td>\n",
       "      <td>Traffic Violation</td>\n",
       "      <td>Non-moving Violation, including Registration V...</td>\n",
       "      <td>White</td>\n",
       "      <td>Citation for infraction</td>\n",
       "      <td>Vehicle impounded</td>\n",
       "    </tr>\n",
       "  </tbody>\n",
       "</table>\n",
       "</div>"
      ],
      "text/plain": [
       "     exp_years    stopdate  stoptime  stopduration  stop_in_response_to_cfs  \\\n",
       "25           1  2018-07-01  01:03:00            15                        0   \n",
       "33           2  2018-07-01  01:52:51            12                        0   \n",
       "93           1  2018-07-01  05:00:49            20                        0   \n",
       "95          10  2018-07-01  05:29:26            15                        0   \n",
       "109          1  2018-07-01  05:42:21            83                        0   \n",
       "\n",
       "     officer_assignment_key                                     assignment  \\\n",
       "25                        1  Patrol, traffic enforcement, field operations   \n",
       "33                        1  Patrol, traffic enforcement, field operations   \n",
       "93                        1  Patrol, traffic enforcement, field operations   \n",
       "95                        1  Patrol, traffic enforcement, field operations   \n",
       "109                       1  Patrol, traffic enforcement, field operations   \n",
       "\n",
       "               beat_name  perceived_limited_english  perceived_age  gend  \\\n",
       "25     Pacific Beach 122                          0             35     1   \n",
       "33          La Jolla 124                          0             20     1   \n",
       "93   Sorrento Valley 931                          0             22     2   \n",
       "95     Pacific Beach 122                          0             21     1   \n",
       "109      Golden Hill 517                          0             55     1   \n",
       "\n",
       "    perceived_lgbt       reason_for_stop  \\\n",
       "25              No     Traffic Violation   \n",
       "33              No     Traffic Violation   \n",
       "93              No     Traffic Violation   \n",
       "95              No  Reasonable Suspicion   \n",
       "109             No     Traffic Violation   \n",
       "\n",
       "                                reason_for_stop_detail  \\\n",
       "25                                    Moving Violation   \n",
       "33                                    Moving Violation   \n",
       "93                                 Equipment Violation   \n",
       "95             Officer witnessed commission of a crime   \n",
       "109  Non-moving Violation, including Registration V...   \n",
       "\n",
       "                              race                   result  \\\n",
       "25   Middle Eastern or South Asian  Citation for infraction   \n",
       "33                           White  Citation for infraction   \n",
       "93                           Asian  Citation for infraction   \n",
       "95                           White  Citation for infraction   \n",
       "109                          White  Citation for infraction   \n",
       "\n",
       "                 action  \n",
       "25                 None  \n",
       "33                 None  \n",
       "93                 None  \n",
       "95   Curbside detention  \n",
       "109   Vehicle impounded  "
      ]
     },
     "execution_count": 9,
     "metadata": {},
     "output_type": "execute_result"
    }
   ],
   "source": [
    "# Testing to filter for stops that gave a ticket\n",
    "# gender - 1 is for a male, 2 is for female\n",
    "mask = (df['result'] == 'Citation for infraction')\n",
    "print(df[mask].shape)\n",
    "df[mask].head()"
   ]
  },
  {
   "cell_type": "code",
   "execution_count": 10,
   "metadata": {},
   "outputs": [
    {
     "data": {
      "text/html": [
       "<div>\n",
       "<style scoped>\n",
       "    .dataframe tbody tr th:only-of-type {\n",
       "        vertical-align: middle;\n",
       "    }\n",
       "\n",
       "    .dataframe tbody tr th {\n",
       "        vertical-align: top;\n",
       "    }\n",
       "\n",
       "    .dataframe thead th {\n",
       "        text-align: right;\n",
       "    }\n",
       "</style>\n",
       "<table border=\"1\" class=\"dataframe\">\n",
       "  <thead>\n",
       "    <tr style=\"text-align: right;\">\n",
       "      <th></th>\n",
       "      <th>exp_years</th>\n",
       "      <th>stopdate</th>\n",
       "      <th>stoptime</th>\n",
       "      <th>stopduration</th>\n",
       "      <th>stop_in_response_to_cfs</th>\n",
       "      <th>officer_assignment_key</th>\n",
       "      <th>assignment</th>\n",
       "      <th>beat_name</th>\n",
       "      <th>perceived_limited_english</th>\n",
       "      <th>perceived_age</th>\n",
       "      <th>gend</th>\n",
       "      <th>perceived_lgbt</th>\n",
       "      <th>reason_for_stop</th>\n",
       "      <th>reason_for_stop_detail</th>\n",
       "      <th>race</th>\n",
       "      <th>result</th>\n",
       "      <th>action</th>\n",
       "    </tr>\n",
       "  </thead>\n",
       "  <tbody>\n",
       "    <tr>\n",
       "      <th>25</th>\n",
       "      <td>1</td>\n",
       "      <td>2018-07-01</td>\n",
       "      <td>01:03:00</td>\n",
       "      <td>15</td>\n",
       "      <td>0</td>\n",
       "      <td>1</td>\n",
       "      <td>Patrol, traffic enforcement, field operations</td>\n",
       "      <td>Pacific Beach 122</td>\n",
       "      <td>0</td>\n",
       "      <td>35</td>\n",
       "      <td>1</td>\n",
       "      <td>No</td>\n",
       "      <td>Traffic Violation</td>\n",
       "      <td>Moving Violation</td>\n",
       "      <td>Middle Eastern or South Asian</td>\n",
       "      <td>Citation for infraction</td>\n",
       "      <td>None</td>\n",
       "    </tr>\n",
       "    <tr>\n",
       "      <th>33</th>\n",
       "      <td>2</td>\n",
       "      <td>2018-07-01</td>\n",
       "      <td>01:52:51</td>\n",
       "      <td>12</td>\n",
       "      <td>0</td>\n",
       "      <td>1</td>\n",
       "      <td>Patrol, traffic enforcement, field operations</td>\n",
       "      <td>La Jolla 124</td>\n",
       "      <td>0</td>\n",
       "      <td>20</td>\n",
       "      <td>1</td>\n",
       "      <td>No</td>\n",
       "      <td>Traffic Violation</td>\n",
       "      <td>Moving Violation</td>\n",
       "      <td>White</td>\n",
       "      <td>Citation for infraction</td>\n",
       "      <td>None</td>\n",
       "    </tr>\n",
       "    <tr>\n",
       "      <th>93</th>\n",
       "      <td>1</td>\n",
       "      <td>2018-07-01</td>\n",
       "      <td>05:00:49</td>\n",
       "      <td>20</td>\n",
       "      <td>0</td>\n",
       "      <td>1</td>\n",
       "      <td>Patrol, traffic enforcement, field operations</td>\n",
       "      <td>Sorrento Valley 931</td>\n",
       "      <td>0</td>\n",
       "      <td>22</td>\n",
       "      <td>2</td>\n",
       "      <td>No</td>\n",
       "      <td>Traffic Violation</td>\n",
       "      <td>Equipment Violation</td>\n",
       "      <td>Asian</td>\n",
       "      <td>Citation for infraction</td>\n",
       "      <td>None</td>\n",
       "    </tr>\n",
       "    <tr>\n",
       "      <th>95</th>\n",
       "      <td>10</td>\n",
       "      <td>2018-07-01</td>\n",
       "      <td>05:29:26</td>\n",
       "      <td>15</td>\n",
       "      <td>0</td>\n",
       "      <td>1</td>\n",
       "      <td>Patrol, traffic enforcement, field operations</td>\n",
       "      <td>Pacific Beach 122</td>\n",
       "      <td>0</td>\n",
       "      <td>21</td>\n",
       "      <td>1</td>\n",
       "      <td>No</td>\n",
       "      <td>Reasonable Suspicion</td>\n",
       "      <td>Officer witnessed commission of a crime</td>\n",
       "      <td>White</td>\n",
       "      <td>Citation for infraction</td>\n",
       "      <td>Curbside detention</td>\n",
       "    </tr>\n",
       "    <tr>\n",
       "      <th>109</th>\n",
       "      <td>1</td>\n",
       "      <td>2018-07-01</td>\n",
       "      <td>05:42:21</td>\n",
       "      <td>83</td>\n",
       "      <td>0</td>\n",
       "      <td>1</td>\n",
       "      <td>Patrol, traffic enforcement, field operations</td>\n",
       "      <td>Golden Hill 517</td>\n",
       "      <td>0</td>\n",
       "      <td>55</td>\n",
       "      <td>1</td>\n",
       "      <td>No</td>\n",
       "      <td>Traffic Violation</td>\n",
       "      <td>Non-moving Violation, including Registration V...</td>\n",
       "      <td>White</td>\n",
       "      <td>Citation for infraction</td>\n",
       "      <td>Vehicle impounded</td>\n",
       "    </tr>\n",
       "  </tbody>\n",
       "</table>\n",
       "</div>"
      ],
      "text/plain": [
       "     exp_years    stopdate  stoptime  stopduration  stop_in_response_to_cfs  \\\n",
       "25           1  2018-07-01  01:03:00            15                        0   \n",
       "33           2  2018-07-01  01:52:51            12                        0   \n",
       "93           1  2018-07-01  05:00:49            20                        0   \n",
       "95          10  2018-07-01  05:29:26            15                        0   \n",
       "109          1  2018-07-01  05:42:21            83                        0   \n",
       "\n",
       "     officer_assignment_key                                     assignment  \\\n",
       "25                        1  Patrol, traffic enforcement, field operations   \n",
       "33                        1  Patrol, traffic enforcement, field operations   \n",
       "93                        1  Patrol, traffic enforcement, field operations   \n",
       "95                        1  Patrol, traffic enforcement, field operations   \n",
       "109                       1  Patrol, traffic enforcement, field operations   \n",
       "\n",
       "               beat_name  perceived_limited_english  perceived_age  gend  \\\n",
       "25     Pacific Beach 122                          0             35     1   \n",
       "33          La Jolla 124                          0             20     1   \n",
       "93   Sorrento Valley 931                          0             22     2   \n",
       "95     Pacific Beach 122                          0             21     1   \n",
       "109      Golden Hill 517                          0             55     1   \n",
       "\n",
       "    perceived_lgbt       reason_for_stop  \\\n",
       "25              No     Traffic Violation   \n",
       "33              No     Traffic Violation   \n",
       "93              No     Traffic Violation   \n",
       "95              No  Reasonable Suspicion   \n",
       "109             No     Traffic Violation   \n",
       "\n",
       "                                reason_for_stop_detail  \\\n",
       "25                                    Moving Violation   \n",
       "33                                    Moving Violation   \n",
       "93                                 Equipment Violation   \n",
       "95             Officer witnessed commission of a crime   \n",
       "109  Non-moving Violation, including Registration V...   \n",
       "\n",
       "                              race                   result  \\\n",
       "25   Middle Eastern or South Asian  Citation for infraction   \n",
       "33                           White  Citation for infraction   \n",
       "93                           Asian  Citation for infraction   \n",
       "95                           White  Citation for infraction   \n",
       "109                          White  Citation for infraction   \n",
       "\n",
       "                 action  \n",
       "25                 None  \n",
       "33                 None  \n",
       "93                 None  \n",
       "95   Curbside detention  \n",
       "109   Vehicle impounded  "
      ]
     },
     "execution_count": 10,
     "metadata": {},
     "output_type": "execute_result"
    }
   ],
   "source": [
    "test = df[mask]\n",
    "test.head()"
   ]
  },
  {
   "cell_type": "code",
   "execution_count": 11,
   "metadata": {},
   "outputs": [
    {
     "data": {
      "text/plain": [
       "(114768, 17)"
      ]
     },
     "execution_count": 11,
     "metadata": {},
     "output_type": "execute_result"
    }
   ],
   "source": [
    "# Narrowing result columns to ticket or non-ticket actions\n",
    "list = ['No Action','Warning (verbal or written)', 'Citation for infraction']\n",
    "test = df[df.result.isin(list)]\n",
    "test.shape"
   ]
  },
  {
   "cell_type": "code",
   "execution_count": 12,
   "metadata": {},
   "outputs": [
    {
     "data": {
      "text/plain": [
       "Citation for infraction        46469\n",
       "Warning (verbal or written)    36003\n",
       "No Action                      32296\n",
       "Name: result, dtype: int64"
      ]
     },
     "execution_count": 12,
     "metadata": {},
     "output_type": "execute_result"
    }
   ],
   "source": [
    "# Confirming that only ticketed and non-ticketed stops are included\n",
    "test.result.value_counts()"
   ]
  },
  {
   "cell_type": "code",
   "execution_count": 13,
   "metadata": {},
   "outputs": [
    {
     "data": {
      "text/plain": [
       "(114768, 17)"
      ]
     },
     "execution_count": 13,
     "metadata": {},
     "output_type": "execute_result"
    }
   ],
   "source": [
    "# Applying to df\n",
    "df = df[df.result.isin(list)]\n",
    "df.shape"
   ]
  },
  {
   "cell_type": "code",
   "execution_count": 14,
   "metadata": {
    "scrolled": true
   },
   "outputs": [
    {
     "data": {
      "text/html": [
       "<div>\n",
       "<style scoped>\n",
       "    .dataframe tbody tr th:only-of-type {\n",
       "        vertical-align: middle;\n",
       "    }\n",
       "\n",
       "    .dataframe tbody tr th {\n",
       "        vertical-align: top;\n",
       "    }\n",
       "\n",
       "    .dataframe thead th {\n",
       "        text-align: right;\n",
       "    }\n",
       "</style>\n",
       "<table border=\"1\" class=\"dataframe\">\n",
       "  <thead>\n",
       "    <tr style=\"text-align: right;\">\n",
       "      <th></th>\n",
       "      <th>exp_years</th>\n",
       "      <th>stopdate</th>\n",
       "      <th>stoptime</th>\n",
       "      <th>stopduration</th>\n",
       "      <th>stop_in_response_to_cfs</th>\n",
       "      <th>officer_assignment_key</th>\n",
       "      <th>assignment</th>\n",
       "      <th>beat_name</th>\n",
       "      <th>perceived_limited_english</th>\n",
       "      <th>perceived_age</th>\n",
       "      <th>gend</th>\n",
       "      <th>perceived_lgbt</th>\n",
       "      <th>reason_for_stop</th>\n",
       "      <th>reason_for_stop_detail</th>\n",
       "      <th>race</th>\n",
       "      <th>result</th>\n",
       "      <th>action</th>\n",
       "    </tr>\n",
       "  </thead>\n",
       "  <tbody>\n",
       "    <tr>\n",
       "      <th>1</th>\n",
       "      <td>18</td>\n",
       "      <td>2018-07-01</td>\n",
       "      <td>00:03:34</td>\n",
       "      <td>10</td>\n",
       "      <td>0</td>\n",
       "      <td>1</td>\n",
       "      <td>Patrol, traffic enforcement, field operations</td>\n",
       "      <td>Mission Beach 121</td>\n",
       "      <td>0</td>\n",
       "      <td>25</td>\n",
       "      <td>1</td>\n",
       "      <td>No</td>\n",
       "      <td>Traffic Violation</td>\n",
       "      <td>Moving Violation</td>\n",
       "      <td>White</td>\n",
       "      <td>Warning (verbal or written)</td>\n",
       "      <td>None</td>\n",
       "    </tr>\n",
       "    <tr>\n",
       "      <th>2</th>\n",
       "      <td>1</td>\n",
       "      <td>2018-07-01</td>\n",
       "      <td>00:05:43</td>\n",
       "      <td>15</td>\n",
       "      <td>1</td>\n",
       "      <td>10</td>\n",
       "      <td>Other</td>\n",
       "      <td>El Cerrito 822</td>\n",
       "      <td>0</td>\n",
       "      <td>30</td>\n",
       "      <td>1</td>\n",
       "      <td>No</td>\n",
       "      <td>Reasonable Suspicion</td>\n",
       "      <td>Matched suspect description</td>\n",
       "      <td>Hispanic/Latino/a</td>\n",
       "      <td>No Action</td>\n",
       "      <td>Curbside detention</td>\n",
       "    </tr>\n",
       "    <tr>\n",
       "      <th>3</th>\n",
       "      <td>1</td>\n",
       "      <td>2018-07-01</td>\n",
       "      <td>00:05:43</td>\n",
       "      <td>15</td>\n",
       "      <td>1</td>\n",
       "      <td>10</td>\n",
       "      <td>Other</td>\n",
       "      <td>El Cerrito 822</td>\n",
       "      <td>0</td>\n",
       "      <td>30</td>\n",
       "      <td>2</td>\n",
       "      <td>No</td>\n",
       "      <td>Reasonable Suspicion</td>\n",
       "      <td>Other Reasonable Suspicion of a crime</td>\n",
       "      <td>Hispanic/Latino/a</td>\n",
       "      <td>No Action</td>\n",
       "      <td>Curbside detention</td>\n",
       "    </tr>\n",
       "    <tr>\n",
       "      <th>4</th>\n",
       "      <td>3</td>\n",
       "      <td>2018-07-01</td>\n",
       "      <td>00:19:06</td>\n",
       "      <td>5</td>\n",
       "      <td>0</td>\n",
       "      <td>1</td>\n",
       "      <td>Patrol, traffic enforcement, field operations</td>\n",
       "      <td>Ocean Beach 614</td>\n",
       "      <td>0</td>\n",
       "      <td>23</td>\n",
       "      <td>1</td>\n",
       "      <td>No</td>\n",
       "      <td>Traffic Violation</td>\n",
       "      <td>Moving Violation</td>\n",
       "      <td>White</td>\n",
       "      <td>No Action</td>\n",
       "      <td>None</td>\n",
       "    </tr>\n",
       "    <tr>\n",
       "      <th>16</th>\n",
       "      <td>4</td>\n",
       "      <td>2018-07-01</td>\n",
       "      <td>00:33:19</td>\n",
       "      <td>3</td>\n",
       "      <td>0</td>\n",
       "      <td>2</td>\n",
       "      <td>Gang enforcement</td>\n",
       "      <td>Colina Del Sol 826</td>\n",
       "      <td>0</td>\n",
       "      <td>30</td>\n",
       "      <td>1</td>\n",
       "      <td>No</td>\n",
       "      <td>Traffic Violation</td>\n",
       "      <td>Non-moving Violation, including Registration V...</td>\n",
       "      <td>Black/African American</td>\n",
       "      <td>No Action</td>\n",
       "      <td>None</td>\n",
       "    </tr>\n",
       "  </tbody>\n",
       "</table>\n",
       "</div>"
      ],
      "text/plain": [
       "    exp_years    stopdate  stoptime  stopduration  stop_in_response_to_cfs  \\\n",
       "1          18  2018-07-01  00:03:34            10                        0   \n",
       "2           1  2018-07-01  00:05:43            15                        1   \n",
       "3           1  2018-07-01  00:05:43            15                        1   \n",
       "4           3  2018-07-01  00:19:06             5                        0   \n",
       "16          4  2018-07-01  00:33:19             3                        0   \n",
       "\n",
       "    officer_assignment_key                                     assignment  \\\n",
       "1                        1  Patrol, traffic enforcement, field operations   \n",
       "2                       10                                          Other   \n",
       "3                       10                                          Other   \n",
       "4                        1  Patrol, traffic enforcement, field operations   \n",
       "16                       2                               Gang enforcement   \n",
       "\n",
       "             beat_name  perceived_limited_english  perceived_age  gend  \\\n",
       "1    Mission Beach 121                          0             25     1   \n",
       "2       El Cerrito 822                          0             30     1   \n",
       "3       El Cerrito 822                          0             30     2   \n",
       "4      Ocean Beach 614                          0             23     1   \n",
       "16  Colina Del Sol 826                          0             30     1   \n",
       "\n",
       "   perceived_lgbt       reason_for_stop  \\\n",
       "1              No     Traffic Violation   \n",
       "2              No  Reasonable Suspicion   \n",
       "3              No  Reasonable Suspicion   \n",
       "4              No     Traffic Violation   \n",
       "16             No     Traffic Violation   \n",
       "\n",
       "                               reason_for_stop_detail                    race  \\\n",
       "1                                    Moving Violation                   White   \n",
       "2                         Matched suspect description       Hispanic/Latino/a   \n",
       "3               Other Reasonable Suspicion of a crime       Hispanic/Latino/a   \n",
       "4                                    Moving Violation                   White   \n",
       "16  Non-moving Violation, including Registration V...  Black/African American   \n",
       "\n",
       "                         result              action  \n",
       "1   Warning (verbal or written)                None  \n",
       "2                     No Action  Curbside detention  \n",
       "3                     No Action  Curbside detention  \n",
       "4                     No Action                None  \n",
       "16                    No Action                None  "
      ]
     },
     "execution_count": 14,
     "metadata": {},
     "output_type": "execute_result"
    }
   ],
   "source": [
    "df.head()"
   ]
  },
  {
   "cell_type": "markdown",
   "metadata": {},
   "source": [
    "# Feature Engineering"
   ]
  },
  {
   "cell_type": "code",
   "execution_count": 15,
   "metadata": {
    "scrolled": true
   },
   "outputs": [
    {
     "data": {
      "text/html": [
       "<div>\n",
       "<style scoped>\n",
       "    .dataframe tbody tr th:only-of-type {\n",
       "        vertical-align: middle;\n",
       "    }\n",
       "\n",
       "    .dataframe tbody tr th {\n",
       "        vertical-align: top;\n",
       "    }\n",
       "\n",
       "    .dataframe thead th {\n",
       "        text-align: right;\n",
       "    }\n",
       "</style>\n",
       "<table border=\"1\" class=\"dataframe\">\n",
       "  <thead>\n",
       "    <tr style=\"text-align: right;\">\n",
       "      <th></th>\n",
       "      <th>exp_years</th>\n",
       "      <th>stoptime</th>\n",
       "      <th>stopduration</th>\n",
       "      <th>stop_in_response_to_cfs</th>\n",
       "      <th>officer_assignment_key</th>\n",
       "      <th>assignment</th>\n",
       "      <th>beat_name</th>\n",
       "      <th>perceived_limited_english</th>\n",
       "      <th>perceived_age</th>\n",
       "      <th>gend</th>\n",
       "      <th>perceived_lgbt</th>\n",
       "      <th>reason_for_stop</th>\n",
       "      <th>reason_for_stop_detail</th>\n",
       "      <th>race</th>\n",
       "      <th>result</th>\n",
       "      <th>action</th>\n",
       "      <th>month</th>\n",
       "      <th>year</th>\n",
       "      <th>day</th>\n",
       "    </tr>\n",
       "  </thead>\n",
       "  <tbody>\n",
       "    <tr>\n",
       "      <th>1</th>\n",
       "      <td>18</td>\n",
       "      <td>00:03:34</td>\n",
       "      <td>10</td>\n",
       "      <td>0</td>\n",
       "      <td>1</td>\n",
       "      <td>Patrol, traffic enforcement, field operations</td>\n",
       "      <td>Mission Beach 121</td>\n",
       "      <td>0</td>\n",
       "      <td>25</td>\n",
       "      <td>1</td>\n",
       "      <td>No</td>\n",
       "      <td>Traffic Violation</td>\n",
       "      <td>Moving Violation</td>\n",
       "      <td>White</td>\n",
       "      <td>Warning (verbal or written)</td>\n",
       "      <td>None</td>\n",
       "      <td>7</td>\n",
       "      <td>2018</td>\n",
       "      <td>1</td>\n",
       "    </tr>\n",
       "    <tr>\n",
       "      <th>2</th>\n",
       "      <td>1</td>\n",
       "      <td>00:05:43</td>\n",
       "      <td>15</td>\n",
       "      <td>1</td>\n",
       "      <td>10</td>\n",
       "      <td>Other</td>\n",
       "      <td>El Cerrito 822</td>\n",
       "      <td>0</td>\n",
       "      <td>30</td>\n",
       "      <td>1</td>\n",
       "      <td>No</td>\n",
       "      <td>Reasonable Suspicion</td>\n",
       "      <td>Matched suspect description</td>\n",
       "      <td>Hispanic/Latino/a</td>\n",
       "      <td>No Action</td>\n",
       "      <td>Curbside detention</td>\n",
       "      <td>7</td>\n",
       "      <td>2018</td>\n",
       "      <td>1</td>\n",
       "    </tr>\n",
       "    <tr>\n",
       "      <th>3</th>\n",
       "      <td>1</td>\n",
       "      <td>00:05:43</td>\n",
       "      <td>15</td>\n",
       "      <td>1</td>\n",
       "      <td>10</td>\n",
       "      <td>Other</td>\n",
       "      <td>El Cerrito 822</td>\n",
       "      <td>0</td>\n",
       "      <td>30</td>\n",
       "      <td>2</td>\n",
       "      <td>No</td>\n",
       "      <td>Reasonable Suspicion</td>\n",
       "      <td>Other Reasonable Suspicion of a crime</td>\n",
       "      <td>Hispanic/Latino/a</td>\n",
       "      <td>No Action</td>\n",
       "      <td>Curbside detention</td>\n",
       "      <td>7</td>\n",
       "      <td>2018</td>\n",
       "      <td>1</td>\n",
       "    </tr>\n",
       "    <tr>\n",
       "      <th>4</th>\n",
       "      <td>3</td>\n",
       "      <td>00:19:06</td>\n",
       "      <td>5</td>\n",
       "      <td>0</td>\n",
       "      <td>1</td>\n",
       "      <td>Patrol, traffic enforcement, field operations</td>\n",
       "      <td>Ocean Beach 614</td>\n",
       "      <td>0</td>\n",
       "      <td>23</td>\n",
       "      <td>1</td>\n",
       "      <td>No</td>\n",
       "      <td>Traffic Violation</td>\n",
       "      <td>Moving Violation</td>\n",
       "      <td>White</td>\n",
       "      <td>No Action</td>\n",
       "      <td>None</td>\n",
       "      <td>7</td>\n",
       "      <td>2018</td>\n",
       "      <td>1</td>\n",
       "    </tr>\n",
       "    <tr>\n",
       "      <th>16</th>\n",
       "      <td>4</td>\n",
       "      <td>00:33:19</td>\n",
       "      <td>3</td>\n",
       "      <td>0</td>\n",
       "      <td>2</td>\n",
       "      <td>Gang enforcement</td>\n",
       "      <td>Colina Del Sol 826</td>\n",
       "      <td>0</td>\n",
       "      <td>30</td>\n",
       "      <td>1</td>\n",
       "      <td>No</td>\n",
       "      <td>Traffic Violation</td>\n",
       "      <td>Non-moving Violation, including Registration V...</td>\n",
       "      <td>Black/African American</td>\n",
       "      <td>No Action</td>\n",
       "      <td>None</td>\n",
       "      <td>7</td>\n",
       "      <td>2018</td>\n",
       "      <td>1</td>\n",
       "    </tr>\n",
       "  </tbody>\n",
       "</table>\n",
       "</div>"
      ],
      "text/plain": [
       "    exp_years  stoptime  stopduration  stop_in_response_to_cfs  \\\n",
       "1          18  00:03:34            10                        0   \n",
       "2           1  00:05:43            15                        1   \n",
       "3           1  00:05:43            15                        1   \n",
       "4           3  00:19:06             5                        0   \n",
       "16          4  00:33:19             3                        0   \n",
       "\n",
       "    officer_assignment_key                                     assignment  \\\n",
       "1                        1  Patrol, traffic enforcement, field operations   \n",
       "2                       10                                          Other   \n",
       "3                       10                                          Other   \n",
       "4                        1  Patrol, traffic enforcement, field operations   \n",
       "16                       2                               Gang enforcement   \n",
       "\n",
       "             beat_name  perceived_limited_english  perceived_age  gend  \\\n",
       "1    Mission Beach 121                          0             25     1   \n",
       "2       El Cerrito 822                          0             30     1   \n",
       "3       El Cerrito 822                          0             30     2   \n",
       "4      Ocean Beach 614                          0             23     1   \n",
       "16  Colina Del Sol 826                          0             30     1   \n",
       "\n",
       "   perceived_lgbt       reason_for_stop  \\\n",
       "1              No     Traffic Violation   \n",
       "2              No  Reasonable Suspicion   \n",
       "3              No  Reasonable Suspicion   \n",
       "4              No     Traffic Violation   \n",
       "16             No     Traffic Violation   \n",
       "\n",
       "                               reason_for_stop_detail                    race  \\\n",
       "1                                    Moving Violation                   White   \n",
       "2                         Matched suspect description       Hispanic/Latino/a   \n",
       "3               Other Reasonable Suspicion of a crime       Hispanic/Latino/a   \n",
       "4                                    Moving Violation                   White   \n",
       "16  Non-moving Violation, including Registration V...  Black/African American   \n",
       "\n",
       "                         result              action  month  year  day  \n",
       "1   Warning (verbal or written)                None      7  2018    1  \n",
       "2                     No Action  Curbside detention      7  2018    1  \n",
       "3                     No Action  Curbside detention      7  2018    1  \n",
       "4                     No Action                None      7  2018    1  \n",
       "16                    No Action                None      7  2018    1  "
      ]
     },
     "execution_count": 15,
     "metadata": {},
     "output_type": "execute_result"
    }
   ],
   "source": [
    "# Engineering month, year features\n",
    "df.stopdate = pd.to_datetime(df.stopdate, infer_datetime_format=True)\n",
    "df['month'] = df.stopdate.dt.month\n",
    "df['year'] = df.stopdate.dt.year\n",
    "df['day'] = df.stopdate.dt.day\n",
    "\n",
    "df = df.drop(columns='stopdate')\n",
    "df.head()"
   ]
  },
  {
   "cell_type": "code",
   "execution_count": 16,
   "metadata": {
    "scrolled": true
   },
   "outputs": [],
   "source": [
    "# Creating ticket column\n",
    "# df['ticket'] = df['result'] == 'Citation for infraction'\n",
    "# df['no_ticket'] = df['result'] != 'Citation for infraction'\n",
    "# df.head()"
   ]
  },
  {
   "cell_type": "code",
   "execution_count": 17,
   "metadata": {},
   "outputs": [],
   "source": [
    "# Only including clean data rows from stoptime. This removes 28 rows\n",
    "df = df[df['stoptime'].str.len()<=8]"
   ]
  },
  {
   "cell_type": "code",
   "execution_count": 18,
   "metadata": {
    "scrolled": false
   },
   "outputs": [
    {
     "data": {
      "text/plain": [
       "1     0\n",
       "2     0\n",
       "3     0\n",
       "4     0\n",
       "16    0\n",
       "Name: stop_hour, dtype: int64"
      ]
     },
     "execution_count": 18,
     "metadata": {},
     "output_type": "execute_result"
    }
   ],
   "source": [
    "# Now binning stoptimes by hour of the day. 0-24\n",
    "df['stop_hour'] = pd.to_datetime(df['stoptime']).dt.hour\n",
    "df = df.drop(columns='stoptime')\n",
    "df.stop_hour.head()"
   ]
  },
  {
   "cell_type": "code",
   "execution_count": 19,
   "metadata": {},
   "outputs": [
    {
     "data": {
      "text/plain": [
       "dtype('int64')"
      ]
     },
     "execution_count": 19,
     "metadata": {},
     "output_type": "execute_result"
    }
   ],
   "source": [
    "df.stop_hour.dtype"
   ]
  },
  {
   "cell_type": "code",
   "execution_count": 20,
   "metadata": {
    "scrolled": true
   },
   "outputs": [
    {
     "data": {
      "text/html": [
       "<div>\n",
       "<style scoped>\n",
       "    .dataframe tbody tr th:only-of-type {\n",
       "        vertical-align: middle;\n",
       "    }\n",
       "\n",
       "    .dataframe tbody tr th {\n",
       "        vertical-align: top;\n",
       "    }\n",
       "\n",
       "    .dataframe thead th {\n",
       "        text-align: right;\n",
       "    }\n",
       "</style>\n",
       "<table border=\"1\" class=\"dataframe\">\n",
       "  <thead>\n",
       "    <tr style=\"text-align: right;\">\n",
       "      <th></th>\n",
       "      <th>exp_years</th>\n",
       "      <th>stopduration</th>\n",
       "      <th>stop_in_response_to_cfs</th>\n",
       "      <th>officer_assignment_key</th>\n",
       "      <th>assignment</th>\n",
       "      <th>beat_name</th>\n",
       "      <th>perceived_limited_english</th>\n",
       "      <th>perceived_age</th>\n",
       "      <th>gend</th>\n",
       "      <th>perceived_lgbt</th>\n",
       "      <th>...</th>\n",
       "      <th>race</th>\n",
       "      <th>result</th>\n",
       "      <th>action</th>\n",
       "      <th>month</th>\n",
       "      <th>year</th>\n",
       "      <th>day</th>\n",
       "      <th>stop_hour</th>\n",
       "      <th>morning</th>\n",
       "      <th>afternoon</th>\n",
       "      <th>night</th>\n",
       "    </tr>\n",
       "  </thead>\n",
       "  <tbody>\n",
       "    <tr>\n",
       "      <th>1</th>\n",
       "      <td>18</td>\n",
       "      <td>10</td>\n",
       "      <td>0</td>\n",
       "      <td>1</td>\n",
       "      <td>Patrol, traffic enforcement, field operations</td>\n",
       "      <td>Mission Beach 121</td>\n",
       "      <td>0</td>\n",
       "      <td>25</td>\n",
       "      <td>1</td>\n",
       "      <td>No</td>\n",
       "      <td>...</td>\n",
       "      <td>White</td>\n",
       "      <td>Warning (verbal or written)</td>\n",
       "      <td>None</td>\n",
       "      <td>7</td>\n",
       "      <td>2018</td>\n",
       "      <td>1</td>\n",
       "      <td>0</td>\n",
       "      <td>False</td>\n",
       "      <td>False</td>\n",
       "      <td>True</td>\n",
       "    </tr>\n",
       "    <tr>\n",
       "      <th>2</th>\n",
       "      <td>1</td>\n",
       "      <td>15</td>\n",
       "      <td>1</td>\n",
       "      <td>10</td>\n",
       "      <td>Other</td>\n",
       "      <td>El Cerrito 822</td>\n",
       "      <td>0</td>\n",
       "      <td>30</td>\n",
       "      <td>1</td>\n",
       "      <td>No</td>\n",
       "      <td>...</td>\n",
       "      <td>Hispanic/Latino/a</td>\n",
       "      <td>No Action</td>\n",
       "      <td>Curbside detention</td>\n",
       "      <td>7</td>\n",
       "      <td>2018</td>\n",
       "      <td>1</td>\n",
       "      <td>0</td>\n",
       "      <td>False</td>\n",
       "      <td>False</td>\n",
       "      <td>True</td>\n",
       "    </tr>\n",
       "    <tr>\n",
       "      <th>3</th>\n",
       "      <td>1</td>\n",
       "      <td>15</td>\n",
       "      <td>1</td>\n",
       "      <td>10</td>\n",
       "      <td>Other</td>\n",
       "      <td>El Cerrito 822</td>\n",
       "      <td>0</td>\n",
       "      <td>30</td>\n",
       "      <td>2</td>\n",
       "      <td>No</td>\n",
       "      <td>...</td>\n",
       "      <td>Hispanic/Latino/a</td>\n",
       "      <td>No Action</td>\n",
       "      <td>Curbside detention</td>\n",
       "      <td>7</td>\n",
       "      <td>2018</td>\n",
       "      <td>1</td>\n",
       "      <td>0</td>\n",
       "      <td>False</td>\n",
       "      <td>False</td>\n",
       "      <td>True</td>\n",
       "    </tr>\n",
       "    <tr>\n",
       "      <th>4</th>\n",
       "      <td>3</td>\n",
       "      <td>5</td>\n",
       "      <td>0</td>\n",
       "      <td>1</td>\n",
       "      <td>Patrol, traffic enforcement, field operations</td>\n",
       "      <td>Ocean Beach 614</td>\n",
       "      <td>0</td>\n",
       "      <td>23</td>\n",
       "      <td>1</td>\n",
       "      <td>No</td>\n",
       "      <td>...</td>\n",
       "      <td>White</td>\n",
       "      <td>No Action</td>\n",
       "      <td>None</td>\n",
       "      <td>7</td>\n",
       "      <td>2018</td>\n",
       "      <td>1</td>\n",
       "      <td>0</td>\n",
       "      <td>False</td>\n",
       "      <td>False</td>\n",
       "      <td>True</td>\n",
       "    </tr>\n",
       "    <tr>\n",
       "      <th>16</th>\n",
       "      <td>4</td>\n",
       "      <td>3</td>\n",
       "      <td>0</td>\n",
       "      <td>2</td>\n",
       "      <td>Gang enforcement</td>\n",
       "      <td>Colina Del Sol 826</td>\n",
       "      <td>0</td>\n",
       "      <td>30</td>\n",
       "      <td>1</td>\n",
       "      <td>No</td>\n",
       "      <td>...</td>\n",
       "      <td>Black/African American</td>\n",
       "      <td>No Action</td>\n",
       "      <td>None</td>\n",
       "      <td>7</td>\n",
       "      <td>2018</td>\n",
       "      <td>1</td>\n",
       "      <td>0</td>\n",
       "      <td>False</td>\n",
       "      <td>False</td>\n",
       "      <td>True</td>\n",
       "    </tr>\n",
       "  </tbody>\n",
       "</table>\n",
       "<p>5 rows × 22 columns</p>\n",
       "</div>"
      ],
      "text/plain": [
       "    exp_years  stopduration  stop_in_response_to_cfs  officer_assignment_key  \\\n",
       "1          18            10                        0                       1   \n",
       "2           1            15                        1                      10   \n",
       "3           1            15                        1                      10   \n",
       "4           3             5                        0                       1   \n",
       "16          4             3                        0                       2   \n",
       "\n",
       "                                       assignment           beat_name  \\\n",
       "1   Patrol, traffic enforcement, field operations   Mission Beach 121   \n",
       "2                                           Other      El Cerrito 822   \n",
       "3                                           Other      El Cerrito 822   \n",
       "4   Patrol, traffic enforcement, field operations     Ocean Beach 614   \n",
       "16                               Gang enforcement  Colina Del Sol 826   \n",
       "\n",
       "    perceived_limited_english  perceived_age  gend perceived_lgbt  ...    \\\n",
       "1                           0             25     1             No  ...     \n",
       "2                           0             30     1             No  ...     \n",
       "3                           0             30     2             No  ...     \n",
       "4                           0             23     1             No  ...     \n",
       "16                          0             30     1             No  ...     \n",
       "\n",
       "                      race                       result              action  \\\n",
       "1                    White  Warning (verbal or written)                None   \n",
       "2        Hispanic/Latino/a                    No Action  Curbside detention   \n",
       "3        Hispanic/Latino/a                    No Action  Curbside detention   \n",
       "4                    White                    No Action                None   \n",
       "16  Black/African American                    No Action                None   \n",
       "\n",
       "   month  year  day  stop_hour  morning  afternoon  night  \n",
       "1      7  2018    1          0    False      False   True  \n",
       "2      7  2018    1          0    False      False   True  \n",
       "3      7  2018    1          0    False      False   True  \n",
       "4      7  2018    1          0    False      False   True  \n",
       "16     7  2018    1          0    False      False   True  \n",
       "\n",
       "[5 rows x 22 columns]"
      ]
     },
     "execution_count": 20,
     "metadata": {},
     "output_type": "execute_result"
    }
   ],
   "source": [
    "# Further binning stop_hour into chunks of time. Conventionally, i think more tickets will happen at odd hours\n",
    "# (Like 2 in the morning or something)\n",
    "df['morning'] = (df['stop_hour'] < 12) & (df['stop_hour'] >= 6)\n",
    "df['afternoon'] = (df['stop_hour'] >= 12) & (df['stop_hour'] < 19)\n",
    "df['night'] = (df['stop_hour'] >= 19) | (df['stop_hour'] < 6) | (df['stop_hour'] == 0)\n",
    "\n",
    "df.head()"
   ]
  },
  {
   "cell_type": "markdown",
   "metadata": {},
   "source": [
    "# Create train, val, test dataframes"
   ]
  },
  {
   "cell_type": "code",
   "execution_count": 21,
   "metadata": {},
   "outputs": [],
   "source": [
    "# get features and target\n",
    "\n",
    "target = 'result'\n",
    "\n",
    "features = df.columns.drop('result')"
   ]
  },
  {
   "cell_type": "code",
   "execution_count": 22,
   "metadata": {
    "scrolled": true
   },
   "outputs": [
    {
     "data": {
      "text/plain": [
       "Index(['exp_years', 'stopduration', 'stop_in_response_to_cfs',\n",
       "       'officer_assignment_key', 'assignment', 'beat_name',\n",
       "       'perceived_limited_english', 'perceived_age', 'gend', 'perceived_lgbt',\n",
       "       'reason_for_stop', 'reason_for_stop_detail', 'race', 'action', 'month',\n",
       "       'year', 'day', 'stop_hour', 'morning', 'afternoon', 'night'],\n",
       "      dtype='object')"
      ]
     },
     "execution_count": 22,
     "metadata": {},
     "output_type": "execute_result"
    }
   ],
   "source": [
    "features"
   ]
  },
  {
   "cell_type": "code",
   "execution_count": 23,
   "metadata": {},
   "outputs": [
    {
     "data": {
      "text/plain": [
       "(114767, 22)"
      ]
     },
     "execution_count": 23,
     "metadata": {},
     "output_type": "execute_result"
    }
   ],
   "source": [
    "df.shape"
   ]
  },
  {
   "cell_type": "code",
   "execution_count": 24,
   "metadata": {},
   "outputs": [
    {
     "data": {
      "text/plain": [
       "exp_years                       0\n",
       "stopduration                    0\n",
       "stop_in_response_to_cfs         0\n",
       "officer_assignment_key          0\n",
       "assignment                      0\n",
       "beat_name                       0\n",
       "perceived_limited_english       0\n",
       "perceived_age                   0\n",
       "gend                            0\n",
       "perceived_lgbt                  0\n",
       "reason_for_stop                 0\n",
       "reason_for_stop_detail       5501\n",
       "race                            0\n",
       "result                          0\n",
       "action                          0\n",
       "month                           0\n",
       "year                            0\n",
       "day                             0\n",
       "stop_hour                       0\n",
       "morning                         0\n",
       "afternoon                       0\n",
       "night                           0\n",
       "dtype: int64"
      ]
     },
     "execution_count": 24,
     "metadata": {},
     "output_type": "execute_result"
    }
   ],
   "source": [
    "df.isnull().sum()"
   ]
  },
  {
   "cell_type": "code",
   "execution_count": 25,
   "metadata": {
    "scrolled": false
   },
   "outputs": [
    {
     "data": {
      "text/plain": [
       "exp_years                    0\n",
       "stopduration                 0\n",
       "stop_in_response_to_cfs      0\n",
       "officer_assignment_key       0\n",
       "assignment                   0\n",
       "beat_name                    0\n",
       "perceived_limited_english    0\n",
       "perceived_age                0\n",
       "gend                         0\n",
       "perceived_lgbt               0\n",
       "reason_for_stop              0\n",
       "reason_for_stop_detail       0\n",
       "race                         0\n",
       "result                       0\n",
       "action                       0\n",
       "month                        0\n",
       "year                         0\n",
       "day                          0\n",
       "stop_hour                    0\n",
       "morning                      0\n",
       "afternoon                    0\n",
       "night                        0\n",
       "dtype: int64"
      ]
     },
     "execution_count": 25,
     "metadata": {},
     "output_type": "execute_result"
    }
   ],
   "source": [
    "df = df.dropna()\n",
    "df.isnull().sum()"
   ]
  },
  {
   "cell_type": "code",
   "execution_count": 26,
   "metadata": {},
   "outputs": [
    {
     "data": {
      "text/plain": [
       "(109266, 22)"
      ]
     },
     "execution_count": 26,
     "metadata": {},
     "output_type": "execute_result"
    }
   ],
   "source": [
    "train = df\n",
    "train.shape"
   ]
  },
  {
   "cell_type": "code",
   "execution_count": 27,
   "metadata": {},
   "outputs": [
    {
     "data": {
      "text/plain": [
       "((87412, 22), (21854, 22))"
      ]
     },
     "execution_count": 27,
     "metadata": {},
     "output_type": "execute_result"
    }
   ],
   "source": [
    "from sklearn.model_selection import train_test_split\n",
    "\n",
    "# Split train into train & test, then will split train again into train and val\n",
    "train, test = train_test_split(train, train_size=0.80, test_size=0.20, \n",
    "                              stratify=train[target], random_state=42)\n",
    "train.shape, test.shape"
   ]
  },
  {
   "cell_type": "code",
   "execution_count": 28,
   "metadata": {
    "scrolled": true
   },
   "outputs": [
    {
     "data": {
      "text/plain": [
       "((69929, 22), (17483, 22), (21854, 22))"
      ]
     },
     "execution_count": 28,
     "metadata": {},
     "output_type": "execute_result"
    }
   ],
   "source": [
    "# Split train into train & val\n",
    "train, val = train_test_split(train, train_size=0.80, test_size=0.20, \n",
    "                              stratify=train['result'], random_state=42)\n",
    "train.shape,val.shape,test.shape"
   ]
  },
  {
   "cell_type": "code",
   "execution_count": 29,
   "metadata": {},
   "outputs": [
    {
     "data": {
      "text/plain": [
       "((69929, 22), (17483, 22), (21854, 22), (50000, 22), (18363, 22))"
      ]
     },
     "execution_count": 29,
     "metadata": {},
     "output_type": "execute_result"
    }
   ],
   "source": [
    "# The app has a max of 100 MB. so going make a smaller data set for the app to make predictions on.\n",
    "# The notebook will still make predictions on the full data set, there will just be a separate dataset for the app.\n",
    "app_train, app_val = train_test_split(train, train_size=50000, test_size=18363, \n",
    "                              stratify=train['result'], random_state=42)\n",
    "train.shape,val.shape,test.shape, app_train.shape, app_val.shape"
   ]
  },
  {
   "cell_type": "code",
   "execution_count": 30,
   "metadata": {
    "scrolled": false
   },
   "outputs": [
    {
     "name": "stdout",
     "output_type": "stream",
     "text": [
      "X_train shape (69929, 21)\n",
      "y_train shape (69929,)\n",
      "X_val shape (17483, 21)\n",
      "y_val shape (17483,)\n",
      "X_test shape (21854, 21)\n",
      "y_test shape (21854,)\n",
      "app_train_X shape (50000, 21)\n",
      "app_train_y shape (50000,)\n",
      "app_val_X shape (18363, 21)\n",
      "app_val_y shape (18363,)\n"
     ]
    }
   ],
   "source": [
    "# Arrange data into X features matrix and y target vector\n",
    "target = 'result'\n",
    "X_train = train.drop(columns=target)\n",
    "y_train = train[target]\n",
    "X_val = val.drop(columns=target)\n",
    "y_val = val[target]\n",
    "X_test = test.drop(columns=target)\n",
    "y_test = test[target]\n",
    "\n",
    "# And for the app data\n",
    "app_train_X = app_train.drop(columns=target)\n",
    "app_train_y = app_train[target]\n",
    "app_val_X = app_val.drop(columns=target)\n",
    "app_val_y = app_val[target]\n",
    "# Check shapes\n",
    "print('X_train shape', X_train.shape)\n",
    "print('y_train shape', y_train.shape)\n",
    "print('X_val shape', X_val.shape)\n",
    "print('y_val shape', y_val.shape)\n",
    "print('X_test shape', X_test.shape)\n",
    "print('y_test shape', y_test.shape)\n",
    "print('app_train_X shape', app_train_X.shape)\n",
    "print('app_train_y shape', app_train_y.shape)\n",
    "print('app_val_X shape', app_val_X.shape)\n",
    "print('app_val_y shape', app_val_y.shape)"
   ]
  },
  {
   "cell_type": "markdown",
   "metadata": {},
   "source": [
    "# Get accuracy score for majority baseline"
   ]
  },
  {
   "cell_type": "code",
   "execution_count": 31,
   "metadata": {
    "scrolled": false
   },
   "outputs": [
    {
     "data": {
      "text/plain": [
       "Citation for infraction        0.419869\n",
       "Warning (verbal or written)    0.324629\n",
       "No Action                      0.255502\n",
       "Name: result, dtype: float64"
      ]
     },
     "execution_count": 31,
     "metadata": {},
     "output_type": "execute_result"
    }
   ],
   "source": [
    "# Get accuracy score for majority class baseline\n",
    "y_train.value_counts(normalize=True)"
   ]
  },
  {
   "cell_type": "code",
   "execution_count": 32,
   "metadata": {
    "scrolled": true
   },
   "outputs": [
    {
     "data": {
      "text/plain": [
       "0.4198364125150146"
      ]
     },
     "execution_count": 32,
     "metadata": {},
     "output_type": "execute_result"
    }
   ],
   "source": [
    "import numpy as np\n",
    "from sklearn.metrics import accuracy_score\n",
    "\n",
    "majority_class = y_train.mode()[0]\n",
    "y_pred = np.full_like(y_val, fill_value=majority_class)\n",
    "accuracy_score(y_val, y_pred)"
   ]
  },
  {
   "cell_type": "markdown",
   "metadata": {},
   "source": [
    "# Create Model - Random Forest"
   ]
  },
  {
   "cell_type": "code",
   "execution_count": 33,
   "metadata": {
    "scrolled": true
   },
   "outputs": [
    {
     "name": "stdout",
     "output_type": "stream",
     "text": [
      "Validation Accuracy 0.7345993250586283\n",
      "Test Accuracy 0.7411457856685275\n"
     ]
    }
   ],
   "source": [
    "import category_encoders as ce\n",
    "from sklearn.ensemble import RandomForestClassifier\n",
    "from sklearn.pipeline import make_pipeline\n",
    "\n",
    "# Instantiate the class\n",
    "pipeline = make_pipeline(\n",
    "    ce.OrdinalEncoder(),\n",
    "    RandomForestClassifier(n_estimators=1000, n_jobs=-1, random_state=42, max_depth=20)\n",
    ")\n",
    "# Fit on training set, test on val set\n",
    "pipeline.fit(X_train, y_train)\n",
    "y_pred = pipeline.predict(X_val)\n",
    "print('Validation Accuracy', accuracy_score(y_val, y_pred))\n",
    "\n",
    "# Now predicting on test\n",
    "y_pred = pipeline.predict(X_test)\n",
    "print('Test Accuracy', accuracy_score(y_test, y_pred))"
   ]
  },
  {
   "cell_type": "code",
   "execution_count": 34,
   "metadata": {},
   "outputs": [
    {
     "name": "stdout",
     "output_type": "stream",
     "text": [
      "Test Accuracy 0.7411457856685275\n"
     ]
    }
   ],
   "source": [
    "y_pred = pipeline.predict(X_test)\n",
    "print('Test Accuracy', accuracy_score(y_test, y_pred))"
   ]
  },
  {
   "cell_type": "code",
   "execution_count": 35,
   "metadata": {},
   "outputs": [
    {
     "name": "stdout",
     "output_type": "stream",
     "text": [
      "Validation Accuracy 0.7294559712465284\n"
     ]
    }
   ],
   "source": [
    "# This forest is for the app\n",
    "import category_encoders as ce\n",
    "from sklearn.ensemble import RandomForestClassifier\n",
    "from sklearn.pipeline import make_pipeline\n",
    "\n",
    "app_pipeline = make_pipeline(\n",
    "    ce.OrdinalEncoder(),\n",
    "    RandomForestClassifier(n_estimators=100, n_jobs=-1, random_state=42, max_depth=20)\n",
    ")\n",
    "\n",
    "pipeline.fit(app_train_X, app_train_y)\n",
    "app_y_pred = pipeline.predict(app_val_X)\n",
    "print('Validation Accuracy', accuracy_score(app_val_y, app_y_pred))"
   ]
  },
  {
   "cell_type": "code",
   "execution_count": 36,
   "metadata": {},
   "outputs": [
    {
     "data": {
      "text/plain": [
       "['pipeline.joblib1']"
      ]
     },
     "execution_count": 36,
     "metadata": {},
     "output_type": "execute_result"
    }
   ],
   "source": [
    "# Pickling pipeline\n",
    "from joblib import dump\n",
    "dump(pipeline, 'pipeline.joblib1', compress=True)"
   ]
  },
  {
   "cell_type": "code",
   "execution_count": 37,
   "metadata": {
    "scrolled": true
   },
   "outputs": [
    {
     "data": {
      "image/png": "[encoded data removed]",
      "text/plain": [
       "<Figure size 720x720 with 1 Axes>"
      ]
     },
     "metadata": {
      "needs_background": "light"
     },
     "output_type": "display_data"
    }
   ],
   "source": [
    "# Get feature importances\n",
    "rf = pipeline.named_steps['randomforestclassifier']\n",
    "importances = pd.Series(rf.feature_importances_, X_train.columns)\n",
    "\n",
    "%matplotlib inline\n",
    "import matplotlib.pyplot as plt\n",
    "\n",
    "n=20\n",
    "plt.figure(figsize=(10, n/2))\n",
    "plt.title(f'Top {n} features')\n",
    "importances.sort_values()[-n:].plot.barh(color='grey');"
   ]
  },
  {
   "cell_type": "code",
   "execution_count": 38,
   "metadata": {
    "scrolled": true
   },
   "outputs": [
    {
     "data": {
      "text/html": [
       "\n",
       "    <style>\n",
       "    table.eli5-weights tr:hover {\n",
       "        filter: brightness(85%);\n",
       "    }\n",
       "</style>\n",
       "\n",
       "\n",
       "\n",
       "    \n",
       "\n",
       "    \n",
       "\n",
       "    \n",
       "\n",
       "    \n",
       "\n",
       "    \n",
       "\n",
       "    \n",
       "\n",
       "\n",
       "    \n",
       "\n",
       "    \n",
       "\n",
       "    \n",
       "\n",
       "    \n",
       "\n",
       "    \n",
       "\n",
       "    \n",
       "\n",
       "\n",
       "    \n",
       "\n",
       "    \n",
       "\n",
       "    \n",
       "\n",
       "    \n",
       "\n",
       "    \n",
       "        <table class=\"eli5-weights eli5-feature-importances\" style=\"border-collapse: collapse; border: none; margin-top: 0em; table-layout: auto;\">\n",
       "    <thead>\n",
       "    <tr style=\"border: none;\">\n",
       "        <th style=\"padding: 0 1em 0 0.5em; text-align: right; border: none;\">Weight</th>\n",
       "        <th style=\"padding: 0 0.5em 0 0.5em; text-align: left; border: none;\">Feature</th>\n",
       "    </tr>\n",
       "    </thead>\n",
       "    <tbody>\n",
       "    \n",
       "        <tr style=\"background-color: hsl(120, 100.00%, 80.00%); border: none;\">\n",
       "            <td style=\"padding: 0 1em 0 0.5em; text-align: right; border: none;\">\n",
       "                0.2001\n",
       "                \n",
       "                    &plusmn; 0.0010\n",
       "                \n",
       "            </td>\n",
       "            <td style=\"padding: 0 0.5em 0 0.5em; text-align: left; border: none;\">\n",
       "                reason_for_stop\n",
       "            </td>\n",
       "        </tr>\n",
       "    \n",
       "        <tr style=\"background-color: hsl(120, 100.00%, 85.86%); border: none;\">\n",
       "            <td style=\"padding: 0 1em 0 0.5em; text-align: right; border: none;\">\n",
       "                0.1219\n",
       "                \n",
       "                    &plusmn; 0.0006\n",
       "                \n",
       "            </td>\n",
       "            <td style=\"padding: 0 0.5em 0 0.5em; text-align: left; border: none;\">\n",
       "                exp_years\n",
       "            </td>\n",
       "        </tr>\n",
       "    \n",
       "        <tr style=\"background-color: hsl(120, 100.00%, 86.71%); border: none;\">\n",
       "            <td style=\"padding: 0 1em 0 0.5em; text-align: right; border: none;\">\n",
       "                0.1116\n",
       "                \n",
       "                    &plusmn; 0.0035\n",
       "                \n",
       "            </td>\n",
       "            <td style=\"padding: 0 0.5em 0 0.5em; text-align: left; border: none;\">\n",
       "                stopduration\n",
       "            </td>\n",
       "        </tr>\n",
       "    \n",
       "        <tr style=\"background-color: hsl(120, 100.00%, 88.54%); border: none;\">\n",
       "            <td style=\"padding: 0 1em 0 0.5em; text-align: right; border: none;\">\n",
       "                0.0904\n",
       "                \n",
       "                    &plusmn; 0.0009\n",
       "                \n",
       "            </td>\n",
       "            <td style=\"padding: 0 0.5em 0 0.5em; text-align: left; border: none;\">\n",
       "                reason_for_stop_detail\n",
       "            </td>\n",
       "        </tr>\n",
       "    \n",
       "        <tr style=\"background-color: hsl(120, 100.00%, 91.57%); border: none;\">\n",
       "            <td style=\"padding: 0 1em 0 0.5em; text-align: right; border: none;\">\n",
       "                0.0582\n",
       "                \n",
       "                    &plusmn; 0.0002\n",
       "                \n",
       "            </td>\n",
       "            <td style=\"padding: 0 0.5em 0 0.5em; text-align: left; border: none;\">\n",
       "                beat_name\n",
       "            </td>\n",
       "        </tr>\n",
       "    \n",
       "        <tr style=\"background-color: hsl(120, 100.00%, 93.97%); border: none;\">\n",
       "            <td style=\"padding: 0 1em 0 0.5em; text-align: right; border: none;\">\n",
       "                0.0361\n",
       "                \n",
       "                    &plusmn; 0.0021\n",
       "                \n",
       "            </td>\n",
       "            <td style=\"padding: 0 0.5em 0 0.5em; text-align: left; border: none;\">\n",
       "                month\n",
       "            </td>\n",
       "        </tr>\n",
       "    \n",
       "        <tr style=\"background-color: hsl(120, 100.00%, 94.75%); border: none;\">\n",
       "            <td style=\"padding: 0 1em 0 0.5em; text-align: right; border: none;\">\n",
       "                0.0296\n",
       "                \n",
       "                    &plusmn; 0.0013\n",
       "                \n",
       "            </td>\n",
       "            <td style=\"padding: 0 0.5em 0 0.5em; text-align: left; border: none;\">\n",
       "                action\n",
       "            </td>\n",
       "        </tr>\n",
       "    \n",
       "        <tr style=\"background-color: hsl(120, 100.00%, 95.16%); border: none;\">\n",
       "            <td style=\"padding: 0 1em 0 0.5em; text-align: right; border: none;\">\n",
       "                0.0264\n",
       "                \n",
       "                    &plusmn; 0.0011\n",
       "                \n",
       "            </td>\n",
       "            <td style=\"padding: 0 0.5em 0 0.5em; text-align: left; border: none;\">\n",
       "                stop_hour\n",
       "            </td>\n",
       "        </tr>\n",
       "    \n",
       "        <tr style=\"background-color: hsl(120, 100.00%, 95.48%); border: none;\">\n",
       "            <td style=\"padding: 0 1em 0 0.5em; text-align: right; border: none;\">\n",
       "                0.0239\n",
       "                \n",
       "                    &plusmn; 0.0001\n",
       "                \n",
       "            </td>\n",
       "            <td style=\"padding: 0 0.5em 0 0.5em; text-align: left; border: none;\">\n",
       "                day\n",
       "            </td>\n",
       "        </tr>\n",
       "    \n",
       "        <tr style=\"background-color: hsl(120, 100.00%, 96.31%); border: none;\">\n",
       "            <td style=\"padding: 0 1em 0 0.5em; text-align: right; border: none;\">\n",
       "                0.0179\n",
       "                \n",
       "                    &plusmn; 0.0013\n",
       "                \n",
       "            </td>\n",
       "            <td style=\"padding: 0 0.5em 0 0.5em; text-align: left; border: none;\">\n",
       "                perceived_age\n",
       "            </td>\n",
       "        </tr>\n",
       "    \n",
       "        <tr style=\"background-color: hsl(120, 100.00%, 96.48%); border: none;\">\n",
       "            <td style=\"padding: 0 1em 0 0.5em; text-align: right; border: none;\">\n",
       "                0.0167\n",
       "                \n",
       "                    &plusmn; 0.0021\n",
       "                \n",
       "            </td>\n",
       "            <td style=\"padding: 0 0.5em 0 0.5em; text-align: left; border: none;\">\n",
       "                stop_in_response_to_cfs\n",
       "            </td>\n",
       "        </tr>\n",
       "    \n",
       "        <tr style=\"background-color: hsl(120, 100.00%, 96.51%); border: none;\">\n",
       "            <td style=\"padding: 0 1em 0 0.5em; text-align: right; border: none;\">\n",
       "                0.0165\n",
       "                \n",
       "                    &plusmn; 0.0028\n",
       "                \n",
       "            </td>\n",
       "            <td style=\"padding: 0 0.5em 0 0.5em; text-align: left; border: none;\">\n",
       "                night\n",
       "            </td>\n",
       "        </tr>\n",
       "    \n",
       "        <tr style=\"background-color: hsl(120, 100.00%, 97.76%); border: none;\">\n",
       "            <td style=\"padding: 0 1em 0 0.5em; text-align: right; border: none;\">\n",
       "                0.0088\n",
       "                \n",
       "                    &plusmn; 0.0003\n",
       "                \n",
       "            </td>\n",
       "            <td style=\"padding: 0 0.5em 0 0.5em; text-align: left; border: none;\">\n",
       "                race\n",
       "            </td>\n",
       "        </tr>\n",
       "    \n",
       "        <tr style=\"background-color: hsl(120, 100.00%, 97.95%); border: none;\">\n",
       "            <td style=\"padding: 0 1em 0 0.5em; text-align: right; border: none;\">\n",
       "                0.0078\n",
       "                \n",
       "                    &plusmn; 0.0006\n",
       "                \n",
       "            </td>\n",
       "            <td style=\"padding: 0 0.5em 0 0.5em; text-align: left; border: none;\">\n",
       "                year\n",
       "            </td>\n",
       "        </tr>\n",
       "    \n",
       "        <tr style=\"background-color: hsl(120, 100.00%, 98.12%); border: none;\">\n",
       "            <td style=\"padding: 0 1em 0 0.5em; text-align: right; border: none;\">\n",
       "                0.0068\n",
       "                \n",
       "                    &plusmn; 0.0008\n",
       "                \n",
       "            </td>\n",
       "            <td style=\"padding: 0 0.5em 0 0.5em; text-align: left; border: none;\">\n",
       "                officer_assignment_key\n",
       "            </td>\n",
       "        </tr>\n",
       "    \n",
       "        <tr style=\"background-color: hsl(120, 100.00%, 98.35%); border: none;\">\n",
       "            <td style=\"padding: 0 1em 0 0.5em; text-align: right; border: none;\">\n",
       "                0.0057\n",
       "                \n",
       "                    &plusmn; 0.0003\n",
       "                \n",
       "            </td>\n",
       "            <td style=\"padding: 0 0.5em 0 0.5em; text-align: left; border: none;\">\n",
       "                assignment\n",
       "            </td>\n",
       "        </tr>\n",
       "    \n",
       "        <tr style=\"background-color: hsl(120, 100.00%, 98.48%); border: none;\">\n",
       "            <td style=\"padding: 0 1em 0 0.5em; text-align: right; border: none;\">\n",
       "                0.0051\n",
       "                \n",
       "                    &plusmn; 0.0001\n",
       "                \n",
       "            </td>\n",
       "            <td style=\"padding: 0 0.5em 0 0.5em; text-align: left; border: none;\">\n",
       "                morning\n",
       "            </td>\n",
       "        </tr>\n",
       "    \n",
       "        <tr style=\"background-color: hsl(120, 100.00%, 98.94%); border: none;\">\n",
       "            <td style=\"padding: 0 1em 0 0.5em; text-align: right; border: none;\">\n",
       "                0.0030\n",
       "                \n",
       "                    &plusmn; 0.0001\n",
       "                \n",
       "            </td>\n",
       "            <td style=\"padding: 0 0.5em 0 0.5em; text-align: left; border: none;\">\n",
       "                afternoon\n",
       "            </td>\n",
       "        </tr>\n",
       "    \n",
       "        <tr style=\"background-color: hsl(120, 100.00%, 99.42%); border: none;\">\n",
       "            <td style=\"padding: 0 1em 0 0.5em; text-align: right; border: none;\">\n",
       "                0.0013\n",
       "                \n",
       "                    &plusmn; 0.0001\n",
       "                \n",
       "            </td>\n",
       "            <td style=\"padding: 0 0.5em 0 0.5em; text-align: left; border: none;\">\n",
       "                perceived_lgbt\n",
       "            </td>\n",
       "        </tr>\n",
       "    \n",
       "        <tr style=\"background-color: hsl(120, 100.00%, 99.53%); border: none;\">\n",
       "            <td style=\"padding: 0 1em 0 0.5em; text-align: right; border: none;\">\n",
       "                0.0009\n",
       "                \n",
       "                    &plusmn; 0.0001\n",
       "                \n",
       "            </td>\n",
       "            <td style=\"padding: 0 0.5em 0 0.5em; text-align: left; border: none;\">\n",
       "                perceived_limited_english\n",
       "            </td>\n",
       "        </tr>\n",
       "    \n",
       "        <tr style=\"background-color: hsl(120, 100.00%, 99.60%); border: none;\">\n",
       "            <td style=\"padding: 0 1em 0 0.5em; text-align: right; border: none;\">\n",
       "                0.0007\n",
       "                \n",
       "                    &plusmn; 0.0022\n",
       "                \n",
       "            </td>\n",
       "            <td style=\"padding: 0 0.5em 0 0.5em; text-align: left; border: none;\">\n",
       "                gend\n",
       "            </td>\n",
       "        </tr>\n",
       "    \n",
       "    \n",
       "    </tbody>\n",
       "</table>\n",
       "    \n",
       "\n",
       "    \n",
       "\n",
       "\n",
       "    \n",
       "\n",
       "    \n",
       "\n",
       "    \n",
       "\n",
       "    \n",
       "\n",
       "    \n",
       "\n",
       "    \n",
       "\n",
       "\n",
       "\n"
      ],
      "text/plain": [
       "<IPython.core.display.HTML object>"
      ]
     },
     "execution_count": 38,
     "metadata": {},
     "output_type": "execute_result"
    }
   ],
   "source": [
    "# Going to get permutation importance\n",
    "\n",
    "\n",
    "# eli5 doesn't work well with pipelines, so need to decosntruct a little bit for it to work\n",
    "transformers = make_pipeline(\n",
    "    ce.OrdinalEncoder(), \n",
    ")\n",
    "\n",
    "X_train_transformed = transformers.fit_transform(X_train)\n",
    "X_val_transformed = transformers.transform(X_val)\n",
    "\n",
    "model = RandomForestClassifier(n_estimators=500, random_state=42, n_jobs=-1)\n",
    "model.fit(X_train_transformed, y_train)\n",
    "\n",
    "# Going to instantiate the permuter class to get the permutation importance\n",
    "import eli5\n",
    "from eli5.sklearn import PermutationImportance\n",
    "\n",
    "permuter = PermutationImportance(\n",
    "    model,\n",
    "    scoring='accuracy', \n",
    "    n_iter=2, \n",
    "    random_state=42\n",
    ")\n",
    "\n",
    "permuter.fit(X_val_transformed, y_val)\n",
    "feature_names = X_val.columns.tolist()\n",
    "\n",
    "eli5.show_weights(\n",
    "    permuter, \n",
    "    top=None, # show permutation importances for all features\n",
    "    feature_names=feature_names\n",
    ")"
   ]
  },
  {
   "cell_type": "code",
   "execution_count": 39,
   "metadata": {
    "scrolled": true
   },
   "outputs": [
    {
     "name": "stdout",
     "output_type": "stream",
     "text": [
      "Shape before removing features: (69929, 21)\n"
     ]
    }
   ],
   "source": [
    "print('Shape before removing features:', X_train.shape)"
   ]
  },
  {
   "cell_type": "code",
   "execution_count": 40,
   "metadata": {},
   "outputs": [
    {
     "name": "stdout",
     "output_type": "stream",
     "text": [
      "Shape after removing features: (69929, 21)\n"
     ]
    }
   ],
   "source": [
    "minimum_importance = 0\n",
    "mask = permuter.feature_importances_ > minimum_importance\n",
    "features = X_train.columns[mask]\n",
    "X_train = X_train[features]\n",
    "\n",
    "print('Shape after removing features:', X_train.shape)"
   ]
  },
  {
   "cell_type": "code",
   "execution_count": 41,
   "metadata": {},
   "outputs": [],
   "source": [
    "X_val = X_val[features]"
   ]
  },
  {
   "cell_type": "code",
   "execution_count": 42,
   "metadata": {},
   "outputs": [
    {
     "name": "stdout",
     "output_type": "stream",
     "text": [
      "Validation Accuracy 0.7415203340387805\n"
     ]
    }
   ],
   "source": [
    "from sklearn.impute import SimpleImputer\n",
    "pipeline = make_pipeline(\n",
    "    ce.OrdinalEncoder(), \n",
    "    SimpleImputer(strategy='median'), \n",
    "    RandomForestClassifier(n_estimators=100, random_state=42, n_jobs=-1)\n",
    ")\n",
    "\n",
    "# Fit on train, score on val\n",
    "pipeline.fit(X_train, y_train)\n",
    "print('Validation Accuracy', pipeline.score(X_val, y_val))"
   ]
  },
  {
   "cell_type": "markdown",
   "metadata": {},
   "source": [
    "# ROC AUC"
   ]
  },
  {
   "cell_type": "code",
   "execution_count": 43,
   "metadata": {},
   "outputs": [
    {
     "name": "stdout",
     "output_type": "stream",
     "text": [
      "CPU times: user 12.8 s, sys: 471 ms, total: 13.3 s\n",
      "Wall time: 4.04 s\n"
     ]
    },
    {
     "data": {
      "text/plain": [
       "Pipeline(memory=None,\n",
       "         steps=[('ordinalencoder',\n",
       "                 OrdinalEncoder(cols=['assignment', 'beat_name',\n",
       "                                      'perceived_lgbt', 'reason_for_stop',\n",
       "                                      'reason_for_stop_detail', 'race',\n",
       "                                      'action'],\n",
       "                                drop_invariant=False, handle_missing='value',\n",
       "                                handle_unknown='value',\n",
       "                                mapping=[{'col': 'assignment',\n",
       "                                          'data_type': dtype('O'),\n",
       "                                          'mapping': Patrol, traffic enforcement, field operations                                      1\n",
       "Gang enforc...\n",
       "                ('randomforestclassifier',\n",
       "                 RandomForestClassifier(bootstrap=True, class_weight=None,\n",
       "                                        criterion='gini', max_depth=None,\n",
       "                                        max_features='auto',\n",
       "                                        max_leaf_nodes=None,\n",
       "                                        min_impurity_decrease=0.0,\n",
       "                                        min_impurity_split=None,\n",
       "                                        min_samples_leaf=1, min_samples_split=2,\n",
       "                                        min_weight_fraction_leaf=0.0,\n",
       "                                        n_estimators=100, n_jobs=-1,\n",
       "                                        oob_score=False, random_state=42,\n",
       "                                        verbose=0, warm_start=False))],\n",
       "         verbose=False)"
      ]
     },
     "execution_count": 43,
     "metadata": {},
     "output_type": "execute_result"
    }
   ],
   "source": [
    "%%time\n",
    "import category_encoders as ce\n",
    "from sklearn.ensemble import RandomForestClassifier\n",
    "from sklearn.impute import SimpleImputer\n",
    "from sklearn.pipeline import make_pipeline\n",
    "\n",
    "pipeline = make_pipeline(\n",
    "    ce.OrdinalEncoder(), \n",
    "    SimpleImputer(strategy='median'), \n",
    "    RandomForestClassifier(n_estimators=100, n_jobs=-1, random_state=42)\n",
    ")\n",
    "\n",
    "pipeline.fit(X_train, y_train);"
   ]
  },
  {
   "cell_type": "code",
   "execution_count": 44,
   "metadata": {},
   "outputs": [
    {
     "data": {
      "text/plain": [
       "0.7415203340387805"
      ]
     },
     "execution_count": 44,
     "metadata": {},
     "output_type": "execute_result"
    }
   ],
   "source": [
    "#  get accuracy score for model\n",
    "y_pred = pipeline.predict(X_val)\n",
    "accuracy_score(y_val, y_pred)"
   ]
  },
  {
   "cell_type": "code",
   "execution_count": 45,
   "metadata": {},
   "outputs": [],
   "source": [
    "# define confusion matrix function\n",
    "%matplotlib inline\n",
    "import seaborn as sns\n",
    "from sklearn.metrics import confusion_matrix\n",
    "from sklearn.utils.multiclass import unique_labels\n",
    "\n",
    "def plot_confusion_matrix(y_true, y_pred):\n",
    "    labels = unique_labels(y_true)\n",
    "    columns = [f'Predicted {label}' for label in labels]\n",
    "    index = [f'Actual {label}' for label in labels]\n",
    "    table = pd.DataFrame(confusion_matrix(y_true, y_pred), \n",
    "                         columns=columns, index=index)\n",
    "    return sns.heatmap(table, annot=True, fmt='d', cmap='viridis')"
   ]
  },
  {
   "cell_type": "code",
   "execution_count": 46,
   "metadata": {},
   "outputs": [
    {
     "data": {
      "image/png": "[encoded data removed]",
      "text/plain": [
       "<Figure size 432x288 with 2 Axes>"
      ]
     },
     "metadata": {
      "needs_background": "light"
     },
     "output_type": "display_data"
    }
   ],
   "source": [
    "plot_confusion_matrix(y_val, y_pred);"
   ]
  },
  {
   "cell_type": "code",
   "execution_count": 47,
   "metadata": {},
   "outputs": [
    {
     "name": "stdout",
     "output_type": "stream",
     "text": [
      "                             precision    recall  f1-score   support\n",
      "\n",
      "    Citation for infraction       0.76      0.85      0.81      7340\n",
      "                  No Action       0.77      0.71      0.74      4467\n",
      "Warning (verbal or written)       0.69      0.62      0.65      5676\n",
      "\n",
      "                   accuracy                           0.74     17483\n",
      "                  macro avg       0.74      0.73      0.73     17483\n",
      "               weighted avg       0.74      0.74      0.74     17483\n",
      "\n"
     ]
    }
   ],
   "source": [
    "# get precision and recall\n",
    "from sklearn.metrics import classification_report\n",
    "print(classification_report(y_val, y_pred))"
   ]
  },
  {
   "cell_type": "code",
   "execution_count": 48,
   "metadata": {
    "scrolled": false
   },
   "outputs": [],
   "source": [
    "# get ROC AUC score for model\n",
    "from sklearn.metrics import roc_auc_score\n",
    "y_pred_proba = pipeline.predict_proba(X_val)[:, 1]"
   ]
  },
  {
   "cell_type": "code",
   "execution_count": 49,
   "metadata": {
    "scrolled": true
   },
   "outputs": [
    {
     "data": {
      "image/png": "[encoded data removed]",
      "text/plain": [
       "<Figure size 432x288 with 1 Axes>"
      ]
     },
     "metadata": {
      "needs_background": "light"
     },
     "output_type": "display_data"
    }
   ],
   "source": [
    "# Plot ROC curve\n",
    "import matplotlib.pyplot as plt\n",
    "from sklearn.metrics import roc_curve\n",
    "tpr, fpr, thresholds = roc_curve(y_val=='Citation for infraction', y_pred_proba)\n",
    "plt.plot(fpr, tpr)\n",
    "plt.title('ROC curve')\n",
    "plt.xlabel('False Positive Rate')\n",
    "plt.ylabel('True Positive Rate');"
   ]
  },
  {
   "cell_type": "markdown",
   "metadata": {},
   "source": [
    "# Exploratory Visual analysis"
   ]
  },
  {
   "cell_type": "code",
   "execution_count": 50,
   "metadata": {},
   "outputs": [
    {
     "data": {
      "text/plain": [
       "1     0.249099\n",
       "2     0.104818\n",
       "3     0.102539\n",
       "4     0.090055\n",
       "5     0.066260\n",
       "10    0.058179\n",
       "18    0.037294\n",
       "9     0.026568\n",
       "12    0.022898\n",
       "14    0.021525\n",
       "11    0.021471\n",
       "30    0.019869\n",
       "24    0.018048\n",
       "6     0.017746\n",
       "19    0.016327\n",
       "20    0.015430\n",
       "28    0.015293\n",
       "8     0.013646\n",
       "7     0.011248\n",
       "15    0.010552\n",
       "13    0.009939\n",
       "23    0.009774\n",
       "22    0.009088\n",
       "16    0.007569\n",
       "17    0.007358\n",
       "25    0.004411\n",
       "29    0.004128\n",
       "21    0.003771\n",
       "26    0.002901\n",
       "27    0.001263\n",
       "32    0.000421\n",
       "31    0.000284\n",
       "49    0.000082\n",
       "33    0.000046\n",
       "45    0.000046\n",
       "34    0.000018\n",
       "48    0.000018\n",
       "36    0.000009\n",
       "50    0.000009\n",
       "Name: exp_years, dtype: float64"
      ]
     },
     "execution_count": 50,
     "metadata": {},
     "output_type": "execute_result"
    }
   ],
   "source": [
    "df.exp_years.value_counts(normalize=True)"
   ]
  },
  {
   "cell_type": "code",
   "execution_count": 51,
   "metadata": {
    "scrolled": true
   },
   "outputs": [
    {
     "data": {
      "image/png": "[encoded data removed]",
      "text/plain": [
       "<Figure size 432x288 with 1 Axes>"
      ]
     },
     "metadata": {
      "needs_background": "light"
     },
     "output_type": "display_data"
    }
   ],
   "source": [
    "import seaborn as sns\n",
    "sns.distplot(df.exp_years);"
   ]
  },
  {
   "cell_type": "code",
   "execution_count": 52,
   "metadata": {},
   "outputs": [
    {
     "data": {
      "text/plain": [
       "1                                         None\n",
       "2                           Curbside detention\n",
       "3                           Curbside detention\n",
       "4                                         None\n",
       "16                                        None\n",
       "19                                        None\n",
       "25                                        None\n",
       "29                                        None\n",
       "30                                        None\n",
       "33                                        None\n",
       "46                   Handcuffed or flex cuffed\n",
       "47        Person removed from vehicle by order\n",
       "68                                        None\n",
       "79                                        None\n",
       "80                         Chemical spray used\n",
       "81                                        None\n",
       "82                                        None\n",
       "85                          Curbside detention\n",
       "88                                        None\n",
       "91                                        None\n",
       "92                                        None\n",
       "93                                        None\n",
       "94                                        None\n",
       "95                          Curbside detention\n",
       "109                          Vehicle impounded\n",
       "110                        Property was seized\n",
       "111           Search of property was conducted\n",
       "115                                       None\n",
       "116                                       None\n",
       "117             Search of person was conducted\n",
       "                          ...                 \n",
       "321694      Asked for consent to search person\n",
       "321695               Handcuffed or flex cuffed\n",
       "321696    Person removed from vehicle by order\n",
       "321700                                    None\n",
       "321701                                    None\n",
       "321702                                    None\n",
       "321703                                    None\n",
       "321704                                    None\n",
       "321705          Search of person was conducted\n",
       "321706               Handcuffed or flex cuffed\n",
       "321709          Search of person was conducted\n",
       "321710               Handcuffed or flex cuffed\n",
       "321713                                    None\n",
       "321714                                    None\n",
       "321722                                    None\n",
       "321723                                    None\n",
       "321726                                    None\n",
       "321727                                    None\n",
       "321737    Person removed from vehicle by order\n",
       "321738               Handcuffed or flex cuffed\n",
       "321739                                    None\n",
       "321740                                    None\n",
       "321741                                    None\n",
       "321742                                    None\n",
       "321753                                    None\n",
       "321757               Handcuffed or flex cuffed\n",
       "321758          Search of person was conducted\n",
       "321759                                    None\n",
       "321782                                    None\n",
       "321803                                    None\n",
       "Name: action, Length: 109266, dtype: object"
      ]
     },
     "execution_count": 52,
     "metadata": {},
     "output_type": "execute_result"
    }
   ],
   "source": [
    "df.action"
   ]
  },
  {
   "cell_type": "code",
   "execution_count": 53,
   "metadata": {},
   "outputs": [],
   "source": [
    "df_ticket = df[df['result'] == 'Citation for infraction']"
   ]
  },
  {
   "cell_type": "code",
   "execution_count": 54,
   "metadata": {},
   "outputs": [],
   "source": [
    "df_no_ticket = df[df['result'] != 'Citation for infraction']"
   ]
  },
  {
   "cell_type": "code",
   "execution_count": 55,
   "metadata": {},
   "outputs": [
    {
     "name": "stdout",
     "output_type": "stream",
     "text": [
      "16    0.076467\n",
      "15    0.068598\n",
      "8     0.066680\n",
      "17    0.063911\n",
      "9     0.062952\n",
      "10    0.058745\n",
      "18    0.057154\n",
      "19    0.050179\n",
      "14    0.049329\n",
      "13    0.047410\n",
      "12    0.046691\n",
      "7     0.046495\n",
      "11    0.043901\n",
      "22    0.042964\n",
      "21    0.042201\n",
      "23    0.036729\n",
      "20    0.036293\n",
      "0     0.025373\n",
      "1     0.017983\n",
      "6     0.017569\n",
      "2     0.013711\n",
      "5     0.012141\n",
      "3     0.008719\n",
      "4     0.007804\n",
      "Name: stop_hour, dtype: float64\n"
     ]
    },
    {
     "data": {
      "image/png": "[encoded data removed]",
      "text/plain": [
       "<Figure size 432x288 with 1 Axes>"
      ]
     },
     "metadata": {
      "needs_background": "light"
     },
     "output_type": "display_data"
    }
   ],
   "source": [
    "# Looks like three out of the five highest percentage time slots for getting a ticket are during the afternoon commute\n",
    "# The third highest, though not in the afternoon, is during the morning commute. From 8-9AM\n",
    "df_ticket['stop_hour'].value_counts(normalize=True).plot(kind='bar');\n",
    "print(df_ticket['stop_hour'].value_counts(normalize=True))"
   ]
  },
  {
   "cell_type": "code",
   "execution_count": 56,
   "metadata": {},
   "outputs": [
    {
     "name": "stdout",
     "output_type": "stream",
     "text": [
      "22    0.070563\n",
      "15    0.060372\n",
      "16    0.055924\n",
      "23    0.055498\n",
      "17    0.051538\n",
      "21    0.051033\n",
      "8     0.050434\n",
      "9     0.049424\n",
      "18    0.047216\n",
      "19    0.046869\n",
      "0     0.046096\n",
      "10    0.045607\n",
      "20    0.044281\n",
      "7     0.043288\n",
      "11    0.040259\n",
      "1     0.037829\n",
      "12    0.036977\n",
      "14    0.033712\n",
      "13    0.033049\n",
      "2     0.029169\n",
      "3     0.022417\n",
      "6     0.019009\n",
      "4     0.016264\n",
      "5     0.013172\n",
      "Name: stop_hour, dtype: float64\n"
     ]
    },
    {
     "data": {
      "image/png": "[encoded data removed]",
      "text/plain": [
       "<Figure size 432x288 with 1 Axes>"
      ]
     },
     "metadata": {
      "needs_background": "light"
     },
     "output_type": "display_data"
    }
   ],
   "source": [
    "# it seems like the time of day when you're most likely to get off with just a warning or less would be at 10PM.\n",
    "# Possible reasons could be that, it's too early for most people to be staggeringly drunk. That likelihood increases the later it gets\n",
    "print(df_no_ticket['stop_hour'].value_counts(normalize=True))\n",
    "df_no_ticket['stop_hour'].value_counts().plot(kind='bar');"
   ]
  },
  {
   "cell_type": "code",
   "execution_count": 57,
   "metadata": {},
   "outputs": [
    {
     "name": "stdout",
     "output_type": "stream",
     "text": [
      "1     0.282836\n",
      "2     0.136693\n",
      "3     0.129737\n",
      "4     0.088232\n",
      "5     0.078419\n",
      "10    0.048557\n",
      "9     0.025793\n",
      "6     0.021155\n",
      "11    0.019688\n",
      "12    0.019325\n",
      "18    0.015618\n",
      "7     0.014829\n",
      "8     0.012983\n",
      "16    0.010790\n",
      "20    0.009670\n",
      "13    0.009339\n",
      "24    0.008913\n",
      "19    0.008613\n",
      "14    0.008329\n",
      "22    0.007257\n",
      "15    0.006878\n",
      "17    0.006578\n",
      "28    0.005632\n",
      "23    0.005364\n",
      "30    0.004307\n",
      "21    0.003549\n",
      "26    0.003250\n",
      "29    0.002871\n",
      "25    0.002713\n",
      "27    0.000962\n",
      "32    0.000473\n",
      "31    0.000331\n",
      "49    0.000142\n",
      "33    0.000047\n",
      "45    0.000032\n",
      "48    0.000032\n",
      "34    0.000032\n",
      "36    0.000016\n",
      "50    0.000016\n",
      "Name: exp_years, dtype: float64\n"
     ]
    },
    {
     "data": {
      "image/png": "[encoded data removed]",
      "text/plain": [
       "<Figure size 432x288 with 1 Axes>"
      ]
     },
     "metadata": {
      "needs_background": "light"
     },
     "output_type": "display_data"
    }
   ],
   "source": [
    "df_no_ticket['exp_years'].value_counts().plot(kind='bar');\n",
    "print(df_no_ticket['exp_years'].value_counts(normalize=True))"
   ]
  },
  {
   "cell_type": "code",
   "execution_count": 58,
   "metadata": {},
   "outputs": [
    {
     "name": "stdout",
     "output_type": "stream",
     "text": [
      "1     0.202481\n",
      "4     0.092576\n",
      "10    0.071475\n",
      "18    0.067246\n",
      "3     0.064958\n",
      "2     0.060773\n",
      "5     0.049459\n",
      "30    0.041372\n",
      "14    0.039759\n",
      "24    0.030670\n",
      "28    0.028642\n",
      "12    0.027836\n",
      "9     0.027640\n",
      "19    0.026986\n",
      "11    0.023934\n",
      "20    0.023389\n",
      "23    0.015869\n",
      "15    0.015629\n",
      "8     0.014561\n",
      "6     0.013035\n",
      "22    0.011618\n",
      "13    0.010768\n",
      "17    0.008436\n",
      "25    0.006757\n",
      "7     0.006300\n",
      "29    0.005864\n",
      "21    0.004076\n",
      "16    0.003117\n",
      "26    0.002420\n",
      "27    0.001678\n",
      "32    0.000349\n",
      "31    0.000218\n",
      "45    0.000065\n",
      "33    0.000044\n",
      "Name: exp_years, dtype: float64\n"
     ]
    },
    {
     "data": {
      "image/png": "[encoded data removed]",
      "text/plain": [
       "<Figure size 432x288 with 1 Axes>"
      ]
     },
     "metadata": {
      "needs_background": "light"
     },
     "output_type": "display_data"
    }
   ],
   "source": [
    "df_ticket['exp_years'].value_counts().plot(kind='bar');\n",
    "print(df_ticket['exp_years'].value_counts(normalize=True))"
   ]
  },
  {
   "cell_type": "code",
   "execution_count": 59,
   "metadata": {},
   "outputs": [
    {
     "name": "stdout",
     "output_type": "stream",
     "text": [
      "1     27218\n",
      "2     11453\n",
      "3     11204\n",
      "4      9840\n",
      "5      7240\n",
      "10     6357\n",
      "18     4075\n",
      "9      2903\n",
      "12     2502\n",
      "14     2352\n",
      "11     2346\n",
      "30     2171\n",
      "24     1972\n",
      "6      1939\n",
      "19     1784\n",
      "20     1686\n",
      "28     1671\n",
      "8      1491\n",
      "7      1229\n",
      "15     1153\n",
      "13     1086\n",
      "23     1068\n",
      "22      993\n",
      "16      827\n",
      "17      804\n",
      "25      482\n",
      "29      451\n",
      "21      412\n",
      "26      317\n",
      "27      138\n",
      "32       46\n",
      "31       31\n",
      "49        9\n",
      "33        5\n",
      "45        5\n",
      "34        2\n",
      "48        2\n",
      "36        1\n",
      "50        1\n",
      "Name: exp_years, dtype: int64\n",
      "1     17929\n",
      "2      8665\n",
      "3      8224\n",
      "4      5593\n",
      "5      4971\n",
      "10     3078\n",
      "9      1635\n",
      "6      1341\n",
      "11     1248\n",
      "12     1225\n",
      "18      990\n",
      "7       940\n",
      "8       823\n",
      "16      684\n",
      "20      613\n",
      "13      592\n",
      "24      565\n",
      "19      546\n",
      "14      528\n",
      "22      460\n",
      "15      436\n",
      "17      417\n",
      "28      357\n",
      "23      340\n",
      "30      273\n",
      "21      225\n",
      "26      206\n",
      "29      182\n",
      "25      172\n",
      "27       61\n",
      "32       30\n",
      "31       21\n",
      "49        9\n",
      "33        3\n",
      "45        2\n",
      "48        2\n",
      "34        2\n",
      "36        1\n",
      "50        1\n",
      "Name: exp_years, dtype: int64\n",
      "1     9289\n",
      "4     4247\n",
      "10    3279\n",
      "18    3085\n",
      "3     2980\n",
      "2     2788\n",
      "5     2269\n",
      "30    1898\n",
      "14    1824\n",
      "24    1407\n",
      "28    1314\n",
      "12    1277\n",
      "9     1268\n",
      "19    1238\n",
      "11    1098\n",
      "20    1073\n",
      "23     728\n",
      "15     717\n",
      "8      668\n",
      "6      598\n",
      "22     533\n",
      "13     494\n",
      "17     387\n",
      "25     310\n",
      "7      289\n",
      "29     269\n",
      "21     187\n",
      "16     143\n",
      "26     111\n",
      "27      77\n",
      "32      16\n",
      "31      10\n",
      "45       3\n",
      "33       2\n",
      "Name: exp_years, dtype: int64\n"
     ]
    }
   ],
   "source": [
    "print(df.exp_years.value_counts())\n",
    "print(df_no_ticket.exp_years.value_counts())\n",
    "print(df_ticket.exp_years.value_counts())"
   ]
  },
  {
   "cell_type": "code",
   "execution_count": 60,
   "metadata": {},
   "outputs": [
    {
     "data": {
      "text/plain": [
       "0.3412815048864722"
      ]
     },
     "execution_count": 60,
     "metadata": {},
     "output_type": "execute_result"
    }
   ],
   "source": [
    "9289 / (9289 + 17929)"
   ]
  },
  {
   "cell_type": "code",
   "execution_count": 61,
   "metadata": {},
   "outputs": [
    {
     "data": {
      "image/png": "[encoded data removed]",
      "text/plain": [
       "<Figure size 432x288 with 1 Axes>"
      ]
     },
     "metadata": {
      "needs_background": "light"
     },
     "output_type": "display_data"
    }
   ],
   "source": [
    "df_ticket['day'].value_counts().plot(kind='bar');"
   ]
  },
  {
   "cell_type": "code",
   "execution_count": 62,
   "metadata": {},
   "outputs": [
    {
     "data": {
      "text/plain": [
       "27    0.037536\n",
       "9     0.035967\n",
       "7     0.035313\n",
       "4     0.035116\n",
       "8     0.035116\n",
       "1     0.035029\n",
       "18    0.034964\n",
       "3     0.034811\n",
       "13    0.034462\n",
       "24    0.034266\n",
       "19    0.033918\n",
       "17    0.033547\n",
       "26    0.033242\n",
       "14    0.033198\n",
       "11    0.032937\n",
       "15    0.032893\n",
       "10    0.032806\n",
       "23    0.032784\n",
       "2     0.032283\n",
       "28    0.032152\n",
       "16    0.030909\n",
       "25    0.030909\n",
       "12    0.030866\n",
       "22    0.030321\n",
       "29    0.029536\n",
       "21    0.029384\n",
       "20    0.029340\n",
       "30    0.028751\n",
       "6     0.028294\n",
       "5     0.028010\n",
       "31    0.021340\n",
       "Name: day, dtype: float64"
      ]
     },
     "execution_count": 62,
     "metadata": {},
     "output_type": "execute_result"
    }
   ],
   "source": [
    "df_ticket['day'].value_counts(normalize=True)"
   ]
  },
  {
   "cell_type": "code",
   "execution_count": 63,
   "metadata": {},
   "outputs": [
    {
     "data": {
      "image/png": "[encoded data removed]",
      "text/plain": [
       "<Figure size 432x288 with 1 Axes>"
      ]
     },
     "metadata": {
      "needs_background": "light"
     },
     "output_type": "display_data"
    }
   ],
   "source": [
    "df_no_ticket['day'].value_counts().plot(kind='bar');"
   ]
  },
  {
   "cell_type": "code",
   "execution_count": 64,
   "metadata": {},
   "outputs": [
    {
     "data": {
      "text/plain": [
       "26    2358\n",
       "27    2340\n",
       "19    2183\n",
       "3     2178\n",
       "4     2168\n",
       "10    2156\n",
       "12    2156\n",
       "24    2153\n",
       "5     2133\n",
       "18    2127\n",
       "8     2123\n",
       "9     2116\n",
       "7     2114\n",
       "22    2101\n",
       "17    2091\n",
       "21    2085\n",
       "11    2076\n",
       "28    2054\n",
       "16    2022\n",
       "14    2017\n",
       "6     2016\n",
       "23    2010\n",
       "15    2007\n",
       "25    1990\n",
       "2     1990\n",
       "13    1983\n",
       "1     1957\n",
       "20    1953\n",
       "29    1821\n",
       "30    1784\n",
       "31    1128\n",
       "Name: day, dtype: int64"
      ]
     },
     "execution_count": 64,
     "metadata": {},
     "output_type": "execute_result"
    }
   ],
   "source": [
    "df_no_ticket['day'].value_counts()"
   ]
  },
  {
   "cell_type": "code",
   "execution_count": 65,
   "metadata": {},
   "outputs": [
    {
     "data": {
      "text/plain": [
       "Moving Violation                                            0.563083\n",
       "Equipment Violation                                         0.161740\n",
       "Officer witnessed commission of a crime                     0.155899\n",
       "Non-moving Violation, including Registration Violation      0.058397\n",
       "Other Reasonable Suspicion of a crime                       0.029384\n",
       "Matched suspect description                                 0.015585\n",
       "Witness or Victim identification of Suspect at the scene    0.013667\n",
       "Carrying Suspicious Object                                  0.000719\n",
       "Actions indicative of casing a victim or location           0.000654\n",
       "Actions indicative of drug transaction                      0.000545\n",
       "Actions indicative of engaging in violent crime             0.000174\n",
       "Suspected of Acting as Lookout                              0.000153\n",
       "Name: reason_for_stop_detail, dtype: float64"
      ]
     },
     "execution_count": 65,
     "metadata": {},
     "output_type": "execute_result"
    }
   ],
   "source": [
    "df_ticket.reason_for_stop_detail.value_counts(normalize=True)"
   ]
  },
  {
   "cell_type": "code",
   "execution_count": 66,
   "metadata": {},
   "outputs": [
    {
     "data": {
      "text/plain": [
       "Moving Violation                                                             0.276684\n",
       "Equipment Violation                                                          0.202398\n",
       "Matched suspect description                                                  0.177709\n",
       "Officer witnessed commission of a crime                                      0.143919\n",
       "Other Reasonable Suspicion of a crime                                        0.109607\n",
       "Non-moving Violation, including Registration Violation                       0.047231\n",
       "Witness or Victim identification of Suspect at the scene                     0.028538\n",
       "Actions indicative of casing a victim or location                            0.004717\n",
       "Actions indicative of drug transaction                                       0.003833\n",
       "Carrying Suspicious Object                                                   0.002130\n",
       "Actions indicative of engaging in violent crime                              0.001830\n",
       "Suspected of Acting as Lookout                                               0.001388\n",
       "48900.4 - Suspension or expulsion for harassment, threats or intimidation    0.000016\n",
       "Name: reason_for_stop_detail, dtype: float64"
      ]
     },
     "execution_count": 66,
     "metadata": {},
     "output_type": "execute_result"
    }
   ],
   "source": [
    "df_no_ticket.reason_for_stop_detail.value_counts(normalize=True)"
   ]
  },
  {
   "cell_type": "code",
   "execution_count": 67,
   "metadata": {},
   "outputs": [
    {
     "data": {
      "text/plain": [
       "10      0.234000\n",
       "5       0.146002\n",
       "15      0.125926\n",
       "20      0.078908\n",
       "30      0.057939\n",
       "8       0.053361\n",
       "6       0.045231\n",
       "7       0.042266\n",
       "25      0.022692\n",
       "12      0.022190\n",
       "9       0.018049\n",
       "60      0.015193\n",
       "45      0.014517\n",
       "40      0.013035\n",
       "11      0.009264\n",
       "13      0.008218\n",
       "35      0.007760\n",
       "14      0.007542\n",
       "24      0.006103\n",
       "4       0.005319\n",
       "18      0.004752\n",
       "50      0.003902\n",
       "120     0.003836\n",
       "17      0.003793\n",
       "3       0.003727\n",
       "16      0.003706\n",
       "23      0.003488\n",
       "300     0.002877\n",
       "90      0.002834\n",
       "2       0.002616\n",
       "          ...   \n",
       "330     0.000087\n",
       "83      0.000065\n",
       "66      0.000065\n",
       "360     0.000044\n",
       "153     0.000044\n",
       "215     0.000044\n",
       "85      0.000044\n",
       "290     0.000044\n",
       "145     0.000044\n",
       "69      0.000044\n",
       "74      0.000044\n",
       "78      0.000022\n",
       "171     0.000022\n",
       "350     0.000022\n",
       "125     0.000022\n",
       "320     0.000022\n",
       "713     0.000022\n",
       "1400    0.000022\n",
       "600     0.000022\n",
       "102     0.000022\n",
       "115     0.000022\n",
       "270     0.000022\n",
       "1419    0.000022\n",
       "51      0.000022\n",
       "210     0.000022\n",
       "1351    0.000022\n",
       "1200    0.000022\n",
       "1422    0.000022\n",
       "1230    0.000022\n",
       "110     0.000022\n",
       "Name: stopduration, Length: 113, dtype: float64"
      ]
     },
     "execution_count": 67,
     "metadata": {},
     "output_type": "execute_result"
    }
   ],
   "source": [
    "df_ticket['stopduration'].value_counts(normalize=True)"
   ]
  },
  {
   "cell_type": "code",
   "execution_count": 68,
   "metadata": {},
   "outputs": [
    {
     "data": {
      "text/plain": [
       "10      0.250686\n",
       "5       0.175943\n",
       "15      0.132971\n",
       "20      0.096482\n",
       "30      0.061666\n",
       "8       0.026313\n",
       "7       0.024499\n",
       "6       0.023411\n",
       "25      0.021628\n",
       "3       0.020666\n",
       "60      0.019703\n",
       "2       0.018489\n",
       "4       0.017384\n",
       "45      0.013220\n",
       "12      0.010948\n",
       "40      0.009481\n",
       "120     0.008361\n",
       "9       0.006878\n",
       "1       0.006436\n",
       "35      0.004796\n",
       "14      0.004165\n",
       "13      0.003897\n",
       "90      0.003802\n",
       "11      0.003660\n",
       "50      0.003234\n",
       "18      0.002461\n",
       "17      0.002224\n",
       "16      0.002051\n",
       "180     0.001783\n",
       "22      0.001420\n",
       "          ...   \n",
       "442     0.000032\n",
       "92      0.000032\n",
       "380     0.000032\n",
       "420     0.000032\n",
       "125     0.000032\n",
       "236     0.000032\n",
       "1400    0.000032\n",
       "440     0.000016\n",
       "800     0.000016\n",
       "480     0.000016\n",
       "220     0.000016\n",
       "318     0.000016\n",
       "96      0.000016\n",
       "350     0.000016\n",
       "66      0.000016\n",
       "599     0.000016\n",
       "56      0.000016\n",
       "201     0.000016\n",
       "85      0.000016\n",
       "53      0.000016\n",
       "82      0.000016\n",
       "49      0.000016\n",
       "720     0.000016\n",
       "430     0.000016\n",
       "397     0.000016\n",
       "76      0.000016\n",
       "1030    0.000016\n",
       "1350    0.000016\n",
       "265     0.000016\n",
       "78      0.000016\n",
       "Name: stopduration, Length: 128, dtype: float64"
      ]
     },
     "execution_count": 68,
     "metadata": {},
     "output_type": "execute_result"
    }
   ],
   "source": [
    "df_no_ticket['stopduration'].value_counts(normalize=True)"
   ]
  },
  {
   "cell_type": "code",
   "execution_count": null,
   "metadata": {},
   "outputs": [],
   "source": []
  }
 ],
 "metadata": {
  "kernelspec": {
   "display_name": "Python 3",
   "language": "python",
   "name": "python3"
  },
  "language_info": {
   "codemirror_mode": {
    "name": "ipython",
    "version": 3
   },
   "file_extension": ".py",
   "mimetype": "text/x-python",
   "name": "python",
   "nbconvert_exporter": "python",
   "pygments_lexer": "ipython3",
   "version": "3.7.3"
  }
 },
 "nbformat": 4,
 "nbformat_minor": 2
}
