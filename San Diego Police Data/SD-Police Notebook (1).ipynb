{
 "cells": [
  {
   "cell_type": "code",
   "execution_count": 1,
   "metadata": {},
   "outputs": [],
   "source": [
    "import pandas as pd\n",
    "import matplotlib.pyplot as plt\n",
    "import numpy as np\n",
    "from joblib import load, dump"
   ]
  },
  {
   "cell_type": "code",
   "execution_count": 2,
   "metadata": {
    "scrolled": false
   },
   "outputs": [
    {
     "name": "stderr",
     "output_type": "stream",
     "text": [
      "//anaconda3/envs/DSEnv/lib/python3.7/site-packages/IPython/core/interactiveshell.py:3058: DtypeWarning: Columns (12) have mixed types. Specify dtype option on import or set low_memory=False.\n",
      "  interactivity=interactivity, compiler=compiler, result=result)\n",
      "//anaconda3/envs/DSEnv/lib/python3.7/site-packages/IPython/core/interactiveshell.py:3058: DtypeWarning: Columns (3) have mixed types. Specify dtype option on import or set low_memory=False.\n",
      "  interactivity=interactivity, compiler=compiler, result=result)\n"
     ]
    }
   ],
   "source": [
    "from functools import reduce\n",
    "\n",
    "df1 = pd.read_csv('https://raw.githubusercontent.com/xander-bennett/Projects/master/San%20Diego%20Police%20Data/Data/ripa_stops_datasd.csv',sep=',')\n",
    "df2 = pd.read_csv('https://raw.githubusercontent.com/xander-bennett/Projects/master/San%20Diego%20Police%20Data/Data/ripa_stop_reason_datasd.csv',sep=',')\n",
    "df3 = pd.read_csv('https://raw.githubusercontent.com/xander-bennett/Projects/master/San%20Diego%20Police%20Data/Data/ripa_race_datasd.csv',sep=',')\n",
    "df4 = pd.read_csv('https://raw.githubusercontent.com/xander-bennett/Projects/master/San%20Diego%20Police%20Data/Data/ripa_stop_result_datasd.csv',sep=',')\n",
    "df5 = pd.read_csv('https://raw.githubusercontent.com/xander-bennett/Projects/master/San%20Diego%20Police%20Data/Data/ripa_actions_taken_datasd.csv',sep=',')"
   ]
  },
  {
   "cell_type": "code",
   "execution_count": 3,
   "metadata": {
    "scrolled": true
   },
   "outputs": [
    {
     "name": "stdout",
     "output_type": "stream",
     "text": [
      "(321815, 41)\n"
     ]
    },
    {
     "data": {
      "text/html": [
       "<div>\n",
       "<style scoped>\n",
       "    .dataframe tbody tr th:only-of-type {\n",
       "        vertical-align: middle;\n",
       "    }\n",
       "\n",
       "    .dataframe tbody tr th {\n",
       "        vertical-align: top;\n",
       "    }\n",
       "\n",
       "    .dataframe thead th {\n",
       "        text-align: right;\n",
       "    }\n",
       "</style>\n",
       "<table border=\"1\" class=\"dataframe\">\n",
       "  <thead>\n",
       "    <tr style=\"text-align: right;\">\n",
       "      <th></th>\n",
       "      <th>stop_id</th>\n",
       "      <th>ori</th>\n",
       "      <th>agency</th>\n",
       "      <th>exp_years</th>\n",
       "      <th>stopdate</th>\n",
       "      <th>stoptime</th>\n",
       "      <th>stopduration</th>\n",
       "      <th>stop_in_response_to_cfs</th>\n",
       "      <th>officer_assignment_key</th>\n",
       "      <th>assignment</th>\n",
       "      <th>...</th>\n",
       "      <th>reason_for_stop_code_text</th>\n",
       "      <th>reason_for_stop_detail</th>\n",
       "      <th>reason_for_stop_explanation</th>\n",
       "      <th>race</th>\n",
       "      <th>resultkey</th>\n",
       "      <th>result</th>\n",
       "      <th>code</th>\n",
       "      <th>resulttext</th>\n",
       "      <th>action</th>\n",
       "      <th>consented</th>\n",
       "    </tr>\n",
       "  </thead>\n",
       "  <tbody>\n",
       "    <tr>\n",
       "      <th>0</th>\n",
       "      <td>2443</td>\n",
       "      <td>CA0371100</td>\n",
       "      <td>SD</td>\n",
       "      <td>10</td>\n",
       "      <td>2018-07-01</td>\n",
       "      <td>00:01:37</td>\n",
       "      <td>30</td>\n",
       "      <td>0</td>\n",
       "      <td>1</td>\n",
       "      <td>Patrol, traffic enforcement, field operations</td>\n",
       "      <td>...</td>\n",
       "      <td>647(F) PC - DISORD CONDUCT:ALCOHOL (M) 64005</td>\n",
       "      <td>Officer witnessed commission of a crime</td>\n",
       "      <td>staggering, unable to safely walk</td>\n",
       "      <td>White</td>\n",
       "      <td>6</td>\n",
       "      <td>Custodial Arrest without warrant</td>\n",
       "      <td>64005.0</td>\n",
       "      <td>647(F) PC - DISORD CONDUCT:ALCOHOL (M) 64005</td>\n",
       "      <td>None</td>\n",
       "      <td>NaN</td>\n",
       "    </tr>\n",
       "    <tr>\n",
       "      <th>1</th>\n",
       "      <td>2444</td>\n",
       "      <td>CA0371100</td>\n",
       "      <td>SD</td>\n",
       "      <td>18</td>\n",
       "      <td>2018-07-01</td>\n",
       "      <td>00:03:34</td>\n",
       "      <td>10</td>\n",
       "      <td>0</td>\n",
       "      <td>1</td>\n",
       "      <td>Patrol, traffic enforcement, field operations</td>\n",
       "      <td>...</td>\n",
       "      <td>22350 VC - UNSAFE SPEED:PREVAIL COND (I) 54106</td>\n",
       "      <td>Moving Violation</td>\n",
       "      <td>Speeding</td>\n",
       "      <td>White</td>\n",
       "      <td>2</td>\n",
       "      <td>Warning (verbal or written)</td>\n",
       "      <td>54395.0</td>\n",
       "      <td>22349(B) VC - EXC 55MPH SPEED:2 LANE RD (I) 54395</td>\n",
       "      <td>None</td>\n",
       "      <td>NaN</td>\n",
       "    </tr>\n",
       "    <tr>\n",
       "      <th>2</th>\n",
       "      <td>2447</td>\n",
       "      <td>CA0371100</td>\n",
       "      <td>SD</td>\n",
       "      <td>1</td>\n",
       "      <td>2018-07-01</td>\n",
       "      <td>00:05:43</td>\n",
       "      <td>15</td>\n",
       "      <td>1</td>\n",
       "      <td>10</td>\n",
       "      <td>Other</td>\n",
       "      <td>...</td>\n",
       "      <td>415(1) PC - FIGHT IN PUBLIC PLACE (M) 53072</td>\n",
       "      <td>Matched suspect description</td>\n",
       "      <td>Both parties involved in argument.</td>\n",
       "      <td>Hispanic/Latino/a</td>\n",
       "      <td>1</td>\n",
       "      <td>No Action</td>\n",
       "      <td>NaN</td>\n",
       "      <td>NaN</td>\n",
       "      <td>Curbside detention</td>\n",
       "      <td>NaN</td>\n",
       "    </tr>\n",
       "    <tr>\n",
       "      <th>3</th>\n",
       "      <td>2447</td>\n",
       "      <td>CA0371100</td>\n",
       "      <td>SD</td>\n",
       "      <td>1</td>\n",
       "      <td>2018-07-01</td>\n",
       "      <td>00:05:43</td>\n",
       "      <td>15</td>\n",
       "      <td>1</td>\n",
       "      <td>10</td>\n",
       "      <td>Other</td>\n",
       "      <td>...</td>\n",
       "      <td>415(1) PC - FIGHT IN PUBLIC PLACE (M) 53072</td>\n",
       "      <td>Other Reasonable Suspicion of a crime</td>\n",
       "      <td>Both parties engaged in argument.</td>\n",
       "      <td>Hispanic/Latino/a</td>\n",
       "      <td>1</td>\n",
       "      <td>No Action</td>\n",
       "      <td>NaN</td>\n",
       "      <td>NaN</td>\n",
       "      <td>Curbside detention</td>\n",
       "      <td>NaN</td>\n",
       "    </tr>\n",
       "    <tr>\n",
       "      <th>4</th>\n",
       "      <td>2448</td>\n",
       "      <td>CA0371100</td>\n",
       "      <td>SD</td>\n",
       "      <td>3</td>\n",
       "      <td>2018-07-01</td>\n",
       "      <td>00:19:06</td>\n",
       "      <td>5</td>\n",
       "      <td>0</td>\n",
       "      <td>1</td>\n",
       "      <td>Patrol, traffic enforcement, field operations</td>\n",
       "      <td>...</td>\n",
       "      <td>22350 VC - UNSAFE SPEED:PREVAIL COND (I) 54106</td>\n",
       "      <td>Moving Violation</td>\n",
       "      <td>UNSAFE DRIVING</td>\n",
       "      <td>White</td>\n",
       "      <td>1</td>\n",
       "      <td>No Action</td>\n",
       "      <td>NaN</td>\n",
       "      <td>NaN</td>\n",
       "      <td>None</td>\n",
       "      <td>NaN</td>\n",
       "    </tr>\n",
       "  </tbody>\n",
       "</table>\n",
       "<p>5 rows × 41 columns</p>\n",
       "</div>"
      ],
      "text/plain": [
       "   stop_id        ori agency  exp_years    stopdate  stoptime  stopduration  \\\n",
       "0     2443  CA0371100     SD         10  2018-07-01  00:01:37            30   \n",
       "1     2444  CA0371100     SD         18  2018-07-01  00:03:34            10   \n",
       "2     2447  CA0371100     SD          1  2018-07-01  00:05:43            15   \n",
       "3     2447  CA0371100     SD          1  2018-07-01  00:05:43            15   \n",
       "4     2448  CA0371100     SD          3  2018-07-01  00:19:06             5   \n",
       "\n",
       "   stop_in_response_to_cfs  officer_assignment_key  \\\n",
       "0                        0                       1   \n",
       "1                        0                       1   \n",
       "2                        1                      10   \n",
       "3                        1                      10   \n",
       "4                        0                       1   \n",
       "\n",
       "                                      assignment    ...     \\\n",
       "0  Patrol, traffic enforcement, field operations    ...      \n",
       "1  Patrol, traffic enforcement, field operations    ...      \n",
       "2                                          Other    ...      \n",
       "3                                          Other    ...      \n",
       "4  Patrol, traffic enforcement, field operations    ...      \n",
       "\n",
       "                        reason_for_stop_code_text  \\\n",
       "0    647(F) PC - DISORD CONDUCT:ALCOHOL (M) 64005   \n",
       "1  22350 VC - UNSAFE SPEED:PREVAIL COND (I) 54106   \n",
       "2     415(1) PC - FIGHT IN PUBLIC PLACE (M) 53072   \n",
       "3     415(1) PC - FIGHT IN PUBLIC PLACE (M) 53072   \n",
       "4  22350 VC - UNSAFE SPEED:PREVAIL COND (I) 54106   \n",
       "\n",
       "                    reason_for_stop_detail  \\\n",
       "0  Officer witnessed commission of a crime   \n",
       "1                         Moving Violation   \n",
       "2              Matched suspect description   \n",
       "3    Other Reasonable Suspicion of a crime   \n",
       "4                         Moving Violation   \n",
       "\n",
       "          reason_for_stop_explanation               race resultkey  \\\n",
       "0   staggering, unable to safely walk              White         6   \n",
       "1                            Speeding              White         2   \n",
       "2  Both parties involved in argument.  Hispanic/Latino/a         1   \n",
       "3   Both parties engaged in argument.  Hispanic/Latino/a         1   \n",
       "4                      UNSAFE DRIVING              White         1   \n",
       "\n",
       "                             result     code  \\\n",
       "0  Custodial Arrest without warrant  64005.0   \n",
       "1       Warning (verbal or written)  54395.0   \n",
       "2                         No Action      NaN   \n",
       "3                         No Action      NaN   \n",
       "4                         No Action      NaN   \n",
       "\n",
       "                                          resulttext              action  \\\n",
       "0       647(F) PC - DISORD CONDUCT:ALCOHOL (M) 64005                None   \n",
       "1  22349(B) VC - EXC 55MPH SPEED:2 LANE RD (I) 54395                None   \n",
       "2                                                NaN  Curbside detention   \n",
       "3                                                NaN  Curbside detention   \n",
       "4                                                NaN                None   \n",
       "\n",
       "  consented  \n",
       "0       NaN  \n",
       "1       NaN  \n",
       "2       NaN  \n",
       "3       NaN  \n",
       "4       NaN  \n",
       "\n",
       "[5 rows x 41 columns]"
      ]
     },
     "execution_count": 3,
     "metadata": {},
     "output_type": "execute_result"
    }
   ],
   "source": [
    "# Merge dataframes\n",
    "df_merged_1 = pd.merge(df1, df2, how='inner')\n",
    "df_merged_2 = pd.merge(df3, df4, how='inner')\n",
    "df_merged_3= pd.merge(df_merged_1, df_merged_2, how='inner')\n",
    "df = pd.merge(df_merged_3, df5, how='inner')\n",
    "\n",
    "print(df.shape)\n",
    "df.head()"
   ]
  },
  {
   "cell_type": "code",
   "execution_count": 4,
   "metadata": {},
   "outputs": [
    {
     "data": {
      "text/plain": [
       "['stop_id',\n",
       " 'ori',\n",
       " 'agency',\n",
       " 'exp_years',\n",
       " 'stopdate',\n",
       " 'stoptime',\n",
       " 'stopduration',\n",
       " 'stop_in_response_to_cfs',\n",
       " 'officer_assignment_key',\n",
       " 'assignment',\n",
       " 'intersection',\n",
       " 'block',\n",
       " 'land_mark',\n",
       " 'street',\n",
       " 'highway_exit',\n",
       " 'isschool',\n",
       " 'school_name',\n",
       " 'cityname',\n",
       " 'beat',\n",
       " 'beat_name',\n",
       " 'pid',\n",
       " 'isstudent',\n",
       " 'perceived_limited_english',\n",
       " 'perceived_age',\n",
       " 'perceived_gender',\n",
       " 'gender_nonconforming',\n",
       " 'gend',\n",
       " 'gend_nc',\n",
       " 'perceived_lgbt',\n",
       " 'reason_for_stop',\n",
       " 'reason_for_stopcode',\n",
       " 'reason_for_stop_code_text',\n",
       " 'reason_for_stop_detail',\n",
       " 'reason_for_stop_explanation',\n",
       " 'race',\n",
       " 'resultkey',\n",
       " 'result',\n",
       " 'code',\n",
       " 'resulttext',\n",
       " 'action',\n",
       " 'consented']"
      ]
     },
     "execution_count": 4,
     "metadata": {},
     "output_type": "execute_result"
    }
   ],
   "source": [
    "cols = df.columns.tolist()\n",
    "cols"
   ]
  },
  {
   "cell_type": "code",
   "execution_count": 5,
   "metadata": {
    "scrolled": true
   },
   "outputs": [
    {
     "data": {
      "text/plain": [
       "(321815, 17)"
      ]
     },
     "execution_count": 5,
     "metadata": {},
     "output_type": "execute_result"
    }
   ],
   "source": [
    "# dropping columns for missing values, constant values, etc.\n",
    "df = df.drop(['agency', 'ori', 'block', 'gend_nc', \n",
    "         'highway_exit', 'intersection', 'land_mark',\n",
    "         'school_name', 'street', 'gender_nonconforming', \n",
    "              'pid', 'consented', 'resulttext', 'code',\n",
    "              'beat', 'resultkey','reason_for_stopcode', \n",
    "              'isschool', 'stop_id', 'isstudent','reason_for_stop_code_text',\n",
    "             'reason_for_stop_explanation','cityname',\n",
    "             'perceived_gender'], axis=1)\n",
    "df.shape"
   ]
  },
  {
   "cell_type": "code",
   "execution_count": 6,
   "metadata": {},
   "outputs": [
    {
     "name": "stdout",
     "output_type": "stream",
     "text": [
      "(46469, 17)\n"
     ]
    },
    {
     "data": {
      "text/html": [
       "<div>\n",
       "<style scoped>\n",
       "    .dataframe tbody tr th:only-of-type {\n",
       "        vertical-align: middle;\n",
       "    }\n",
       "\n",
       "    .dataframe tbody tr th {\n",
       "        vertical-align: top;\n",
       "    }\n",
       "\n",
       "    .dataframe thead th {\n",
       "        text-align: right;\n",
       "    }\n",
       "</style>\n",
       "<table border=\"1\" class=\"dataframe\">\n",
       "  <thead>\n",
       "    <tr style=\"text-align: right;\">\n",
       "      <th></th>\n",
       "      <th>exp_years</th>\n",
       "      <th>stopdate</th>\n",
       "      <th>stoptime</th>\n",
       "      <th>stopduration</th>\n",
       "      <th>stop_in_response_to_cfs</th>\n",
       "      <th>officer_assignment_key</th>\n",
       "      <th>assignment</th>\n",
       "      <th>beat_name</th>\n",
       "      <th>perceived_limited_english</th>\n",
       "      <th>perceived_age</th>\n",
       "      <th>gend</th>\n",
       "      <th>perceived_lgbt</th>\n",
       "      <th>reason_for_stop</th>\n",
       "      <th>reason_for_stop_detail</th>\n",
       "      <th>race</th>\n",
       "      <th>result</th>\n",
       "      <th>action</th>\n",
       "    </tr>\n",
       "  </thead>\n",
       "  <tbody>\n",
       "    <tr>\n",
       "      <th>25</th>\n",
       "      <td>1</td>\n",
       "      <td>2018-07-01</td>\n",
       "      <td>01:03:00</td>\n",
       "      <td>15</td>\n",
       "      <td>0</td>\n",
       "      <td>1</td>\n",
       "      <td>Patrol, traffic enforcement, field operations</td>\n",
       "      <td>Pacific Beach 122</td>\n",
       "      <td>0</td>\n",
       "      <td>35</td>\n",
       "      <td>1</td>\n",
       "      <td>No</td>\n",
       "      <td>Traffic Violation</td>\n",
       "      <td>Moving Violation</td>\n",
       "      <td>Middle Eastern or South Asian</td>\n",
       "      <td>Citation for infraction</td>\n",
       "      <td>None</td>\n",
       "    </tr>\n",
       "    <tr>\n",
       "      <th>33</th>\n",
       "      <td>2</td>\n",
       "      <td>2018-07-01</td>\n",
       "      <td>01:52:51</td>\n",
       "      <td>12</td>\n",
       "      <td>0</td>\n",
       "      <td>1</td>\n",
       "      <td>Patrol, traffic enforcement, field operations</td>\n",
       "      <td>La Jolla 124</td>\n",
       "      <td>0</td>\n",
       "      <td>20</td>\n",
       "      <td>1</td>\n",
       "      <td>No</td>\n",
       "      <td>Traffic Violation</td>\n",
       "      <td>Moving Violation</td>\n",
       "      <td>White</td>\n",
       "      <td>Citation for infraction</td>\n",
       "      <td>None</td>\n",
       "    </tr>\n",
       "    <tr>\n",
       "      <th>93</th>\n",
       "      <td>1</td>\n",
       "      <td>2018-07-01</td>\n",
       "      <td>05:00:49</td>\n",
       "      <td>20</td>\n",
       "      <td>0</td>\n",
       "      <td>1</td>\n",
       "      <td>Patrol, traffic enforcement, field operations</td>\n",
       "      <td>Sorrento Valley 931</td>\n",
       "      <td>0</td>\n",
       "      <td>22</td>\n",
       "      <td>2</td>\n",
       "      <td>No</td>\n",
       "      <td>Traffic Violation</td>\n",
       "      <td>Equipment Violation</td>\n",
       "      <td>Asian</td>\n",
       "      <td>Citation for infraction</td>\n",
       "      <td>None</td>\n",
       "    </tr>\n",
       "    <tr>\n",
       "      <th>95</th>\n",
       "      <td>10</td>\n",
       "      <td>2018-07-01</td>\n",
       "      <td>05:29:26</td>\n",
       "      <td>15</td>\n",
       "      <td>0</td>\n",
       "      <td>1</td>\n",
       "      <td>Patrol, traffic enforcement, field operations</td>\n",
       "      <td>Pacific Beach 122</td>\n",
       "      <td>0</td>\n",
       "      <td>21</td>\n",
       "      <td>1</td>\n",
       "      <td>No</td>\n",
       "      <td>Reasonable Suspicion</td>\n",
       "      <td>Officer witnessed commission of a crime</td>\n",
       "      <td>White</td>\n",
       "      <td>Citation for infraction</td>\n",
       "      <td>Curbside detention</td>\n",
       "    </tr>\n",
       "    <tr>\n",
       "      <th>109</th>\n",
       "      <td>1</td>\n",
       "      <td>2018-07-01</td>\n",
       "      <td>05:42:21</td>\n",
       "      <td>83</td>\n",
       "      <td>0</td>\n",
       "      <td>1</td>\n",
       "      <td>Patrol, traffic enforcement, field operations</td>\n",
       "      <td>Golden Hill 517</td>\n",
       "      <td>0</td>\n",
       "      <td>55</td>\n",
       "      <td>1</td>\n",
       "      <td>No</td>\n",
       "      <td>Traffic Violation</td>\n",
       "      <td>Non-moving Violation, including Registration V...</td>\n",
       "      <td>White</td>\n",
       "      <td>Citation for infraction</td>\n",
       "      <td>Vehicle impounded</td>\n",
       "    </tr>\n",
       "  </tbody>\n",
       "</table>\n",
       "</div>"
      ],
      "text/plain": [
       "     exp_years    stopdate  stoptime  stopduration  stop_in_response_to_cfs  \\\n",
       "25           1  2018-07-01  01:03:00            15                        0   \n",
       "33           2  2018-07-01  01:52:51            12                        0   \n",
       "93           1  2018-07-01  05:00:49            20                        0   \n",
       "95          10  2018-07-01  05:29:26            15                        0   \n",
       "109          1  2018-07-01  05:42:21            83                        0   \n",
       "\n",
       "     officer_assignment_key                                     assignment  \\\n",
       "25                        1  Patrol, traffic enforcement, field operations   \n",
       "33                        1  Patrol, traffic enforcement, field operations   \n",
       "93                        1  Patrol, traffic enforcement, field operations   \n",
       "95                        1  Patrol, traffic enforcement, field operations   \n",
       "109                       1  Patrol, traffic enforcement, field operations   \n",
       "\n",
       "               beat_name  perceived_limited_english  perceived_age  gend  \\\n",
       "25     Pacific Beach 122                          0             35     1   \n",
       "33          La Jolla 124                          0             20     1   \n",
       "93   Sorrento Valley 931                          0             22     2   \n",
       "95     Pacific Beach 122                          0             21     1   \n",
       "109      Golden Hill 517                          0             55     1   \n",
       "\n",
       "    perceived_lgbt       reason_for_stop  \\\n",
       "25              No     Traffic Violation   \n",
       "33              No     Traffic Violation   \n",
       "93              No     Traffic Violation   \n",
       "95              No  Reasonable Suspicion   \n",
       "109             No     Traffic Violation   \n",
       "\n",
       "                                reason_for_stop_detail  \\\n",
       "25                                    Moving Violation   \n",
       "33                                    Moving Violation   \n",
       "93                                 Equipment Violation   \n",
       "95             Officer witnessed commission of a crime   \n",
       "109  Non-moving Violation, including Registration V...   \n",
       "\n",
       "                              race                   result  \\\n",
       "25   Middle Eastern or South Asian  Citation for infraction   \n",
       "33                           White  Citation for infraction   \n",
       "93                           Asian  Citation for infraction   \n",
       "95                           White  Citation for infraction   \n",
       "109                          White  Citation for infraction   \n",
       "\n",
       "                 action  \n",
       "25                 None  \n",
       "33                 None  \n",
       "93                 None  \n",
       "95   Curbside detention  \n",
       "109   Vehicle impounded  "
      ]
     },
     "execution_count": 6,
     "metadata": {},
     "output_type": "execute_result"
    }
   ],
   "source": [
    "# Testing to filter for stops that gave a ticket\n",
    "# gender - 1 is for a male, 2 is for female\n",
    "mask = (df['result'] == 'Citation for infraction')\n",
    "print(df[mask].shape)\n",
    "df[mask].head()"
   ]
  },
  {
   "cell_type": "code",
   "execution_count": 7,
   "metadata": {},
   "outputs": [
    {
     "data": {
      "text/html": [
       "<div>\n",
       "<style scoped>\n",
       "    .dataframe tbody tr th:only-of-type {\n",
       "        vertical-align: middle;\n",
       "    }\n",
       "\n",
       "    .dataframe tbody tr th {\n",
       "        vertical-align: top;\n",
       "    }\n",
       "\n",
       "    .dataframe thead th {\n",
       "        text-align: right;\n",
       "    }\n",
       "</style>\n",
       "<table border=\"1\" class=\"dataframe\">\n",
       "  <thead>\n",
       "    <tr style=\"text-align: right;\">\n",
       "      <th></th>\n",
       "      <th>exp_years</th>\n",
       "      <th>stopdate</th>\n",
       "      <th>stoptime</th>\n",
       "      <th>stopduration</th>\n",
       "      <th>stop_in_response_to_cfs</th>\n",
       "      <th>officer_assignment_key</th>\n",
       "      <th>assignment</th>\n",
       "      <th>beat_name</th>\n",
       "      <th>perceived_limited_english</th>\n",
       "      <th>perceived_age</th>\n",
       "      <th>gend</th>\n",
       "      <th>perceived_lgbt</th>\n",
       "      <th>reason_for_stop</th>\n",
       "      <th>reason_for_stop_detail</th>\n",
       "      <th>race</th>\n",
       "      <th>result</th>\n",
       "      <th>action</th>\n",
       "    </tr>\n",
       "  </thead>\n",
       "  <tbody>\n",
       "    <tr>\n",
       "      <th>25</th>\n",
       "      <td>1</td>\n",
       "      <td>2018-07-01</td>\n",
       "      <td>01:03:00</td>\n",
       "      <td>15</td>\n",
       "      <td>0</td>\n",
       "      <td>1</td>\n",
       "      <td>Patrol, traffic enforcement, field operations</td>\n",
       "      <td>Pacific Beach 122</td>\n",
       "      <td>0</td>\n",
       "      <td>35</td>\n",
       "      <td>1</td>\n",
       "      <td>No</td>\n",
       "      <td>Traffic Violation</td>\n",
       "      <td>Moving Violation</td>\n",
       "      <td>Middle Eastern or South Asian</td>\n",
       "      <td>Citation for infraction</td>\n",
       "      <td>None</td>\n",
       "    </tr>\n",
       "    <tr>\n",
       "      <th>33</th>\n",
       "      <td>2</td>\n",
       "      <td>2018-07-01</td>\n",
       "      <td>01:52:51</td>\n",
       "      <td>12</td>\n",
       "      <td>0</td>\n",
       "      <td>1</td>\n",
       "      <td>Patrol, traffic enforcement, field operations</td>\n",
       "      <td>La Jolla 124</td>\n",
       "      <td>0</td>\n",
       "      <td>20</td>\n",
       "      <td>1</td>\n",
       "      <td>No</td>\n",
       "      <td>Traffic Violation</td>\n",
       "      <td>Moving Violation</td>\n",
       "      <td>White</td>\n",
       "      <td>Citation for infraction</td>\n",
       "      <td>None</td>\n",
       "    </tr>\n",
       "    <tr>\n",
       "      <th>93</th>\n",
       "      <td>1</td>\n",
       "      <td>2018-07-01</td>\n",
       "      <td>05:00:49</td>\n",
       "      <td>20</td>\n",
       "      <td>0</td>\n",
       "      <td>1</td>\n",
       "      <td>Patrol, traffic enforcement, field operations</td>\n",
       "      <td>Sorrento Valley 931</td>\n",
       "      <td>0</td>\n",
       "      <td>22</td>\n",
       "      <td>2</td>\n",
       "      <td>No</td>\n",
       "      <td>Traffic Violation</td>\n",
       "      <td>Equipment Violation</td>\n",
       "      <td>Asian</td>\n",
       "      <td>Citation for infraction</td>\n",
       "      <td>None</td>\n",
       "    </tr>\n",
       "    <tr>\n",
       "      <th>95</th>\n",
       "      <td>10</td>\n",
       "      <td>2018-07-01</td>\n",
       "      <td>05:29:26</td>\n",
       "      <td>15</td>\n",
       "      <td>0</td>\n",
       "      <td>1</td>\n",
       "      <td>Patrol, traffic enforcement, field operations</td>\n",
       "      <td>Pacific Beach 122</td>\n",
       "      <td>0</td>\n",
       "      <td>21</td>\n",
       "      <td>1</td>\n",
       "      <td>No</td>\n",
       "      <td>Reasonable Suspicion</td>\n",
       "      <td>Officer witnessed commission of a crime</td>\n",
       "      <td>White</td>\n",
       "      <td>Citation for infraction</td>\n",
       "      <td>Curbside detention</td>\n",
       "    </tr>\n",
       "    <tr>\n",
       "      <th>109</th>\n",
       "      <td>1</td>\n",
       "      <td>2018-07-01</td>\n",
       "      <td>05:42:21</td>\n",
       "      <td>83</td>\n",
       "      <td>0</td>\n",
       "      <td>1</td>\n",
       "      <td>Patrol, traffic enforcement, field operations</td>\n",
       "      <td>Golden Hill 517</td>\n",
       "      <td>0</td>\n",
       "      <td>55</td>\n",
       "      <td>1</td>\n",
       "      <td>No</td>\n",
       "      <td>Traffic Violation</td>\n",
       "      <td>Non-moving Violation, including Registration V...</td>\n",
       "      <td>White</td>\n",
       "      <td>Citation for infraction</td>\n",
       "      <td>Vehicle impounded</td>\n",
       "    </tr>\n",
       "  </tbody>\n",
       "</table>\n",
       "</div>"
      ],
      "text/plain": [
       "     exp_years    stopdate  stoptime  stopduration  stop_in_response_to_cfs  \\\n",
       "25           1  2018-07-01  01:03:00            15                        0   \n",
       "33           2  2018-07-01  01:52:51            12                        0   \n",
       "93           1  2018-07-01  05:00:49            20                        0   \n",
       "95          10  2018-07-01  05:29:26            15                        0   \n",
       "109          1  2018-07-01  05:42:21            83                        0   \n",
       "\n",
       "     officer_assignment_key                                     assignment  \\\n",
       "25                        1  Patrol, traffic enforcement, field operations   \n",
       "33                        1  Patrol, traffic enforcement, field operations   \n",
       "93                        1  Patrol, traffic enforcement, field operations   \n",
       "95                        1  Patrol, traffic enforcement, field operations   \n",
       "109                       1  Patrol, traffic enforcement, field operations   \n",
       "\n",
       "               beat_name  perceived_limited_english  perceived_age  gend  \\\n",
       "25     Pacific Beach 122                          0             35     1   \n",
       "33          La Jolla 124                          0             20     1   \n",
       "93   Sorrento Valley 931                          0             22     2   \n",
       "95     Pacific Beach 122                          0             21     1   \n",
       "109      Golden Hill 517                          0             55     1   \n",
       "\n",
       "    perceived_lgbt       reason_for_stop  \\\n",
       "25              No     Traffic Violation   \n",
       "33              No     Traffic Violation   \n",
       "93              No     Traffic Violation   \n",
       "95              No  Reasonable Suspicion   \n",
       "109             No     Traffic Violation   \n",
       "\n",
       "                                reason_for_stop_detail  \\\n",
       "25                                    Moving Violation   \n",
       "33                                    Moving Violation   \n",
       "93                                 Equipment Violation   \n",
       "95             Officer witnessed commission of a crime   \n",
       "109  Non-moving Violation, including Registration V...   \n",
       "\n",
       "                              race                   result  \\\n",
       "25   Middle Eastern or South Asian  Citation for infraction   \n",
       "33                           White  Citation for infraction   \n",
       "93                           Asian  Citation for infraction   \n",
       "95                           White  Citation for infraction   \n",
       "109                          White  Citation for infraction   \n",
       "\n",
       "                 action  \n",
       "25                 None  \n",
       "33                 None  \n",
       "93                 None  \n",
       "95   Curbside detention  \n",
       "109   Vehicle impounded  "
      ]
     },
     "execution_count": 7,
     "metadata": {},
     "output_type": "execute_result"
    }
   ],
   "source": [
    "test = df[mask]\n",
    "test.head()"
   ]
  },
  {
   "cell_type": "code",
   "execution_count": 8,
   "metadata": {},
   "outputs": [
    {
     "data": {
      "text/plain": [
       "(114768, 17)"
      ]
     },
     "execution_count": 8,
     "metadata": {},
     "output_type": "execute_result"
    }
   ],
   "source": [
    "# Narrowing result columns to ticket or non-ticket actions\n",
    "list = ['No Action','Warning (verbal or written)', 'Citation for infraction']\n",
    "test = df[df.result.isin(list)]\n",
    "test.shape"
   ]
  },
  {
   "cell_type": "code",
   "execution_count": 9,
   "metadata": {},
   "outputs": [
    {
     "data": {
      "text/plain": [
       "Citation for infraction        46469\n",
       "Warning (verbal or written)    36003\n",
       "No Action                      32296\n",
       "Name: result, dtype: int64"
      ]
     },
     "execution_count": 9,
     "metadata": {},
     "output_type": "execute_result"
    }
   ],
   "source": [
    "# Confirming that only ticketed and non-ticketed stops are included\n",
    "test.result.value_counts()"
   ]
  },
  {
   "cell_type": "code",
   "execution_count": 10,
   "metadata": {},
   "outputs": [
    {
     "data": {
      "text/plain": [
       "(114768, 17)"
      ]
     },
     "execution_count": 10,
     "metadata": {},
     "output_type": "execute_result"
    }
   ],
   "source": [
    "# Applying to df\n",
    "df = df[df.result.isin(list)]\n",
    "df.shape"
   ]
  },
  {
   "cell_type": "code",
   "execution_count": 11,
   "metadata": {
    "scrolled": true
   },
   "outputs": [
    {
     "data": {
      "text/html": [
       "<div>\n",
       "<style scoped>\n",
       "    .dataframe tbody tr th:only-of-type {\n",
       "        vertical-align: middle;\n",
       "    }\n",
       "\n",
       "    .dataframe tbody tr th {\n",
       "        vertical-align: top;\n",
       "    }\n",
       "\n",
       "    .dataframe thead th {\n",
       "        text-align: right;\n",
       "    }\n",
       "</style>\n",
       "<table border=\"1\" class=\"dataframe\">\n",
       "  <thead>\n",
       "    <tr style=\"text-align: right;\">\n",
       "      <th></th>\n",
       "      <th>exp_years</th>\n",
       "      <th>stopdate</th>\n",
       "      <th>stoptime</th>\n",
       "      <th>stopduration</th>\n",
       "      <th>stop_in_response_to_cfs</th>\n",
       "      <th>officer_assignment_key</th>\n",
       "      <th>assignment</th>\n",
       "      <th>beat_name</th>\n",
       "      <th>perceived_limited_english</th>\n",
       "      <th>perceived_age</th>\n",
       "      <th>gend</th>\n",
       "      <th>perceived_lgbt</th>\n",
       "      <th>reason_for_stop</th>\n",
       "      <th>reason_for_stop_detail</th>\n",
       "      <th>race</th>\n",
       "      <th>result</th>\n",
       "      <th>action</th>\n",
       "    </tr>\n",
       "  </thead>\n",
       "  <tbody>\n",
       "    <tr>\n",
       "      <th>1</th>\n",
       "      <td>18</td>\n",
       "      <td>2018-07-01</td>\n",
       "      <td>00:03:34</td>\n",
       "      <td>10</td>\n",
       "      <td>0</td>\n",
       "      <td>1</td>\n",
       "      <td>Patrol, traffic enforcement, field operations</td>\n",
       "      <td>Mission Beach 121</td>\n",
       "      <td>0</td>\n",
       "      <td>25</td>\n",
       "      <td>1</td>\n",
       "      <td>No</td>\n",
       "      <td>Traffic Violation</td>\n",
       "      <td>Moving Violation</td>\n",
       "      <td>White</td>\n",
       "      <td>Warning (verbal or written)</td>\n",
       "      <td>None</td>\n",
       "    </tr>\n",
       "    <tr>\n",
       "      <th>2</th>\n",
       "      <td>1</td>\n",
       "      <td>2018-07-01</td>\n",
       "      <td>00:05:43</td>\n",
       "      <td>15</td>\n",
       "      <td>1</td>\n",
       "      <td>10</td>\n",
       "      <td>Other</td>\n",
       "      <td>El Cerrito 822</td>\n",
       "      <td>0</td>\n",
       "      <td>30</td>\n",
       "      <td>1</td>\n",
       "      <td>No</td>\n",
       "      <td>Reasonable Suspicion</td>\n",
       "      <td>Matched suspect description</td>\n",
       "      <td>Hispanic/Latino/a</td>\n",
       "      <td>No Action</td>\n",
       "      <td>Curbside detention</td>\n",
       "    </tr>\n",
       "    <tr>\n",
       "      <th>3</th>\n",
       "      <td>1</td>\n",
       "      <td>2018-07-01</td>\n",
       "      <td>00:05:43</td>\n",
       "      <td>15</td>\n",
       "      <td>1</td>\n",
       "      <td>10</td>\n",
       "      <td>Other</td>\n",
       "      <td>El Cerrito 822</td>\n",
       "      <td>0</td>\n",
       "      <td>30</td>\n",
       "      <td>2</td>\n",
       "      <td>No</td>\n",
       "      <td>Reasonable Suspicion</td>\n",
       "      <td>Other Reasonable Suspicion of a crime</td>\n",
       "      <td>Hispanic/Latino/a</td>\n",
       "      <td>No Action</td>\n",
       "      <td>Curbside detention</td>\n",
       "    </tr>\n",
       "    <tr>\n",
       "      <th>4</th>\n",
       "      <td>3</td>\n",
       "      <td>2018-07-01</td>\n",
       "      <td>00:19:06</td>\n",
       "      <td>5</td>\n",
       "      <td>0</td>\n",
       "      <td>1</td>\n",
       "      <td>Patrol, traffic enforcement, field operations</td>\n",
       "      <td>Ocean Beach 614</td>\n",
       "      <td>0</td>\n",
       "      <td>23</td>\n",
       "      <td>1</td>\n",
       "      <td>No</td>\n",
       "      <td>Traffic Violation</td>\n",
       "      <td>Moving Violation</td>\n",
       "      <td>White</td>\n",
       "      <td>No Action</td>\n",
       "      <td>None</td>\n",
       "    </tr>\n",
       "    <tr>\n",
       "      <th>16</th>\n",
       "      <td>4</td>\n",
       "      <td>2018-07-01</td>\n",
       "      <td>00:33:19</td>\n",
       "      <td>3</td>\n",
       "      <td>0</td>\n",
       "      <td>2</td>\n",
       "      <td>Gang enforcement</td>\n",
       "      <td>Colina Del Sol 826</td>\n",
       "      <td>0</td>\n",
       "      <td>30</td>\n",
       "      <td>1</td>\n",
       "      <td>No</td>\n",
       "      <td>Traffic Violation</td>\n",
       "      <td>Non-moving Violation, including Registration V...</td>\n",
       "      <td>Black/African American</td>\n",
       "      <td>No Action</td>\n",
       "      <td>None</td>\n",
       "    </tr>\n",
       "  </tbody>\n",
       "</table>\n",
       "</div>"
      ],
      "text/plain": [
       "    exp_years    stopdate  stoptime  stopduration  stop_in_response_to_cfs  \\\n",
       "1          18  2018-07-01  00:03:34            10                        0   \n",
       "2           1  2018-07-01  00:05:43            15                        1   \n",
       "3           1  2018-07-01  00:05:43            15                        1   \n",
       "4           3  2018-07-01  00:19:06             5                        0   \n",
       "16          4  2018-07-01  00:33:19             3                        0   \n",
       "\n",
       "    officer_assignment_key                                     assignment  \\\n",
       "1                        1  Patrol, traffic enforcement, field operations   \n",
       "2                       10                                          Other   \n",
       "3                       10                                          Other   \n",
       "4                        1  Patrol, traffic enforcement, field operations   \n",
       "16                       2                               Gang enforcement   \n",
       "\n",
       "             beat_name  perceived_limited_english  perceived_age  gend  \\\n",
       "1    Mission Beach 121                          0             25     1   \n",
       "2       El Cerrito 822                          0             30     1   \n",
       "3       El Cerrito 822                          0             30     2   \n",
       "4      Ocean Beach 614                          0             23     1   \n",
       "16  Colina Del Sol 826                          0             30     1   \n",
       "\n",
       "   perceived_lgbt       reason_for_stop  \\\n",
       "1              No     Traffic Violation   \n",
       "2              No  Reasonable Suspicion   \n",
       "3              No  Reasonable Suspicion   \n",
       "4              No     Traffic Violation   \n",
       "16             No     Traffic Violation   \n",
       "\n",
       "                               reason_for_stop_detail                    race  \\\n",
       "1                                    Moving Violation                   White   \n",
       "2                         Matched suspect description       Hispanic/Latino/a   \n",
       "3               Other Reasonable Suspicion of a crime       Hispanic/Latino/a   \n",
       "4                                    Moving Violation                   White   \n",
       "16  Non-moving Violation, including Registration V...  Black/African American   \n",
       "\n",
       "                         result              action  \n",
       "1   Warning (verbal or written)                None  \n",
       "2                     No Action  Curbside detention  \n",
       "3                     No Action  Curbside detention  \n",
       "4                     No Action                None  \n",
       "16                    No Action                None  "
      ]
     },
     "execution_count": 11,
     "metadata": {},
     "output_type": "execute_result"
    }
   ],
   "source": [
    "df.head()"
   ]
  },
  {
   "cell_type": "markdown",
   "metadata": {},
   "source": [
    "# Feature Engineering"
   ]
  },
  {
   "cell_type": "code",
   "execution_count": 12,
   "metadata": {
    "scrolled": true
   },
   "outputs": [
    {
     "data": {
      "text/html": [
       "<div>\n",
       "<style scoped>\n",
       "    .dataframe tbody tr th:only-of-type {\n",
       "        vertical-align: middle;\n",
       "    }\n",
       "\n",
       "    .dataframe tbody tr th {\n",
       "        vertical-align: top;\n",
       "    }\n",
       "\n",
       "    .dataframe thead th {\n",
       "        text-align: right;\n",
       "    }\n",
       "</style>\n",
       "<table border=\"1\" class=\"dataframe\">\n",
       "  <thead>\n",
       "    <tr style=\"text-align: right;\">\n",
       "      <th></th>\n",
       "      <th>exp_years</th>\n",
       "      <th>stoptime</th>\n",
       "      <th>stopduration</th>\n",
       "      <th>stop_in_response_to_cfs</th>\n",
       "      <th>officer_assignment_key</th>\n",
       "      <th>assignment</th>\n",
       "      <th>beat_name</th>\n",
       "      <th>perceived_limited_english</th>\n",
       "      <th>perceived_age</th>\n",
       "      <th>gend</th>\n",
       "      <th>perceived_lgbt</th>\n",
       "      <th>reason_for_stop</th>\n",
       "      <th>reason_for_stop_detail</th>\n",
       "      <th>race</th>\n",
       "      <th>result</th>\n",
       "      <th>action</th>\n",
       "      <th>month</th>\n",
       "      <th>year</th>\n",
       "      <th>day</th>\n",
       "    </tr>\n",
       "  </thead>\n",
       "  <tbody>\n",
       "    <tr>\n",
       "      <th>1</th>\n",
       "      <td>18</td>\n",
       "      <td>00:03:34</td>\n",
       "      <td>10</td>\n",
       "      <td>0</td>\n",
       "      <td>1</td>\n",
       "      <td>Patrol, traffic enforcement, field operations</td>\n",
       "      <td>Mission Beach 121</td>\n",
       "      <td>0</td>\n",
       "      <td>25</td>\n",
       "      <td>1</td>\n",
       "      <td>No</td>\n",
       "      <td>Traffic Violation</td>\n",
       "      <td>Moving Violation</td>\n",
       "      <td>White</td>\n",
       "      <td>Warning (verbal or written)</td>\n",
       "      <td>None</td>\n",
       "      <td>7</td>\n",
       "      <td>2018</td>\n",
       "      <td>1</td>\n",
       "    </tr>\n",
       "    <tr>\n",
       "      <th>2</th>\n",
       "      <td>1</td>\n",
       "      <td>00:05:43</td>\n",
       "      <td>15</td>\n",
       "      <td>1</td>\n",
       "      <td>10</td>\n",
       "      <td>Other</td>\n",
       "      <td>El Cerrito 822</td>\n",
       "      <td>0</td>\n",
       "      <td>30</td>\n",
       "      <td>1</td>\n",
       "      <td>No</td>\n",
       "      <td>Reasonable Suspicion</td>\n",
       "      <td>Matched suspect description</td>\n",
       "      <td>Hispanic/Latino/a</td>\n",
       "      <td>No Action</td>\n",
       "      <td>Curbside detention</td>\n",
       "      <td>7</td>\n",
       "      <td>2018</td>\n",
       "      <td>1</td>\n",
       "    </tr>\n",
       "    <tr>\n",
       "      <th>3</th>\n",
       "      <td>1</td>\n",
       "      <td>00:05:43</td>\n",
       "      <td>15</td>\n",
       "      <td>1</td>\n",
       "      <td>10</td>\n",
       "      <td>Other</td>\n",
       "      <td>El Cerrito 822</td>\n",
       "      <td>0</td>\n",
       "      <td>30</td>\n",
       "      <td>2</td>\n",
       "      <td>No</td>\n",
       "      <td>Reasonable Suspicion</td>\n",
       "      <td>Other Reasonable Suspicion of a crime</td>\n",
       "      <td>Hispanic/Latino/a</td>\n",
       "      <td>No Action</td>\n",
       "      <td>Curbside detention</td>\n",
       "      <td>7</td>\n",
       "      <td>2018</td>\n",
       "      <td>1</td>\n",
       "    </tr>\n",
       "    <tr>\n",
       "      <th>4</th>\n",
       "      <td>3</td>\n",
       "      <td>00:19:06</td>\n",
       "      <td>5</td>\n",
       "      <td>0</td>\n",
       "      <td>1</td>\n",
       "      <td>Patrol, traffic enforcement, field operations</td>\n",
       "      <td>Ocean Beach 614</td>\n",
       "      <td>0</td>\n",
       "      <td>23</td>\n",
       "      <td>1</td>\n",
       "      <td>No</td>\n",
       "      <td>Traffic Violation</td>\n",
       "      <td>Moving Violation</td>\n",
       "      <td>White</td>\n",
       "      <td>No Action</td>\n",
       "      <td>None</td>\n",
       "      <td>7</td>\n",
       "      <td>2018</td>\n",
       "      <td>1</td>\n",
       "    </tr>\n",
       "    <tr>\n",
       "      <th>16</th>\n",
       "      <td>4</td>\n",
       "      <td>00:33:19</td>\n",
       "      <td>3</td>\n",
       "      <td>0</td>\n",
       "      <td>2</td>\n",
       "      <td>Gang enforcement</td>\n",
       "      <td>Colina Del Sol 826</td>\n",
       "      <td>0</td>\n",
       "      <td>30</td>\n",
       "      <td>1</td>\n",
       "      <td>No</td>\n",
       "      <td>Traffic Violation</td>\n",
       "      <td>Non-moving Violation, including Registration V...</td>\n",
       "      <td>Black/African American</td>\n",
       "      <td>No Action</td>\n",
       "      <td>None</td>\n",
       "      <td>7</td>\n",
       "      <td>2018</td>\n",
       "      <td>1</td>\n",
       "    </tr>\n",
       "  </tbody>\n",
       "</table>\n",
       "</div>"
      ],
      "text/plain": [
       "    exp_years  stoptime  stopduration  stop_in_response_to_cfs  \\\n",
       "1          18  00:03:34            10                        0   \n",
       "2           1  00:05:43            15                        1   \n",
       "3           1  00:05:43            15                        1   \n",
       "4           3  00:19:06             5                        0   \n",
       "16          4  00:33:19             3                        0   \n",
       "\n",
       "    officer_assignment_key                                     assignment  \\\n",
       "1                        1  Patrol, traffic enforcement, field operations   \n",
       "2                       10                                          Other   \n",
       "3                       10                                          Other   \n",
       "4                        1  Patrol, traffic enforcement, field operations   \n",
       "16                       2                               Gang enforcement   \n",
       "\n",
       "             beat_name  perceived_limited_english  perceived_age  gend  \\\n",
       "1    Mission Beach 121                          0             25     1   \n",
       "2       El Cerrito 822                          0             30     1   \n",
       "3       El Cerrito 822                          0             30     2   \n",
       "4      Ocean Beach 614                          0             23     1   \n",
       "16  Colina Del Sol 826                          0             30     1   \n",
       "\n",
       "   perceived_lgbt       reason_for_stop  \\\n",
       "1              No     Traffic Violation   \n",
       "2              No  Reasonable Suspicion   \n",
       "3              No  Reasonable Suspicion   \n",
       "4              No     Traffic Violation   \n",
       "16             No     Traffic Violation   \n",
       "\n",
       "                               reason_for_stop_detail                    race  \\\n",
       "1                                    Moving Violation                   White   \n",
       "2                         Matched suspect description       Hispanic/Latino/a   \n",
       "3               Other Reasonable Suspicion of a crime       Hispanic/Latino/a   \n",
       "4                                    Moving Violation                   White   \n",
       "16  Non-moving Violation, including Registration V...  Black/African American   \n",
       "\n",
       "                         result              action  month  year  day  \n",
       "1   Warning (verbal or written)                None      7  2018    1  \n",
       "2                     No Action  Curbside detention      7  2018    1  \n",
       "3                     No Action  Curbside detention      7  2018    1  \n",
       "4                     No Action                None      7  2018    1  \n",
       "16                    No Action                None      7  2018    1  "
      ]
     },
     "execution_count": 12,
     "metadata": {},
     "output_type": "execute_result"
    }
   ],
   "source": [
    "# Engineering month, year features\n",
    "df.stopdate = pd.to_datetime(df.stopdate, infer_datetime_format=True)\n",
    "df['month'] = df.stopdate.dt.month\n",
    "df['year'] = df.stopdate.dt.year\n",
    "df['day'] = df.stopdate.dt.day\n",
    "\n",
    "df = df.drop(columns='stopdate')\n",
    "df.head()"
   ]
  },
  {
   "cell_type": "code",
   "execution_count": 13,
   "metadata": {
    "scrolled": true
   },
   "outputs": [],
   "source": [
    "# Creating ticket column\n",
    "# df['ticket'] = df['result'] == 'Citation for infraction'\n",
    "# df['no_ticket'] = df['result'] != 'Citation for infraction'\n",
    "# df.head()"
   ]
  },
  {
   "cell_type": "code",
   "execution_count": 14,
   "metadata": {},
   "outputs": [],
   "source": [
    "# Only including clean data rows from stoptime. This removes 28 rows\n",
    "df = df[df['stoptime'].str.len()<=8]"
   ]
  },
  {
   "cell_type": "code",
   "execution_count": 15,
   "metadata": {
    "scrolled": false
   },
   "outputs": [
    {
     "data": {
      "text/plain": [
       "1     0\n",
       "2     0\n",
       "3     0\n",
       "4     0\n",
       "16    0\n",
       "Name: stop_hour, dtype: int64"
      ]
     },
     "execution_count": 15,
     "metadata": {},
     "output_type": "execute_result"
    }
   ],
   "source": [
    "# Now binning stoptimes by hour of the day. 0-24\n",
    "df['stop_hour'] = pd.to_datetime(df['stoptime']).dt.hour\n",
    "df = df.drop(columns='stoptime')\n",
    "df.stop_hour.head()"
   ]
  },
  {
   "cell_type": "code",
   "execution_count": 16,
   "metadata": {},
   "outputs": [
    {
     "data": {
      "text/plain": [
       "dtype('int64')"
      ]
     },
     "execution_count": 16,
     "metadata": {},
     "output_type": "execute_result"
    }
   ],
   "source": [
    "df.stop_hour.dtype"
   ]
  },
  {
   "cell_type": "code",
   "execution_count": 17,
   "metadata": {
    "scrolled": true
   },
   "outputs": [
    {
     "data": {
      "text/html": [
       "<div>\n",
       "<style scoped>\n",
       "    .dataframe tbody tr th:only-of-type {\n",
       "        vertical-align: middle;\n",
       "    }\n",
       "\n",
       "    .dataframe tbody tr th {\n",
       "        vertical-align: top;\n",
       "    }\n",
       "\n",
       "    .dataframe thead th {\n",
       "        text-align: right;\n",
       "    }\n",
       "</style>\n",
       "<table border=\"1\" class=\"dataframe\">\n",
       "  <thead>\n",
       "    <tr style=\"text-align: right;\">\n",
       "      <th></th>\n",
       "      <th>exp_years</th>\n",
       "      <th>stopduration</th>\n",
       "      <th>stop_in_response_to_cfs</th>\n",
       "      <th>officer_assignment_key</th>\n",
       "      <th>assignment</th>\n",
       "      <th>beat_name</th>\n",
       "      <th>perceived_limited_english</th>\n",
       "      <th>perceived_age</th>\n",
       "      <th>gend</th>\n",
       "      <th>perceived_lgbt</th>\n",
       "      <th>...</th>\n",
       "      <th>race</th>\n",
       "      <th>result</th>\n",
       "      <th>action</th>\n",
       "      <th>month</th>\n",
       "      <th>year</th>\n",
       "      <th>day</th>\n",
       "      <th>stop_hour</th>\n",
       "      <th>morning</th>\n",
       "      <th>afternoon</th>\n",
       "      <th>night</th>\n",
       "    </tr>\n",
       "  </thead>\n",
       "  <tbody>\n",
       "    <tr>\n",
       "      <th>1</th>\n",
       "      <td>18</td>\n",
       "      <td>10</td>\n",
       "      <td>0</td>\n",
       "      <td>1</td>\n",
       "      <td>Patrol, traffic enforcement, field operations</td>\n",
       "      <td>Mission Beach 121</td>\n",
       "      <td>0</td>\n",
       "      <td>25</td>\n",
       "      <td>1</td>\n",
       "      <td>No</td>\n",
       "      <td>...</td>\n",
       "      <td>White</td>\n",
       "      <td>Warning (verbal or written)</td>\n",
       "      <td>None</td>\n",
       "      <td>7</td>\n",
       "      <td>2018</td>\n",
       "      <td>1</td>\n",
       "      <td>0</td>\n",
       "      <td>False</td>\n",
       "      <td>False</td>\n",
       "      <td>True</td>\n",
       "    </tr>\n",
       "    <tr>\n",
       "      <th>2</th>\n",
       "      <td>1</td>\n",
       "      <td>15</td>\n",
       "      <td>1</td>\n",
       "      <td>10</td>\n",
       "      <td>Other</td>\n",
       "      <td>El Cerrito 822</td>\n",
       "      <td>0</td>\n",
       "      <td>30</td>\n",
       "      <td>1</td>\n",
       "      <td>No</td>\n",
       "      <td>...</td>\n",
       "      <td>Hispanic/Latino/a</td>\n",
       "      <td>No Action</td>\n",
       "      <td>Curbside detention</td>\n",
       "      <td>7</td>\n",
       "      <td>2018</td>\n",
       "      <td>1</td>\n",
       "      <td>0</td>\n",
       "      <td>False</td>\n",
       "      <td>False</td>\n",
       "      <td>True</td>\n",
       "    </tr>\n",
       "    <tr>\n",
       "      <th>3</th>\n",
       "      <td>1</td>\n",
       "      <td>15</td>\n",
       "      <td>1</td>\n",
       "      <td>10</td>\n",
       "      <td>Other</td>\n",
       "      <td>El Cerrito 822</td>\n",
       "      <td>0</td>\n",
       "      <td>30</td>\n",
       "      <td>2</td>\n",
       "      <td>No</td>\n",
       "      <td>...</td>\n",
       "      <td>Hispanic/Latino/a</td>\n",
       "      <td>No Action</td>\n",
       "      <td>Curbside detention</td>\n",
       "      <td>7</td>\n",
       "      <td>2018</td>\n",
       "      <td>1</td>\n",
       "      <td>0</td>\n",
       "      <td>False</td>\n",
       "      <td>False</td>\n",
       "      <td>True</td>\n",
       "    </tr>\n",
       "    <tr>\n",
       "      <th>4</th>\n",
       "      <td>3</td>\n",
       "      <td>5</td>\n",
       "      <td>0</td>\n",
       "      <td>1</td>\n",
       "      <td>Patrol, traffic enforcement, field operations</td>\n",
       "      <td>Ocean Beach 614</td>\n",
       "      <td>0</td>\n",
       "      <td>23</td>\n",
       "      <td>1</td>\n",
       "      <td>No</td>\n",
       "      <td>...</td>\n",
       "      <td>White</td>\n",
       "      <td>No Action</td>\n",
       "      <td>None</td>\n",
       "      <td>7</td>\n",
       "      <td>2018</td>\n",
       "      <td>1</td>\n",
       "      <td>0</td>\n",
       "      <td>False</td>\n",
       "      <td>False</td>\n",
       "      <td>True</td>\n",
       "    </tr>\n",
       "    <tr>\n",
       "      <th>16</th>\n",
       "      <td>4</td>\n",
       "      <td>3</td>\n",
       "      <td>0</td>\n",
       "      <td>2</td>\n",
       "      <td>Gang enforcement</td>\n",
       "      <td>Colina Del Sol 826</td>\n",
       "      <td>0</td>\n",
       "      <td>30</td>\n",
       "      <td>1</td>\n",
       "      <td>No</td>\n",
       "      <td>...</td>\n",
       "      <td>Black/African American</td>\n",
       "      <td>No Action</td>\n",
       "      <td>None</td>\n",
       "      <td>7</td>\n",
       "      <td>2018</td>\n",
       "      <td>1</td>\n",
       "      <td>0</td>\n",
       "      <td>False</td>\n",
       "      <td>False</td>\n",
       "      <td>True</td>\n",
       "    </tr>\n",
       "  </tbody>\n",
       "</table>\n",
       "<p>5 rows × 22 columns</p>\n",
       "</div>"
      ],
      "text/plain": [
       "    exp_years  stopduration  stop_in_response_to_cfs  officer_assignment_key  \\\n",
       "1          18            10                        0                       1   \n",
       "2           1            15                        1                      10   \n",
       "3           1            15                        1                      10   \n",
       "4           3             5                        0                       1   \n",
       "16          4             3                        0                       2   \n",
       "\n",
       "                                       assignment           beat_name  \\\n",
       "1   Patrol, traffic enforcement, field operations   Mission Beach 121   \n",
       "2                                           Other      El Cerrito 822   \n",
       "3                                           Other      El Cerrito 822   \n",
       "4   Patrol, traffic enforcement, field operations     Ocean Beach 614   \n",
       "16                               Gang enforcement  Colina Del Sol 826   \n",
       "\n",
       "    perceived_limited_english  perceived_age  gend perceived_lgbt  ...    \\\n",
       "1                           0             25     1             No  ...     \n",
       "2                           0             30     1             No  ...     \n",
       "3                           0             30     2             No  ...     \n",
       "4                           0             23     1             No  ...     \n",
       "16                          0             30     1             No  ...     \n",
       "\n",
       "                      race                       result              action  \\\n",
       "1                    White  Warning (verbal or written)                None   \n",
       "2        Hispanic/Latino/a                    No Action  Curbside detention   \n",
       "3        Hispanic/Latino/a                    No Action  Curbside detention   \n",
       "4                    White                    No Action                None   \n",
       "16  Black/African American                    No Action                None   \n",
       "\n",
       "   month  year  day  stop_hour  morning  afternoon  night  \n",
       "1      7  2018    1          0    False      False   True  \n",
       "2      7  2018    1          0    False      False   True  \n",
       "3      7  2018    1          0    False      False   True  \n",
       "4      7  2018    1          0    False      False   True  \n",
       "16     7  2018    1          0    False      False   True  \n",
       "\n",
       "[5 rows x 22 columns]"
      ]
     },
     "execution_count": 17,
     "metadata": {},
     "output_type": "execute_result"
    }
   ],
   "source": [
    "# Further binning stop_hour into chunks of time. Conventionally, i think more tickets will happen at odd hours\n",
    "# (Like 2 in the morning or something)\n",
    "df['morning'] = (df['stop_hour'] < 12) & (df['stop_hour'] >= 6)\n",
    "df['afternoon'] = (df['stop_hour'] >= 12) & (df['stop_hour'] < 19)\n",
    "df['night'] = (df['stop_hour'] >= 19) | (df['stop_hour'] < 6) | (df['stop_hour'] == 0)\n",
    "\n",
    "df.head()"
   ]
  },
  {
   "cell_type": "markdown",
   "metadata": {},
   "source": [
    "# Create train, val, test dataframes"
   ]
  },
  {
   "cell_type": "code",
   "execution_count": 18,
   "metadata": {},
   "outputs": [],
   "source": [
    "# get features and target\n",
    "\n",
    "target = 'result'\n",
    "\n",
    "features = df.columns.drop('result')"
   ]
  },
  {
   "cell_type": "code",
   "execution_count": 19,
   "metadata": {
    "scrolled": true
   },
   "outputs": [
    {
     "data": {
      "text/plain": [
       "Index(['exp_years', 'stopduration', 'stop_in_response_to_cfs',\n",
       "       'officer_assignment_key', 'assignment', 'beat_name',\n",
       "       'perceived_limited_english', 'perceived_age', 'gend', 'perceived_lgbt',\n",
       "       'reason_for_stop', 'reason_for_stop_detail', 'race', 'action', 'month',\n",
       "       'year', 'day', 'stop_hour', 'morning', 'afternoon', 'night'],\n",
       "      dtype='object')"
      ]
     },
     "execution_count": 19,
     "metadata": {},
     "output_type": "execute_result"
    }
   ],
   "source": [
    "features"
   ]
  },
  {
   "cell_type": "code",
   "execution_count": 20,
   "metadata": {},
   "outputs": [
    {
     "data": {
      "text/plain": [
       "(114767, 22)"
      ]
     },
     "execution_count": 20,
     "metadata": {},
     "output_type": "execute_result"
    }
   ],
   "source": [
    "df.shape"
   ]
  },
  {
   "cell_type": "code",
   "execution_count": 21,
   "metadata": {},
   "outputs": [
    {
     "data": {
      "text/plain": [
       "exp_years                       0\n",
       "stopduration                    0\n",
       "stop_in_response_to_cfs         0\n",
       "officer_assignment_key          0\n",
       "assignment                      0\n",
       "beat_name                       0\n",
       "perceived_limited_english       0\n",
       "perceived_age                   0\n",
       "gend                            0\n",
       "perceived_lgbt                  0\n",
       "reason_for_stop                 0\n",
       "reason_for_stop_detail       5501\n",
       "race                            0\n",
       "result                          0\n",
       "action                          0\n",
       "month                           0\n",
       "year                            0\n",
       "day                             0\n",
       "stop_hour                       0\n",
       "morning                         0\n",
       "afternoon                       0\n",
       "night                           0\n",
       "dtype: int64"
      ]
     },
     "execution_count": 21,
     "metadata": {},
     "output_type": "execute_result"
    }
   ],
   "source": [
    "df.isnull().sum()"
   ]
  },
  {
   "cell_type": "code",
   "execution_count": 22,
   "metadata": {
    "scrolled": false
   },
   "outputs": [
    {
     "data": {
      "text/plain": [
       "exp_years                    0\n",
       "stopduration                 0\n",
       "stop_in_response_to_cfs      0\n",
       "officer_assignment_key       0\n",
       "assignment                   0\n",
       "beat_name                    0\n",
       "perceived_limited_english    0\n",
       "perceived_age                0\n",
       "gend                         0\n",
       "perceived_lgbt               0\n",
       "reason_for_stop              0\n",
       "reason_for_stop_detail       0\n",
       "race                         0\n",
       "result                       0\n",
       "action                       0\n",
       "month                        0\n",
       "year                         0\n",
       "day                          0\n",
       "stop_hour                    0\n",
       "morning                      0\n",
       "afternoon                    0\n",
       "night                        0\n",
       "dtype: int64"
      ]
     },
     "execution_count": 22,
     "metadata": {},
     "output_type": "execute_result"
    }
   ],
   "source": [
    "df = df.dropna()\n",
    "df.isnull().sum()"
   ]
  },
  {
   "cell_type": "code",
   "execution_count": 23,
   "metadata": {},
   "outputs": [
    {
     "data": {
      "text/plain": [
       "(109266, 22)"
      ]
     },
     "execution_count": 23,
     "metadata": {},
     "output_type": "execute_result"
    }
   ],
   "source": [
    "train = df\n",
    "train.shape"
   ]
  },
  {
   "cell_type": "code",
   "execution_count": 24,
   "metadata": {},
   "outputs": [
    {
     "data": {
      "text/plain": [
       "((87412, 22), (21854, 22))"
      ]
     },
     "execution_count": 24,
     "metadata": {},
     "output_type": "execute_result"
    }
   ],
   "source": [
    "from sklearn.model_selection import train_test_split\n",
    "\n",
    "# Split train into train & test, then will split train again into train and val\n",
    "train, test = train_test_split(train, train_size=0.80, test_size=0.20, \n",
    "                              stratify=train[target], random_state=42)\n",
    "train.shape, test.shape"
   ]
  },
  {
   "cell_type": "code",
   "execution_count": 25,
   "metadata": {
    "scrolled": true
   },
   "outputs": [
    {
     "data": {
      "text/plain": [
       "((69929, 22), (17483, 22), (21854, 22))"
      ]
     },
     "execution_count": 25,
     "metadata": {},
     "output_type": "execute_result"
    }
   ],
   "source": [
    "# Split train into train & val\n",
    "train, val = train_test_split(train, train_size=0.80, test_size=0.20, \n",
    "                              stratify=train['result'], random_state=42)\n",
    "train.shape,val.shape,test.shape"
   ]
  },
  {
   "cell_type": "code",
   "execution_count": 26,
   "metadata": {},
   "outputs": [
    {
     "data": {
      "text/plain": [
       "((69929, 22), (17483, 22), (21854, 22), (50000, 22), (18363, 22))"
      ]
     },
     "execution_count": 26,
     "metadata": {},
     "output_type": "execute_result"
    }
   ],
   "source": [
    "# The app has a max of 100 MB. so going make a smaller data set for the app to make predictions on.\n",
    "# The notebook will still make predictions on the full data set, there will just be a separate dataset for the app.\n",
    "app_train, app_val = train_test_split(train, train_size=50000, test_size=18363, \n",
    "                              stratify=train['result'], random_state=42)\n",
    "train.shape,val.shape,test.shape, app_train.shape, app_val.shape"
   ]
  },
  {
   "cell_type": "code",
   "execution_count": 27,
   "metadata": {
    "scrolled": false
   },
   "outputs": [
    {
     "name": "stdout",
     "output_type": "stream",
     "text": [
      "X_train shape (69929, 21)\n",
      "y_train shape (69929,)\n",
      "X_val shape (17483, 21)\n",
      "y_val shape (17483,)\n",
      "X_test shape (21854, 21)\n",
      "y_test shape (21854,)\n",
      "app_train_X shape (50000, 21)\n",
      "app_train_y shape (50000,)\n",
      "app_val_X shape (18363, 21)\n",
      "app_val_y shape (18363,)\n"
     ]
    }
   ],
   "source": [
    "# Arrange data into X features matrix and y target vector\n",
    "target = 'result'\n",
    "X_train = train.drop(columns=target)\n",
    "y_train = train[target]\n",
    "X_val = val.drop(columns=target)\n",
    "y_val = val[target]\n",
    "X_test = test.drop(columns=target)\n",
    "y_test = test[target]\n",
    "\n",
    "# And for the app data\n",
    "app_train_X = app_train.drop(columns=target)\n",
    "app_train_y = app_train[target]\n",
    "app_val_X = app_val.drop(columns=target)\n",
    "app_val_y = app_val[target]\n",
    "# Check shapes\n",
    "print('X_train shape', X_train.shape)\n",
    "print('y_train shape', y_train.shape)\n",
    "print('X_val shape', X_val.shape)\n",
    "print('y_val shape', y_val.shape)\n",
    "print('X_test shape', X_test.shape)\n",
    "print('y_test shape', y_test.shape)\n",
    "print('app_train_X shape', app_train_X.shape)\n",
    "print('app_train_y shape', app_train_y.shape)\n",
    "print('app_val_X shape', app_val_X.shape)\n",
    "print('app_val_y shape', app_val_y.shape)"
   ]
  },
  {
   "cell_type": "markdown",
   "metadata": {},
   "source": [
    "# Get accuracy score for majority baseline"
   ]
  },
  {
   "cell_type": "code",
   "execution_count": 28,
   "metadata": {
    "scrolled": false
   },
   "outputs": [
    {
     "data": {
      "text/plain": [
       "Citation for infraction        0.419869\n",
       "Warning (verbal or written)    0.324629\n",
       "No Action                      0.255502\n",
       "Name: result, dtype: float64"
      ]
     },
     "execution_count": 28,
     "metadata": {},
     "output_type": "execute_result"
    }
   ],
   "source": [
    "# Get accuracy score for majority class baseline\n",
    "y_train.value_counts(normalize=True)"
   ]
  },
  {
   "cell_type": "code",
   "execution_count": 29,
   "metadata": {
    "scrolled": true
   },
   "outputs": [
    {
     "data": {
      "text/plain": [
       "0.4198364125150146"
      ]
     },
     "execution_count": 29,
     "metadata": {},
     "output_type": "execute_result"
    }
   ],
   "source": [
    "import numpy as np\n",
    "from sklearn.metrics import accuracy_score\n",
    "\n",
    "majority_class = y_train.mode()[0]\n",
    "y_pred = np.full_like(y_val, fill_value=majority_class)\n",
    "accuracy_score(y_val, y_pred)"
   ]
  },
  {
   "cell_type": "markdown",
   "metadata": {},
   "source": [
    "# Create Model - Random Forest"
   ]
  },
  {
   "cell_type": "code",
   "execution_count": 30,
   "metadata": {
    "scrolled": true
   },
   "outputs": [
    {
     "name": "stdout",
     "output_type": "stream",
     "text": [
      "Validation Accuracy 0.7345993250586283\n",
      "Test Accuracy 0.7411457856685275\n"
     ]
    }
   ],
   "source": [
    "import category_encoders as ce\n",
    "from sklearn.ensemble import RandomForestClassifier\n",
    "from sklearn.pipeline import make_pipeline\n",
    "\n",
    "# Instantiate the class\n",
    "pipeline = make_pipeline(\n",
    "    ce.OrdinalEncoder(),\n",
    "    RandomForestClassifier(n_estimators=1000, n_jobs=-1, random_state=42, max_depth=20)\n",
    ")\n",
    "# Fit on training set, test on val set\n",
    "pipeline.fit(X_train, y_train)\n",
    "y_pred = pipeline.predict(X_val)\n",
    "print('Validation Accuracy', accuracy_score(y_val, y_pred))\n",
    "\n",
    "# Now predicting on test\n",
    "y_pred = pipeline.predict(X_test)\n",
    "print('Test Accuracy', accuracy_score(y_test, y_pred))"
   ]
  },
  {
   "cell_type": "code",
   "execution_count": 31,
   "metadata": {},
   "outputs": [
    {
     "name": "stdout",
     "output_type": "stream",
     "text": [
      "Test Accuracy 0.7411457856685275\n"
     ]
    }
   ],
   "source": [
    "y_pred = pipeline.predict(X_test)\n",
    "print('Test Accuracy', accuracy_score(y_test, y_pred))"
   ]
  },
  {
   "cell_type": "code",
   "execution_count": 32,
   "metadata": {},
   "outputs": [
    {
     "name": "stdout",
     "output_type": "stream",
     "text": [
      "Validation Accuracy 0.7294559712465284\n"
     ]
    }
   ],
   "source": [
    "# This forest is for the app\n",
    "import category_encoders as ce\n",
    "from sklearn.ensemble import RandomForestClassifier\n",
    "from sklearn.pipeline import make_pipeline\n",
    "\n",
    "app_pipeline = make_pipeline(\n",
    "    ce.OrdinalEncoder(),\n",
    "    RandomForestClassifier(n_estimators=100, n_jobs=-1, random_state=42, max_depth=20)\n",
    ")\n",
    "\n",
    "pipeline.fit(app_train_X, app_train_y)\n",
    "app_y_pred = pipeline.predict(app_val_X)\n",
    "print('Validation Accuracy', accuracy_score(app_val_y, app_y_pred))"
   ]
  },
  {
   "cell_type": "code",
   "execution_count": 33,
   "metadata": {},
   "outputs": [
    {
     "data": {
      "text/plain": [
       "['pipeline.joblib1']"
      ]
     },
     "execution_count": 33,
     "metadata": {},
     "output_type": "execute_result"
    }
   ],
   "source": [
    "# Pickling pipeline\n",
    "from joblib import dump\n",
    "dump(pipeline, 'pipeline.joblib1', compress=True)"
   ]
  },
  {
   "cell_type": "code",
   "execution_count": 34,
   "metadata": {
    "scrolled": true
   },
   "outputs": [
    {
     "data": {
      "image/png": "[encoded data removed]",
      "text/plain": [
       "<Figure size 720x720 with 1 Axes>"
      ]
     },
     "metadata": {
      "needs_background": "light"
     },
     "output_type": "display_data"
    }
   ],
   "source": [
    "# Get feature importances\n",
    "rf = pipeline.named_steps['randomforestclassifier']\n",
    "importances = pd.Series(rf.feature_importances_, X_train.columns)\n",
    "\n",
    "%matplotlib inline\n",
    "import matplotlib.pyplot as plt\n",
    "\n",
    "n=20\n",
    "plt.figure(figsize=(10, n/2))\n",
    "plt.title(f'Top {n} features')\n",
    "importances.sort_values()[-n:].plot.barh(color='grey');"
   ]
  },
  {
   "cell_type": "code",
   "execution_count": null,
   "metadata": {
    "scrolled": true
   },
   "outputs": [],
   "source": [
    "# Going to get permutation importance\n",
    "\n",
    "\n",
    "# eli5 doesn't work well with pipelines, so need to decosntruct a little bit for it to work\n",
    "transformers = make_pipeline(\n",
    "    ce.OrdinalEncoder(), \n",
    ")\n",
    "\n",
    "X_train_transformed = transformers.fit_transform(X_train)\n",
    "X_val_transformed = transformers.transform(X_val)\n",
    "\n",
    "model = RandomForestClassifier(n_estimators=500, random_state=42, n_jobs=-1)\n",
    "model.fit(X_train_transformed, y_train)\n",
    "\n",
    "# Going to instantiate the permuter class to get the permutation importance\n",
    "import eli5\n",
    "from eli5.sklearn import PermutationImportance\n",
    "\n",
    "permuter = PermutationImportance(\n",
    "    model,\n",
    "    scoring='accuracy', \n",
    "    n_iter=2, \n",
    "    random_state=42\n",
    ")\n",
    "\n",
    "permuter.fit(X_val_transformed, y_val)\n",
    "feature_names = X_val.columns.tolist()\n",
    "\n",
    "eli5.show_weights(\n",
    "    permuter, \n",
    "    top=None, # show permutation importances for all features\n",
    "    feature_names=feature_names\n",
    ")"
   ]
  },
  {
   "cell_type": "code",
   "execution_count": null,
   "metadata": {
    "scrolled": true
   },
   "outputs": [],
   "source": [
    "print('Shape before removing features:', X_train.shape)"
   ]
  },
  {
   "cell_type": "code",
   "execution_count": null,
   "metadata": {},
   "outputs": [],
   "source": [
    "minimum_importance = 0\n",
    "mask = permuter.feature_importances_ > minimum_importance\n",
    "features = X_train.columns[mask]\n",
    "X_train = X_train[features]\n",
    "\n",
    "print('Shape after removing features:', X_train.shape)"
   ]
  },
  {
   "cell_type": "code",
   "execution_count": null,
   "metadata": {},
   "outputs": [],
   "source": [
    "X_val = X_val[features]"
   ]
  },
  {
   "cell_type": "code",
   "execution_count": null,
   "metadata": {},
   "outputs": [],
   "source": [
    "from sklearn.impute import SimpleImputer\n",
    "pipeline = make_pipeline(\n",
    "    ce.OrdinalEncoder(), \n",
    "    SimpleImputer(strategy='median'), \n",
    "    RandomForestClassifier(n_estimators=100, random_state=42, n_jobs=-1)\n",
    ")\n",
    "\n",
    "# Fit on train, score on val\n",
    "pipeline.fit(X_train, y_train)\n",
    "print('Validation Accuracy', pipeline.score(X_val, y_val))"
   ]
  },
  {
   "cell_type": "markdown",
   "metadata": {},
   "source": [
    "# ROC AUC"
   ]
  },
  {
   "cell_type": "code",
   "execution_count": null,
   "metadata": {},
   "outputs": [],
   "source": [
    "%%time\n",
    "import category_encoders as ce\n",
    "from sklearn.ensemble import RandomForestClassifier\n",
    "from sklearn.impute import SimpleImputer\n",
    "from sklearn.pipeline import make_pipeline\n",
    "\n",
    "pipeline = make_pipeline(\n",
    "    ce.OrdinalEncoder(), \n",
    "    SimpleImputer(strategy='median'), \n",
    "    RandomForestClassifier(n_estimators=100, n_jobs=-1, random_state=42)\n",
    ")\n",
    "\n",
    "pipeline.fit(X_train, y_train);"
   ]
  },
  {
   "cell_type": "code",
   "execution_count": null,
   "metadata": {},
   "outputs": [],
   "source": [
    "#  get accuracy score for model\n",
    "y_pred = pipeline.predict(X_val)\n",
    "accuracy_score(y_val, y_pred)"
   ]
  },
  {
   "cell_type": "code",
   "execution_count": null,
   "metadata": {},
   "outputs": [],
   "source": [
    "# define confusion matrix function\n",
    "%matplotlib inline\n",
    "import seaborn as sns\n",
    "from sklearn.metrics import confusion_matrix\n",
    "from sklearn.utils.multiclass import unique_labels\n",
    "\n",
    "def plot_confusion_matrix(y_true, y_pred):\n",
    "    labels = unique_labels(y_true)\n",
    "    columns = [f'Predicted {label}' for label in labels]\n",
    "    index = [f'Actual {label}' for label in labels]\n",
    "    table = pd.DataFrame(confusion_matrix(y_true, y_pred), \n",
    "                         columns=columns, index=index)\n",
    "    return sns.heatmap(table, annot=True, fmt='d', cmap='viridis')"
   ]
  },
  {
   "cell_type": "code",
   "execution_count": null,
   "metadata": {},
   "outputs": [],
   "source": [
    "plot_confusion_matrix(y_val, y_pred);"
   ]
  },
  {
   "cell_type": "code",
   "execution_count": null,
   "metadata": {},
   "outputs": [],
   "source": [
    "# get precision and recall\n",
    "from sklearn.metrics import classification_report\n",
    "print(classification_report(y_val, y_pred))"
   ]
  },
  {
   "cell_type": "code",
   "execution_count": null,
   "metadata": {
    "scrolled": false
   },
   "outputs": [],
   "source": [
    "# get ROC AUC score for model\n",
    "from sklearn.metrics import roc_auc_score\n",
    "y_pred_proba = pipeline.predict_proba(X_val)[:, 1]"
   ]
  },
  {
   "cell_type": "code",
   "execution_count": null,
   "metadata": {
    "scrolled": true
   },
   "outputs": [],
   "source": [
    "# Plot ROC curve\n",
    "import matplotlib.pyplot as plt\n",
    "from sklearn.metrics import roc_curve\n",
    "tpr, fpr, thresholds = roc_curve(y_val=='Citation for infraction', y_pred_proba)\n",
    "plt.plot(fpr, tpr)\n",
    "plt.title('ROC curve')\n",
    "plt.xlabel('False Positive Rate')\n",
    "plt.ylabel('True Positive Rate');"
   ]
  },
  {
   "cell_type": "markdown",
   "metadata": {},
   "source": [
    "# Exploratory Visual analysis"
   ]
  },
  {
   "cell_type": "code",
   "execution_count": null,
   "metadata": {},
   "outputs": [],
   "source": [
    "df.exp_years.value_counts(normalize=True)"
   ]
  },
  {
   "cell_type": "code",
   "execution_count": null,
   "metadata": {
    "scrolled": true
   },
   "outputs": [],
   "source": [
    "import seaborn as sns\n",
    "sns.distplot(df.exp_years);"
   ]
  },
  {
   "cell_type": "code",
   "execution_count": null,
   "metadata": {},
   "outputs": [],
   "source": [
    "df.action"
   ]
  },
  {
   "cell_type": "code",
   "execution_count": null,
   "metadata": {},
   "outputs": [],
   "source": [
    "df_ticket = df[df['result'] == 'Citation for infraction']"
   ]
  },
  {
   "cell_type": "code",
   "execution_count": null,
   "metadata": {},
   "outputs": [],
   "source": [
    "df_no_ticket = df[df['result'] != 'Citation for infraction']"
   ]
  },
  {
   "cell_type": "code",
   "execution_count": null,
   "metadata": {},
   "outputs": [],
   "source": [
    "# Looks like three out of the five highest percentage time slots for getting a ticket are during the afternoon commute\n",
    "# The third highest, though not in the afternoon, is during the morning commute. From 8-9AM\n",
    "df_ticket['stop_hour'].value_counts(normalize=True).plot(kind='bar');\n",
    "print(df_ticket['stop_hour'].value_counts(normalize=True))"
   ]
  },
  {
   "cell_type": "code",
   "execution_count": null,
   "metadata": {},
   "outputs": [],
   "source": [
    "# it seems like the time of day when you're most likely to get off with just a warning or less would be at 10PM.\n",
    "# Possible reasons could be that, it's too early for most people to be staggeringly drunk. That likelihood increases the later it gets\n",
    "print(df_no_ticket['stop_hour'].value_counts(normalize=True))\n",
    "df_no_ticket['stop_hour'].value_counts().plot(kind='bar');"
   ]
  },
  {
   "cell_type": "code",
   "execution_count": null,
   "metadata": {},
   "outputs": [],
   "source": [
    "df_no_ticket['exp_years'].value_counts().plot(kind='bar');\n",
    "print(df_no_ticket['exp_years'].value_counts(normalize=True))"
   ]
  },
  {
   "cell_type": "code",
   "execution_count": null,
   "metadata": {},
   "outputs": [],
   "source": [
    "df_ticket['exp_years'].value_counts().plot(kind='bar');\n",
    "print(df_ticket['exp_years'].value_counts(normalize=True))"
   ]
  },
  {
   "cell_type": "code",
   "execution_count": null,
   "metadata": {},
   "outputs": [],
   "source": [
    "print(df.exp_years.value_counts())\n",
    "print(df_no_ticket.exp_years.value_counts())\n",
    "print(df_ticket.exp_years.value_counts())"
   ]
  },
  {
   "cell_type": "code",
   "execution_count": null,
   "metadata": {},
   "outputs": [],
   "source": [
    "9289 / (9289 + 17929)"
   ]
  },
  {
   "cell_type": "code",
   "execution_count": null,
   "metadata": {},
   "outputs": [],
   "source": [
    "df_ticket['day'].value_counts().plot(kind='bar');"
   ]
  },
  {
   "cell_type": "code",
   "execution_count": null,
   "metadata": {},
   "outputs": [],
   "source": [
    "df_ticket['day'].value_counts(normalize=True)"
   ]
  },
  {
   "cell_type": "code",
   "execution_count": null,
   "metadata": {},
   "outputs": [],
   "source": [
    "df_no_ticket['day'].value_counts().plot(kind='bar');"
   ]
  },
  {
   "cell_type": "code",
   "execution_count": null,
   "metadata": {},
   "outputs": [],
   "source": [
    "df_no_ticket['day'].value_counts()"
   ]
  },
  {
   "cell_type": "code",
   "execution_count": null,
   "metadata": {},
   "outputs": [],
   "source": [
    "df_ticket.reason_for_stop_detail.value_counts(normalize=True)"
   ]
  },
  {
   "cell_type": "code",
   "execution_count": null,
   "metadata": {},
   "outputs": [],
   "source": [
    "df_no_ticket.reason_for_stop_detail.value_counts(normalize=True)"
   ]
  },
  {
   "cell_type": "code",
   "execution_count": null,
   "metadata": {},
   "outputs": [],
   "source": []
  }
 ],
 "metadata": {
  "kernelspec": {
   "display_name": "Python 3",
   "language": "python",
   "name": "python3"
  },
  "language_info": {
   "codemirror_mode": {
    "name": "ipython",
    "version": 3
   },
   "file_extension": ".py",
   "mimetype": "text/x-python",
   "name": "python",
   "nbconvert_exporter": "python",
   "pygments_lexer": "ipython3",
   "version": "3.7.3"
  }
 },
 "nbformat": 4,
 "nbformat_minor": 2
}
