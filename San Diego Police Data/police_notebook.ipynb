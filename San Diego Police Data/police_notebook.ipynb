{
  "nbformat": 4,
  "nbformat_minor": 0,
  "metadata": {
    "kernelspec": {
      "display_name": "Python 3",
      "language": "python",
      "name": "python3"
    },
    "language_info": {
      "codemirror_mode": {
        "name": "ipython",
        "version": 3
      },
      "file_extension": ".py",
      "mimetype": "text/x-python",
      "name": "python",
      "nbconvert_exporter": "python",
      "pygments_lexer": "ipython3",
      "version": "3.7.3"
    },
    "colab": {
      "name": "San Diego Data Notebook.ipynb",
      "provenance": []
    }
  },
  "cells": [
    {
      "cell_type": "code",
      "metadata": {
        "id": "mmZ9WzzxNQ8T",
        "colab_type": "code",
        "colab": {
          "base_uri": "https://localhost:8080/",
          "height": 615
        },
        "outputId": "d1e8adec-59df-4d60-eb26-e944d3702499"
      },
      "source": [
        "import pandas as pd\n",
        "import matplotlib.pyplot as plt\n",
        "import numpy as np\n",
        "from joblib import load, dump\n",
        "from functools import reduce\n",
        "import category_encoders as ce\n",
        "from sklearn.ensemble import RandomForestClassifier\n",
        "from sklearn.pipeline import make_pipeline\n",
        "from sklearn.model_selection import train_test_split\n",
        "from sklearn.impute import SimpleImputer\n",
        "import eli5\n",
        "from eli5.sklearn import PermutationImportance\n",
        "%matplotlib inline\n",
        "import seaborn as sns\n",
        "from sklearn.metrics import confusion_matrix\n",
        "from sklearn.utils.multiclass import unique_labels\n",
        "from sklearn.metrics import classification_report\n",
        "from sklearn.metrics import roc_auc_score\n",
        "import matplotlib.pyplot as plt\n",
        "from sklearn.metrics import roc_curve\n",
        "\n",
        "\n",
        "## If using google colab, run these installations\n",
        "# !pip install --upgrade eli5\n",
        "# !pip install --upgrade category_encoders\n",
        "\n",
        "# reading in data\n",
        "police1 = pd.read_csv('https://raw.githubusercontent.com/xander-bennett/San-Diego-Police-Data/master/San%20Diego%20Police%20Data/Data/ripa_stops_datasd.csv',sep=',')\n",
        "police2 = pd.read_csv('https://raw.githubusercontent.com/xander-bennett/San-Diego-Police-Data/master/San%20Diego%20Police%20Data/Data/ripa_stop_reason_datasd.csv',sep=',')\n",
        "police3 = pd.read_csv('https://raw.githubusercontent.com/xander-bennett/San-Diego-Police-Data/master/San%20Diego%20Police%20Data/Data/ripa_race_datasd.csv',sep=',')\n",
        "police4 = pd.read_csv('https://raw.githubusercontent.com/xander-bennett/San-Diego-Police-Data/master/San%20Diego%20Police%20Data/Data/ripa_stop_result_datasd.csv',sep=',')\n",
        "police5 = pd.read_csv('https://raw.githubusercontent.com/xander-bennett/San-Diego-Police-Data/master/San%20Diego%20Police%20Data/Data/ripa_actions_taken_datasd.csv',sep=',')\n",
        "\n",
        "# Merge dataframes\n",
        "police_merged_1 = pd.merge(police1, police2, how='inner')\n",
        "police_merged_2 = pd.merge(police3, police4, how='inner')\n",
        "police_merged_3= pd.merge(police_merged_1, police_merged_2, how='inner')\n",
        "police = pd.merge(police_merged_3, police5, how='inner')\n",
        "\n",
        "\n",
        "print(police.shape)\n",
        "police.head()"
      ],
      "execution_count": 1,
      "outputs": [
        {
          "output_type": "stream",
          "text": [
            "/usr/local/lib/python3.6/dist-packages/statsmodels/tools/_testing.py:19: FutureWarning: pandas.util.testing is deprecated. Use the functions in the public API at pandas.testing instead.\n",
            "  import pandas.util.testing as tm\n",
            "/usr/local/lib/python3.6/dist-packages/sklearn/utils/deprecation.py:144: FutureWarning: The sklearn.metrics.scorer module is  deprecated in version 0.22 and will be removed in version 0.24. The corresponding classes / functions should instead be imported from sklearn.metrics. Anything that cannot be imported from sklearn.metrics is now part of the private API.\n",
            "  warnings.warn(message, FutureWarning)\n",
            "/usr/local/lib/python3.6/dist-packages/sklearn/utils/deprecation.py:144: FutureWarning: The sklearn.feature_selection.base module is  deprecated in version 0.22 and will be removed in version 0.24. The corresponding classes / functions should instead be imported from sklearn.feature_selection. Anything that cannot be imported from sklearn.feature_selection is now part of the private API.\n",
            "  warnings.warn(message, FutureWarning)\n",
            "Using TensorFlow backend.\n",
            "/usr/local/lib/python3.6/dist-packages/IPython/core/interactiveshell.py:2718: DtypeWarning: Columns (12) have mixed types.Specify dtype option on import or set low_memory=False.\n",
            "  interactivity=interactivity, compiler=compiler, result=result)\n",
            "/usr/local/lib/python3.6/dist-packages/IPython/core/interactiveshell.py:2718: DtypeWarning: Columns (3) have mixed types.Specify dtype option on import or set low_memory=False.\n",
            "  interactivity=interactivity, compiler=compiler, result=result)\n"
          ],
          "name": "stderr"
        },
        {
          "output_type": "stream",
          "text": [
            "(321815, 41)\n"
          ],
          "name": "stdout"
        },
        {
          "output_type": "execute_result",
          "data": {
            "text/html": [
              "<div>\n",
              "<style scoped>\n",
              "    .dataframe tbody tr th:only-of-type {\n",
              "        vertical-align: middle;\n",
              "    }\n",
              "\n",
              "    .dataframe tbody tr th {\n",
              "        vertical-align: top;\n",
              "    }\n",
              "\n",
              "    .dataframe thead th {\n",
              "        text-align: right;\n",
              "    }\n",
              "</style>\n",
              "<table border=\"1\" class=\"dataframe\">\n",
              "  <thead>\n",
              "    <tr style=\"text-align: right;\">\n",
              "      <th></th>\n",
              "      <th>stop_id</th>\n",
              "      <th>ori</th>\n",
              "      <th>agency</th>\n",
              "      <th>exp_years</th>\n",
              "      <th>stopdate</th>\n",
              "      <th>stoptime</th>\n",
              "      <th>stopduration</th>\n",
              "      <th>stop_in_response_to_cfs</th>\n",
              "      <th>officer_assignment_key</th>\n",
              "      <th>assignment</th>\n",
              "      <th>intersection</th>\n",
              "      <th>block</th>\n",
              "      <th>land_mark</th>\n",
              "      <th>street</th>\n",
              "      <th>highway_exit</th>\n",
              "      <th>isschool</th>\n",
              "      <th>school_name</th>\n",
              "      <th>cityname</th>\n",
              "      <th>beat</th>\n",
              "      <th>beat_name</th>\n",
              "      <th>pid</th>\n",
              "      <th>isstudent</th>\n",
              "      <th>perceived_limited_english</th>\n",
              "      <th>perceived_age</th>\n",
              "      <th>perceived_gender</th>\n",
              "      <th>gender_nonconforming</th>\n",
              "      <th>gend</th>\n",
              "      <th>gend_nc</th>\n",
              "      <th>perceived_lgbt</th>\n",
              "      <th>reason_for_stop</th>\n",
              "      <th>reason_for_stopcode</th>\n",
              "      <th>reason_for_stop_code_text</th>\n",
              "      <th>reason_for_stop_detail</th>\n",
              "      <th>reason_for_stop_explanation</th>\n",
              "      <th>race</th>\n",
              "      <th>resultkey</th>\n",
              "      <th>result</th>\n",
              "      <th>code</th>\n",
              "      <th>resulttext</th>\n",
              "      <th>action</th>\n",
              "      <th>consented</th>\n",
              "    </tr>\n",
              "  </thead>\n",
              "  <tbody>\n",
              "    <tr>\n",
              "      <th>0</th>\n",
              "      <td>2443</td>\n",
              "      <td>CA0371100</td>\n",
              "      <td>SD</td>\n",
              "      <td>10</td>\n",
              "      <td>2018-07-01</td>\n",
              "      <td>00:01:37</td>\n",
              "      <td>30</td>\n",
              "      <td>0</td>\n",
              "      <td>1</td>\n",
              "      <td>Patrol, traffic enforcement, field operations</td>\n",
              "      <td>NaN</td>\n",
              "      <td>700.0</td>\n",
              "      <td>NaN</td>\n",
              "      <td>Grand Avenue</td>\n",
              "      <td>NaN</td>\n",
              "      <td>0</td>\n",
              "      <td>NaN</td>\n",
              "      <td>SAN DIEGO</td>\n",
              "      <td>122</td>\n",
              "      <td>Pacific Beach 122</td>\n",
              "      <td>1</td>\n",
              "      <td>0</td>\n",
              "      <td>0</td>\n",
              "      <td>25</td>\n",
              "      <td>Male</td>\n",
              "      <td>0</td>\n",
              "      <td>1</td>\n",
              "      <td>NaN</td>\n",
              "      <td>No</td>\n",
              "      <td>Reasonable Suspicion</td>\n",
              "      <td>64005</td>\n",
              "      <td>647(F) PC - DISORD CONDUCT:ALCOHOL (M) 64005</td>\n",
              "      <td>Officer witnessed commission of a crime</td>\n",
              "      <td>staggering, unable to safely walk</td>\n",
              "      <td>White</td>\n",
              "      <td>6</td>\n",
              "      <td>Custodial Arrest without warrant</td>\n",
              "      <td>64005.0</td>\n",
              "      <td>647(F) PC - DISORD CONDUCT:ALCOHOL (M) 64005</td>\n",
              "      <td>None</td>\n",
              "      <td>NaN</td>\n",
              "    </tr>\n",
              "    <tr>\n",
              "      <th>1</th>\n",
              "      <td>2444</td>\n",
              "      <td>CA0371100</td>\n",
              "      <td>SD</td>\n",
              "      <td>18</td>\n",
              "      <td>2018-07-01</td>\n",
              "      <td>00:03:34</td>\n",
              "      <td>10</td>\n",
              "      <td>0</td>\n",
              "      <td>1</td>\n",
              "      <td>Patrol, traffic enforcement, field operations</td>\n",
              "      <td>I-5</td>\n",
              "      <td>NaN</td>\n",
              "      <td>NaN</td>\n",
              "      <td>NOBEL DRIVE</td>\n",
              "      <td>NaN</td>\n",
              "      <td>0</td>\n",
              "      <td>NaN</td>\n",
              "      <td>SAN DIEGO</td>\n",
              "      <td>121</td>\n",
              "      <td>Mission Beach 121</td>\n",
              "      <td>1</td>\n",
              "      <td>0</td>\n",
              "      <td>0</td>\n",
              "      <td>25</td>\n",
              "      <td>Male</td>\n",
              "      <td>0</td>\n",
              "      <td>1</td>\n",
              "      <td>NaN</td>\n",
              "      <td>No</td>\n",
              "      <td>Traffic Violation</td>\n",
              "      <td>54106</td>\n",
              "      <td>22350 VC - UNSAFE SPEED:PREVAIL COND (I) 54106</td>\n",
              "      <td>Moving Violation</td>\n",
              "      <td>Speeding</td>\n",
              "      <td>White</td>\n",
              "      <td>2</td>\n",
              "      <td>Warning (verbal or written)</td>\n",
              "      <td>54395.0</td>\n",
              "      <td>22349(B) VC - EXC 55MPH SPEED:2 LANE RD (I) 54395</td>\n",
              "      <td>None</td>\n",
              "      <td>NaN</td>\n",
              "    </tr>\n",
              "    <tr>\n",
              "      <th>2</th>\n",
              "      <td>2447</td>\n",
              "      <td>CA0371100</td>\n",
              "      <td>SD</td>\n",
              "      <td>1</td>\n",
              "      <td>2018-07-01</td>\n",
              "      <td>00:05:43</td>\n",
              "      <td>15</td>\n",
              "      <td>1</td>\n",
              "      <td>10</td>\n",
              "      <td>Other</td>\n",
              "      <td>NaN</td>\n",
              "      <td>4400.0</td>\n",
              "      <td>NaN</td>\n",
              "      <td>59th Street</td>\n",
              "      <td>NaN</td>\n",
              "      <td>0</td>\n",
              "      <td>NaN</td>\n",
              "      <td>SAN DIEGO</td>\n",
              "      <td>822</td>\n",
              "      <td>El Cerrito 822</td>\n",
              "      <td>1</td>\n",
              "      <td>0</td>\n",
              "      <td>0</td>\n",
              "      <td>30</td>\n",
              "      <td>Male</td>\n",
              "      <td>0</td>\n",
              "      <td>1</td>\n",
              "      <td>NaN</td>\n",
              "      <td>No</td>\n",
              "      <td>Reasonable Suspicion</td>\n",
              "      <td>53072</td>\n",
              "      <td>415(1) PC - FIGHT IN PUBLIC PLACE (M) 53072</td>\n",
              "      <td>Matched suspect description</td>\n",
              "      <td>Both parties involved in argument.</td>\n",
              "      <td>Hispanic/Latino/a</td>\n",
              "      <td>1</td>\n",
              "      <td>No Action</td>\n",
              "      <td>NaN</td>\n",
              "      <td>NaN</td>\n",
              "      <td>Curbside detention</td>\n",
              "      <td>NaN</td>\n",
              "    </tr>\n",
              "    <tr>\n",
              "      <th>3</th>\n",
              "      <td>2447</td>\n",
              "      <td>CA0371100</td>\n",
              "      <td>SD</td>\n",
              "      <td>1</td>\n",
              "      <td>2018-07-01</td>\n",
              "      <td>00:05:43</td>\n",
              "      <td>15</td>\n",
              "      <td>1</td>\n",
              "      <td>10</td>\n",
              "      <td>Other</td>\n",
              "      <td>NaN</td>\n",
              "      <td>4400.0</td>\n",
              "      <td>NaN</td>\n",
              "      <td>59th Street</td>\n",
              "      <td>NaN</td>\n",
              "      <td>0</td>\n",
              "      <td>NaN</td>\n",
              "      <td>SAN DIEGO</td>\n",
              "      <td>822</td>\n",
              "      <td>El Cerrito 822</td>\n",
              "      <td>2</td>\n",
              "      <td>0</td>\n",
              "      <td>0</td>\n",
              "      <td>30</td>\n",
              "      <td>Female</td>\n",
              "      <td>0</td>\n",
              "      <td>2</td>\n",
              "      <td>NaN</td>\n",
              "      <td>No</td>\n",
              "      <td>Reasonable Suspicion</td>\n",
              "      <td>53072</td>\n",
              "      <td>415(1) PC - FIGHT IN PUBLIC PLACE (M) 53072</td>\n",
              "      <td>Other Reasonable Suspicion of a crime</td>\n",
              "      <td>Both parties engaged in argument.</td>\n",
              "      <td>Hispanic/Latino/a</td>\n",
              "      <td>1</td>\n",
              "      <td>No Action</td>\n",
              "      <td>NaN</td>\n",
              "      <td>NaN</td>\n",
              "      <td>Curbside detention</td>\n",
              "      <td>NaN</td>\n",
              "    </tr>\n",
              "    <tr>\n",
              "      <th>4</th>\n",
              "      <td>2448</td>\n",
              "      <td>CA0371100</td>\n",
              "      <td>SD</td>\n",
              "      <td>3</td>\n",
              "      <td>2018-07-01</td>\n",
              "      <td>00:19:06</td>\n",
              "      <td>5</td>\n",
              "      <td>0</td>\n",
              "      <td>1</td>\n",
              "      <td>Patrol, traffic enforcement, field operations</td>\n",
              "      <td>NaN</td>\n",
              "      <td>4800.0</td>\n",
              "      <td>NaN</td>\n",
              "      <td>NIAGARA AVE</td>\n",
              "      <td>NaN</td>\n",
              "      <td>0</td>\n",
              "      <td>NaN</td>\n",
              "      <td>SAN DIEGO</td>\n",
              "      <td>614</td>\n",
              "      <td>Ocean Beach 614</td>\n",
              "      <td>1</td>\n",
              "      <td>0</td>\n",
              "      <td>0</td>\n",
              "      <td>23</td>\n",
              "      <td>Male</td>\n",
              "      <td>0</td>\n",
              "      <td>1</td>\n",
              "      <td>NaN</td>\n",
              "      <td>No</td>\n",
              "      <td>Traffic Violation</td>\n",
              "      <td>54106</td>\n",
              "      <td>22350 VC - UNSAFE SPEED:PREVAIL COND (I) 54106</td>\n",
              "      <td>Moving Violation</td>\n",
              "      <td>UNSAFE DRIVING</td>\n",
              "      <td>White</td>\n",
              "      <td>1</td>\n",
              "      <td>No Action</td>\n",
              "      <td>NaN</td>\n",
              "      <td>NaN</td>\n",
              "      <td>None</td>\n",
              "      <td>NaN</td>\n",
              "    </tr>\n",
              "  </tbody>\n",
              "</table>\n",
              "</div>"
            ],
            "text/plain": [
              "   stop_id        ori  ...              action  consented\n",
              "0     2443  CA0371100  ...                None        NaN\n",
              "1     2444  CA0371100  ...                None        NaN\n",
              "2     2447  CA0371100  ...  Curbside detention        NaN\n",
              "3     2447  CA0371100  ...  Curbside detention        NaN\n",
              "4     2448  CA0371100  ...                None        NaN\n",
              "\n",
              "[5 rows x 41 columns]"
            ]
          },
          "metadata": {
            "tags": []
          },
          "execution_count": 1
        }
      ]
    },
    {
      "cell_type": "markdown",
      "metadata": {
        "id": "_20Y0mInRwgT",
        "colab_type": "text"
      },
      "source": [
        "## Cleaning Data"
      ]
    },
    {
      "cell_type": "code",
      "metadata": {
        "id": "0Tx1dzj-WETo",
        "colab_type": "code",
        "colab": {
          "base_uri": "https://localhost:8080/",
          "height": 317
        },
        "outputId": "d075bd64-b53d-43ef-91d8-1e40a0625ecf"
      },
      "source": [
        "police.describe()"
      ],
      "execution_count": 2,
      "outputs": [
        {
          "output_type": "execute_result",
          "data": {
            "text/html": [
              "<div>\n",
              "<style scoped>\n",
              "    .dataframe tbody tr th:only-of-type {\n",
              "        vertical-align: middle;\n",
              "    }\n",
              "\n",
              "    .dataframe tbody tr th {\n",
              "        vertical-align: top;\n",
              "    }\n",
              "\n",
              "    .dataframe thead th {\n",
              "        text-align: right;\n",
              "    }\n",
              "</style>\n",
              "<table border=\"1\" class=\"dataframe\">\n",
              "  <thead>\n",
              "    <tr style=\"text-align: right;\">\n",
              "      <th></th>\n",
              "      <th>stop_id</th>\n",
              "      <th>exp_years</th>\n",
              "      <th>stopduration</th>\n",
              "      <th>stop_in_response_to_cfs</th>\n",
              "      <th>officer_assignment_key</th>\n",
              "      <th>block</th>\n",
              "      <th>isschool</th>\n",
              "      <th>beat</th>\n",
              "      <th>pid</th>\n",
              "      <th>isstudent</th>\n",
              "      <th>perceived_limited_english</th>\n",
              "      <th>perceived_age</th>\n",
              "      <th>gender_nonconforming</th>\n",
              "      <th>gend</th>\n",
              "      <th>gend_nc</th>\n",
              "      <th>resultkey</th>\n",
              "      <th>code</th>\n",
              "    </tr>\n",
              "  </thead>\n",
              "  <tbody>\n",
              "    <tr>\n",
              "      <th>count</th>\n",
              "      <td>321815.000000</td>\n",
              "      <td>321815.000000</td>\n",
              "      <td>321815.000000</td>\n",
              "      <td>321815.000000</td>\n",
              "      <td>321815.000000</td>\n",
              "      <td>3.008530e+05</td>\n",
              "      <td>321815.000000</td>\n",
              "      <td>321815.000000</td>\n",
              "      <td>321815.000000</td>\n",
              "      <td>321815.000000</td>\n",
              "      <td>321815.000000</td>\n",
              "      <td>321815.000000</td>\n",
              "      <td>321815.000000</td>\n",
              "      <td>321815.000000</td>\n",
              "      <td>206.0</td>\n",
              "      <td>321815.000000</td>\n",
              "      <td>182872.000000</td>\n",
              "    </tr>\n",
              "    <tr>\n",
              "      <th>mean</th>\n",
              "      <td>87075.928841</td>\n",
              "      <td>6.330746</td>\n",
              "      <td>47.275497</td>\n",
              "      <td>0.171397</td>\n",
              "      <td>1.592331</td>\n",
              "      <td>5.169807e+03</td>\n",
              "      <td>0.001849</td>\n",
              "      <td>519.708233</td>\n",
              "      <td>1.180128</td>\n",
              "      <td>0.001299</td>\n",
              "      <td>0.028134</td>\n",
              "      <td>36.513267</td>\n",
              "      <td>0.000640</td>\n",
              "      <td>1.249252</td>\n",
              "      <td>5.0</td>\n",
              "      <td>4.816413</td>\n",
              "      <td>48100.769194</td>\n",
              "    </tr>\n",
              "    <tr>\n",
              "      <th>std</th>\n",
              "      <td>48303.723628</td>\n",
              "      <td>6.932288</td>\n",
              "      <td>75.959309</td>\n",
              "      <td>0.376856</td>\n",
              "      <td>2.091316</td>\n",
              "      <td>2.099500e+05</td>\n",
              "      <td>0.042959</td>\n",
              "      <td>238.609181</td>\n",
              "      <td>0.796675</td>\n",
              "      <td>0.036017</td>\n",
              "      <td>0.165356</td>\n",
              "      <td>13.030562</td>\n",
              "      <td>0.025293</td>\n",
              "      <td>0.445623</td>\n",
              "      <td>0.0</td>\n",
              "      <td>2.373811</td>\n",
              "      <td>15132.572740</td>\n",
              "    </tr>\n",
              "    <tr>\n",
              "      <th>min</th>\n",
              "      <td>2443.000000</td>\n",
              "      <td>1.000000</td>\n",
              "      <td>1.000000</td>\n",
              "      <td>0.000000</td>\n",
              "      <td>1.000000</td>\n",
              "      <td>0.000000e+00</td>\n",
              "      <td>0.000000</td>\n",
              "      <td>111.000000</td>\n",
              "      <td>1.000000</td>\n",
              "      <td>0.000000</td>\n",
              "      <td>0.000000</td>\n",
              "      <td>1.000000</td>\n",
              "      <td>0.000000</td>\n",
              "      <td>0.000000</td>\n",
              "      <td>5.0</td>\n",
              "      <td>1.000000</td>\n",
              "      <td>3.000000</td>\n",
              "    </tr>\n",
              "    <tr>\n",
              "      <th>25%</th>\n",
              "      <td>45366.000000</td>\n",
              "      <td>1.000000</td>\n",
              "      <td>10.000000</td>\n",
              "      <td>0.000000</td>\n",
              "      <td>1.000000</td>\n",
              "      <td>1.200000e+03</td>\n",
              "      <td>0.000000</td>\n",
              "      <td>322.000000</td>\n",
              "      <td>1.000000</td>\n",
              "      <td>0.000000</td>\n",
              "      <td>0.000000</td>\n",
              "      <td>25.000000</td>\n",
              "      <td>0.000000</td>\n",
              "      <td>1.000000</td>\n",
              "      <td>5.0</td>\n",
              "      <td>3.000000</td>\n",
              "      <td>35353.000000</td>\n",
              "    </tr>\n",
              "    <tr>\n",
              "      <th>50%</th>\n",
              "      <td>87385.000000</td>\n",
              "      <td>3.000000</td>\n",
              "      <td>20.000000</td>\n",
              "      <td>0.000000</td>\n",
              "      <td>1.000000</td>\n",
              "      <td>3.100000e+03</td>\n",
              "      <td>0.000000</td>\n",
              "      <td>523.000000</td>\n",
              "      <td>1.000000</td>\n",
              "      <td>0.000000</td>\n",
              "      <td>0.000000</td>\n",
              "      <td>35.000000</td>\n",
              "      <td>0.000000</td>\n",
              "      <td>1.000000</td>\n",
              "      <td>5.0</td>\n",
              "      <td>5.000000</td>\n",
              "      <td>54106.000000</td>\n",
              "    </tr>\n",
              "    <tr>\n",
              "      <th>75%</th>\n",
              "      <td>129822.000000</td>\n",
              "      <td>9.000000</td>\n",
              "      <td>60.000000</td>\n",
              "      <td>0.000000</td>\n",
              "      <td>1.000000</td>\n",
              "      <td>4.500000e+03</td>\n",
              "      <td>0.000000</td>\n",
              "      <td>712.000000</td>\n",
              "      <td>1.000000</td>\n",
              "      <td>0.000000</td>\n",
              "      <td>0.000000</td>\n",
              "      <td>45.000000</td>\n",
              "      <td>0.000000</td>\n",
              "      <td>1.000000</td>\n",
              "      <td>5.0</td>\n",
              "      <td>7.000000</td>\n",
              "      <td>64005.000000</td>\n",
              "    </tr>\n",
              "    <tr>\n",
              "      <th>max</th>\n",
              "      <td>168243.000000</td>\n",
              "      <td>50.000000</td>\n",
              "      <td>1440.000000</td>\n",
              "      <td>1.000000</td>\n",
              "      <td>10.000000</td>\n",
              "      <td>9.999990e+07</td>\n",
              "      <td>1.000000</td>\n",
              "      <td>999.000000</td>\n",
              "      <td>39.000000</td>\n",
              "      <td>1.000000</td>\n",
              "      <td>1.000000</td>\n",
              "      <td>120.000000</td>\n",
              "      <td>1.000000</td>\n",
              "      <td>4.000000</td>\n",
              "      <td>5.0</td>\n",
              "      <td>13.000000</td>\n",
              "      <td>99999.000000</td>\n",
              "    </tr>\n",
              "  </tbody>\n",
              "</table>\n",
              "</div>"
            ],
            "text/plain": [
              "             stop_id      exp_years  ...      resultkey           code\n",
              "count  321815.000000  321815.000000  ...  321815.000000  182872.000000\n",
              "mean    87075.928841       6.330746  ...       4.816413   48100.769194\n",
              "std     48303.723628       6.932288  ...       2.373811   15132.572740\n",
              "min      2443.000000       1.000000  ...       1.000000       3.000000\n",
              "25%     45366.000000       1.000000  ...       3.000000   35353.000000\n",
              "50%     87385.000000       3.000000  ...       5.000000   54106.000000\n",
              "75%    129822.000000       9.000000  ...       7.000000   64005.000000\n",
              "max    168243.000000      50.000000  ...      13.000000   99999.000000\n",
              "\n",
              "[8 rows x 17 columns]"
            ]
          },
          "metadata": {
            "tags": []
          },
          "execution_count": 2
        }
      ]
    },
    {
      "cell_type": "code",
      "metadata": {
        "id": "fD2kuBVizivb",
        "colab_type": "code",
        "colab": {
          "base_uri": "https://localhost:8080/",
          "height": 164
        },
        "outputId": "8c228792-5e11-4e2d-8bc5-cbf7066becd8"
      },
      "source": [
        "# filtering out extreme age values\n",
        "df_adv = df_adv[(df_adv['Age'] < 100) & (df_adv['Age'] >= 18)]"
      ],
      "execution_count": 26,
      "outputs": [
        {
          "output_type": "error",
          "ename": "TypeError",
          "evalue": "ignored",
          "traceback": [
            "\u001b[0;31m---------------------------------------------------------------------------\u001b[0m",
            "\u001b[0;31mTypeError\u001b[0m                                 Traceback (most recent call last)",
            "\u001b[0;32m<ipython-input-26-668fd07579fd>\u001b[0m in \u001b[0;36m<module>\u001b[0;34m()\u001b[0m\n\u001b[0;32m----> 1\u001b[0;31m \u001b[0msum\u001b[0m\u001b[0;34m(\u001b[0m\u001b[0mpolice\u001b[0m\u001b[0;34m[\u001b[0m\u001b[0mpolice\u001b[0m\u001b[0;34m[\u001b[0m\u001b[0;34m'perceived_age'\u001b[0m\u001b[0;34m]\u001b[0m\u001b[0;34m>\u001b[0m \u001b[0;36m90\u001b[0m\u001b[0;34m]\u001b[0m\u001b[0;34m)\u001b[0m\u001b[0;34m\u001b[0m\u001b[0;34m\u001b[0m\u001b[0m\n\u001b[0m",
            "\u001b[0;31mTypeError\u001b[0m: unsupported operand type(s) for +: 'int' and 'str'"
          ]
        }
      ]
    },
    {
      "cell_type": "code",
      "metadata": {
        "id": "LJqPa-hC1AlF",
        "colab_type": "code",
        "colab": {}
      },
      "source": [
        ""
      ],
      "execution_count": 0,
      "outputs": []
    },
    {
      "cell_type": "code",
      "metadata": {
        "id": "7rkeLH9-R3_X",
        "colab_type": "code",
        "colab": {
          "base_uri": "https://localhost:8080/",
          "height": 1000
        },
        "outputId": "d95b932e-ab1e-4a9a-ae2b-5df3a978a843"
      },
      "source": [
        "police.info()\n",
        "print()\n",
        "print(police.isnull().any())"
      ],
      "execution_count": 3,
      "outputs": [
        {
          "output_type": "stream",
          "text": [
            "<class 'pandas.core.frame.DataFrame'>\n",
            "Int64Index: 321815 entries, 0 to 321814\n",
            "Data columns (total 41 columns):\n",
            " #   Column                       Non-Null Count   Dtype  \n",
            "---  ------                       --------------   -----  \n",
            " 0   stop_id                      321815 non-null  int64  \n",
            " 1   ori                          321815 non-null  object \n",
            " 2   agency                       321815 non-null  object \n",
            " 3   exp_years                    321815 non-null  int64  \n",
            " 4   stopdate                     321815 non-null  object \n",
            " 5   stoptime                     321815 non-null  object \n",
            " 6   stopduration                 321815 non-null  int64  \n",
            " 7   stop_in_response_to_cfs      321815 non-null  int64  \n",
            " 8   officer_assignment_key       321815 non-null  int64  \n",
            " 9   assignment                   321815 non-null  object \n",
            " 10  intersection                 19370 non-null   object \n",
            " 11  block                        300853 non-null  float64\n",
            " 12  land_mark                    21 non-null      object \n",
            " 13  street                       311931 non-null  object \n",
            " 14  highway_exit                 2135 non-null    object \n",
            " 15  isschool                     321815 non-null  int64  \n",
            " 16  school_name                  595 non-null     object \n",
            " 17  cityname                     321815 non-null  object \n",
            " 18  beat                         321815 non-null  int64  \n",
            " 19  beat_name                    321815 non-null  object \n",
            " 20  pid                          321815 non-null  int64  \n",
            " 21  isstudent                    321815 non-null  int64  \n",
            " 22  perceived_limited_english    321815 non-null  int64  \n",
            " 23  perceived_age                321815 non-null  int64  \n",
            " 24  perceived_gender             321701 non-null  object \n",
            " 25  gender_nonconforming         321815 non-null  int64  \n",
            " 26  gend                         321815 non-null  int64  \n",
            " 27  gend_nc                      206 non-null     float64\n",
            " 28  perceived_lgbt               321815 non-null  object \n",
            " 29  reason_for_stop              321815 non-null  object \n",
            " 30  reason_for_stopcode          295256 non-null  object \n",
            " 31  reason_for_stop_code_text    295256 non-null  object \n",
            " 32  reason_for_stop_detail       295298 non-null  object \n",
            " 33  reason_for_stop_explanation  321814 non-null  object \n",
            " 34  race                         321815 non-null  object \n",
            " 35  resultkey                    321815 non-null  int64  \n",
            " 36  result                       321815 non-null  object \n",
            " 37  code                         182872 non-null  float64\n",
            " 38  resulttext                   182872 non-null  object \n",
            " 39  action                       321815 non-null  object \n",
            " 40  consented                    8537 non-null    object \n",
            "dtypes: float64(3), int64(14), object(24)\n",
            "memory usage: 103.1+ MB\n",
            "\n",
            "stop_id                        False\n",
            "ori                            False\n",
            "agency                         False\n",
            "exp_years                      False\n",
            "stopdate                       False\n",
            "stoptime                       False\n",
            "stopduration                   False\n",
            "stop_in_response_to_cfs        False\n",
            "officer_assignment_key         False\n",
            "assignment                     False\n",
            "intersection                    True\n",
            "block                           True\n",
            "land_mark                       True\n",
            "street                          True\n",
            "highway_exit                    True\n",
            "isschool                       False\n",
            "school_name                     True\n",
            "cityname                       False\n",
            "beat                           False\n",
            "beat_name                      False\n",
            "pid                            False\n",
            "isstudent                      False\n",
            "perceived_limited_english      False\n",
            "perceived_age                  False\n",
            "perceived_gender                True\n",
            "gender_nonconforming           False\n",
            "gend                           False\n",
            "gend_nc                         True\n",
            "perceived_lgbt                 False\n",
            "reason_for_stop                False\n",
            "reason_for_stopcode             True\n",
            "reason_for_stop_code_text       True\n",
            "reason_for_stop_detail          True\n",
            "reason_for_stop_explanation     True\n",
            "race                           False\n",
            "resultkey                      False\n",
            "result                         False\n",
            "code                            True\n",
            "resulttext                      True\n",
            "action                         False\n",
            "consented                       True\n",
            "dtype: bool\n"
          ],
          "name": "stdout"
        }
      ]
    },
    {
      "cell_type": "code",
      "metadata": {
        "id": "FcsxXAzPSIJK",
        "colab_type": "code",
        "colab": {
          "base_uri": "https://localhost:8080/",
          "height": 34
        },
        "outputId": "6eaab4e0-d5ff-4074-c3ac-3d8697f9f003"
      },
      "source": [
        "# checking for duplicates\n",
        "print('Number of duplicates:', police.duplicated().sum())"
      ],
      "execution_count": 4,
      "outputs": [
        {
          "output_type": "stream",
          "text": [
            "Number of duplicates: 454\n"
          ],
          "name": "stdout"
        }
      ]
    },
    {
      "cell_type": "code",
      "metadata": {
        "id": "sCL0m_QQSIYU",
        "colab_type": "code",
        "colab": {}
      },
      "source": [
        "# removing duplicated observations from data\n",
        "police = police.drop_duplicates()"
      ],
      "execution_count": 0,
      "outputs": []
    },
    {
      "cell_type": "code",
      "metadata": {
        "id": "kgSfwx3dNQ8m",
        "colab_type": "code",
        "colab": {
          "base_uri": "https://localhost:8080/",
          "height": 714
        },
        "outputId": "c32f4ad6-ad88-4bd4-f678-3104639772c2"
      },
      "source": [
        "cols = police.columns.tolist()\n",
        "cols"
      ],
      "execution_count": 6,
      "outputs": [
        {
          "output_type": "execute_result",
          "data": {
            "text/plain": [
              "['stop_id',\n",
              " 'ori',\n",
              " 'agency',\n",
              " 'exp_years',\n",
              " 'stopdate',\n",
              " 'stoptime',\n",
              " 'stopduration',\n",
              " 'stop_in_response_to_cfs',\n",
              " 'officer_assignment_key',\n",
              " 'assignment',\n",
              " 'intersection',\n",
              " 'block',\n",
              " 'land_mark',\n",
              " 'street',\n",
              " 'highway_exit',\n",
              " 'isschool',\n",
              " 'school_name',\n",
              " 'cityname',\n",
              " 'beat',\n",
              " 'beat_name',\n",
              " 'pid',\n",
              " 'isstudent',\n",
              " 'perceived_limited_english',\n",
              " 'perceived_age',\n",
              " 'perceived_gender',\n",
              " 'gender_nonconforming',\n",
              " 'gend',\n",
              " 'gend_nc',\n",
              " 'perceived_lgbt',\n",
              " 'reason_for_stop',\n",
              " 'reason_for_stopcode',\n",
              " 'reason_for_stop_code_text',\n",
              " 'reason_for_stop_detail',\n",
              " 'reason_for_stop_explanation',\n",
              " 'race',\n",
              " 'resultkey',\n",
              " 'result',\n",
              " 'code',\n",
              " 'resulttext',\n",
              " 'action',\n",
              " 'consented']"
            ]
          },
          "metadata": {
            "tags": []
          },
          "execution_count": 6
        }
      ]
    },
    {
      "cell_type": "code",
      "metadata": {
        "scrolled": true,
        "id": "7L98Y0hbNQ8q",
        "colab_type": "code",
        "colab": {
          "base_uri": "https://localhost:8080/",
          "height": 34
        },
        "outputId": "bb1df6cd-4f5c-46b4-b572-3c0cdf530587"
      },
      "source": [
        "# dropping columns for missing values, constant values, irrelevant, etc.\n",
        "police = police.drop(['agency', 'ori', 'block', 'gend_nc', \n",
        "         'highway_exit', 'intersection', 'land_mark',\n",
        "         'school_name', 'street', 'gender_nonconforming', \n",
        "              'pid', 'consented', 'resulttext', 'code',\n",
        "              'beat', 'resultkey','reason_for_stopcode', \n",
        "              'isschool', 'stop_id', 'isstudent','reason_for_stop_code_text',\n",
        "             'reason_for_stop_explanation','cityname',\n",
        "             'perceived_gender', 'officer_assignment_key', 'stop_in_response_to_cfs',\n",
        "             'assignment', 'perceived_lgbt'], axis=1)\n",
        "police.shape"
      ],
      "execution_count": 7,
      "outputs": [
        {
          "output_type": "execute_result",
          "data": {
            "text/plain": [
              "(321361, 13)"
            ]
          },
          "metadata": {
            "tags": []
          },
          "execution_count": 7
        }
      ]
    },
    {
      "cell_type": "markdown",
      "metadata": {
        "id": "niBNfyJ3S5Co",
        "colab_type": "text"
      },
      "source": [
        "## Feature Engineering"
      ]
    },
    {
      "cell_type": "code",
      "metadata": {
        "id": "HJQFFX1RNQ8y",
        "colab_type": "code",
        "colab": {
          "base_uri": "https://localhost:8080/",
          "height": 102
        },
        "outputId": "0b354f4e-446b-4b13-ac4f-4474e0eae5f9"
      },
      "source": [
        "# Narrowing result columns to ticket or non-ticket actions\n",
        "result_list = ['No Action','Warning (verbal or written)', 'Citation for infraction']\n",
        "police = police[police.result.isin(result_list)]\n",
        "\n",
        "\n",
        "# looking at target distributions\n",
        "ticketing_rate = (police['result'].value_counts() / police.shape[0]) * 100\n",
        "\n",
        "print('Target Distribution:\\n',ticketing_rate)"
      ],
      "execution_count": 8,
      "outputs": [
        {
          "output_type": "stream",
          "text": [
            "Target Distribution:\n",
            " Citation for infraction        40.516520\n",
            "Warning (verbal or written)    31.391515\n",
            "No Action                      28.091965\n",
            "Name: result, dtype: float64\n"
          ],
          "name": "stdout"
        }
      ]
    },
    {
      "cell_type": "code",
      "metadata": {
        "scrolled": true,
        "id": "9prfwv4ZNQ88",
        "colab_type": "code",
        "colab": {}
      },
      "source": [
        "# Converting stopdate to datetime format\n",
        "# Engineering month, day features\n",
        "# A year feature isn't necessary because all stops were over a one year period\n",
        "\n",
        "def convert_to_int(df_column):\n",
        "    boolean_list = []\n",
        "    for i in df_column:\n",
        "        boolean_list.append(int(i))\n",
        "    df_column = boolean_list\n",
        "    return df_column\n",
        "\n",
        "\n",
        "police['stopdate'] = pd.to_datetime(police.stopdate, infer_datetime_format=True)\n",
        "police['month'] = police['stopdate'].dt.month\n",
        "police['day'] = police['stopdate'].dt.day\n",
        "\n",
        "\n",
        "# Only including clean data rows from stoptime. This removes 28 rows\n",
        "police = police[police['stoptime'].str.len()<=8]\n",
        "\n",
        "# Now binning stoptimes by hour of the day. 0-24\n",
        "police['stop_hour'] = pd.to_datetime(police['stoptime']).dt.hour\n",
        "\n",
        "\n",
        "# Further binning stop_hour into chunks of time. Conventionally, i think more tickets will happen at odd hours\n",
        "# (Like 2 in the morning or something)\n",
        "police['morning'] = (police['stop_hour'] < 12) & (police['stop_hour'] >= 6)\n",
        "police['afternoon'] = (police['stop_hour'] >= 12) & (police['stop_hour'] < 19)\n",
        "police['night'] = (police['stop_hour'] >= 19) | (police['stop_hour'] < 6) | (police['stop_hour'] == 0)\n",
        "\n",
        "# creating weekend/weekday timestamp columns\n",
        "police['weekday'] = police['stopdate'].dt.weekday < 5\n",
        "police['weekend'] = police['stopdate'].dt.weekday > 5\n",
        "\n",
        "# converting all booleans to ints\n",
        "\n",
        "police['afternoon'] = convert_to_int(police['afternoon'])\n",
        "police['morning'] = convert_to_int(police['morning'])\n",
        "police['night'] = convert_to_int(police['night'])\n",
        "police['weekday'] = convert_to_int(police['weekday'])\n",
        "police['weekend'] = convert_to_int(police['weekend'])\n",
        "\n",
        "# engineering weekday feature for readability\n",
        "\n",
        "weekday_names = {0 :'Monday', 1: 'Tuesday', 2:'Wednesday', 3: 'Thursday', 4:'Friday', 5:'Saturday', 6:'Sunday'}\n",
        "\n",
        "weekday_list = []\n",
        "\n",
        "for i in police['stopdate'].dt.weekday:\n",
        "    weekday_list.append(weekday_names[i])\n",
        "\n",
        "police['day_of_week'] = weekday_list\n",
        "\n",
        "\n",
        "# encode timestamp_month feature\n",
        "police['month'] = ['January' if x == 1\n",
        "                        else 'February' if x == 2\n",
        "                        else 'March' if x == 3\n",
        "                        else 'April' if x == 4\n",
        "                        else 'May' if x == 5\n",
        "                        else 'June' if x == 6\n",
        "                        else 'July' if x == 7\n",
        "                        else 'August' if x == 8\n",
        "                        else 'September' if x == 9\n",
        "                        else 'October' if x == 10\n",
        "                        else 'November' if x == 11\n",
        "                        else 'December' if x == 12\n",
        "                        else 'NaN'\n",
        "                        for x in police['month']]\n",
        "\n",
        "\n",
        "police = police.drop(columns=['stopdate','stoptime'])"
      ],
      "execution_count": 0,
      "outputs": []
    },
    {
      "cell_type": "code",
      "metadata": {
        "id": "yH1qGW6cmKOa",
        "colab_type": "code",
        "colab": {}
      },
      "source": [
        "# re-encoding some features\n",
        "\n",
        "police = police.rename(columns={'gend':'gender'})\n",
        "\n",
        "police['gender'] = ['male' if x == 1\n",
        "                    else 'female' if x == 2\n",
        "                    else 'NaN'\n",
        "                    for x in police['gender']]\n",
        "                    \n",
        "\n"
      ],
      "execution_count": 0,
      "outputs": []
    },
    {
      "cell_type": "code",
      "metadata": {
        "id": "Ya6zHCfJmKhU",
        "colab_type": "code",
        "colab": {
          "base_uri": "https://localhost:8080/",
          "height": 85
        },
        "outputId": "97703bef-6786-47d2-c062-1079a70e337f"
      },
      "source": [
        "police.result.value_counts()"
      ],
      "execution_count": 11,
      "outputs": [
        {
          "output_type": "execute_result",
          "data": {
            "text/plain": [
              "Citation for infraction        46452\n",
              "Warning (verbal or written)    35991\n",
              "No Action                      32208\n",
              "Name: result, dtype: int64"
            ]
          },
          "metadata": {
            "tags": []
          },
          "execution_count": 11
        }
      ]
    },
    {
      "cell_type": "code",
      "metadata": {
        "id": "L-E-yr5EmKwf",
        "colab_type": "code",
        "colab": {
          "base_uri": "https://localhost:8080/",
          "height": 343
        },
        "outputId": "5d2eb655-3b80-4031-b327-e39dd50d312c"
      },
      "source": [
        "police['citation'] = police['result'] == 'Citation for infraction'\n",
        "\n",
        "police.drop(columns='result')\n",
        "\n",
        "target = \"citation\"\n",
        "\n",
        "police.head()"
      ],
      "execution_count": 12,
      "outputs": [
        {
          "output_type": "execute_result",
          "data": {
            "text/html": [
              "<div>\n",
              "<style scoped>\n",
              "    .dataframe tbody tr th:only-of-type {\n",
              "        vertical-align: middle;\n",
              "    }\n",
              "\n",
              "    .dataframe tbody tr th {\n",
              "        vertical-align: top;\n",
              "    }\n",
              "\n",
              "    .dataframe thead th {\n",
              "        text-align: right;\n",
              "    }\n",
              "</style>\n",
              "<table border=\"1\" class=\"dataframe\">\n",
              "  <thead>\n",
              "    <tr style=\"text-align: right;\">\n",
              "      <th></th>\n",
              "      <th>exp_years</th>\n",
              "      <th>stopduration</th>\n",
              "      <th>beat_name</th>\n",
              "      <th>perceived_limited_english</th>\n",
              "      <th>perceived_age</th>\n",
              "      <th>gender</th>\n",
              "      <th>reason_for_stop</th>\n",
              "      <th>reason_for_stop_detail</th>\n",
              "      <th>race</th>\n",
              "      <th>result</th>\n",
              "      <th>action</th>\n",
              "      <th>month</th>\n",
              "      <th>day</th>\n",
              "      <th>stop_hour</th>\n",
              "      <th>morning</th>\n",
              "      <th>afternoon</th>\n",
              "      <th>night</th>\n",
              "      <th>weekday</th>\n",
              "      <th>weekend</th>\n",
              "      <th>day_of_week</th>\n",
              "      <th>citation</th>\n",
              "    </tr>\n",
              "  </thead>\n",
              "  <tbody>\n",
              "    <tr>\n",
              "      <th>1</th>\n",
              "      <td>18</td>\n",
              "      <td>10</td>\n",
              "      <td>Mission Beach 121</td>\n",
              "      <td>0</td>\n",
              "      <td>25</td>\n",
              "      <td>male</td>\n",
              "      <td>Traffic Violation</td>\n",
              "      <td>Moving Violation</td>\n",
              "      <td>White</td>\n",
              "      <td>Warning (verbal or written)</td>\n",
              "      <td>None</td>\n",
              "      <td>July</td>\n",
              "      <td>1</td>\n",
              "      <td>0</td>\n",
              "      <td>0</td>\n",
              "      <td>0</td>\n",
              "      <td>1</td>\n",
              "      <td>0</td>\n",
              "      <td>1</td>\n",
              "      <td>Sunday</td>\n",
              "      <td>False</td>\n",
              "    </tr>\n",
              "    <tr>\n",
              "      <th>2</th>\n",
              "      <td>1</td>\n",
              "      <td>15</td>\n",
              "      <td>El Cerrito 822</td>\n",
              "      <td>0</td>\n",
              "      <td>30</td>\n",
              "      <td>male</td>\n",
              "      <td>Reasonable Suspicion</td>\n",
              "      <td>Matched suspect description</td>\n",
              "      <td>Hispanic/Latino/a</td>\n",
              "      <td>No Action</td>\n",
              "      <td>Curbside detention</td>\n",
              "      <td>July</td>\n",
              "      <td>1</td>\n",
              "      <td>0</td>\n",
              "      <td>0</td>\n",
              "      <td>0</td>\n",
              "      <td>1</td>\n",
              "      <td>0</td>\n",
              "      <td>1</td>\n",
              "      <td>Sunday</td>\n",
              "      <td>False</td>\n",
              "    </tr>\n",
              "    <tr>\n",
              "      <th>3</th>\n",
              "      <td>1</td>\n",
              "      <td>15</td>\n",
              "      <td>El Cerrito 822</td>\n",
              "      <td>0</td>\n",
              "      <td>30</td>\n",
              "      <td>female</td>\n",
              "      <td>Reasonable Suspicion</td>\n",
              "      <td>Other Reasonable Suspicion of a crime</td>\n",
              "      <td>Hispanic/Latino/a</td>\n",
              "      <td>No Action</td>\n",
              "      <td>Curbside detention</td>\n",
              "      <td>July</td>\n",
              "      <td>1</td>\n",
              "      <td>0</td>\n",
              "      <td>0</td>\n",
              "      <td>0</td>\n",
              "      <td>1</td>\n",
              "      <td>0</td>\n",
              "      <td>1</td>\n",
              "      <td>Sunday</td>\n",
              "      <td>False</td>\n",
              "    </tr>\n",
              "    <tr>\n",
              "      <th>4</th>\n",
              "      <td>3</td>\n",
              "      <td>5</td>\n",
              "      <td>Ocean Beach 614</td>\n",
              "      <td>0</td>\n",
              "      <td>23</td>\n",
              "      <td>male</td>\n",
              "      <td>Traffic Violation</td>\n",
              "      <td>Moving Violation</td>\n",
              "      <td>White</td>\n",
              "      <td>No Action</td>\n",
              "      <td>None</td>\n",
              "      <td>July</td>\n",
              "      <td>1</td>\n",
              "      <td>0</td>\n",
              "      <td>0</td>\n",
              "      <td>0</td>\n",
              "      <td>1</td>\n",
              "      <td>0</td>\n",
              "      <td>1</td>\n",
              "      <td>Sunday</td>\n",
              "      <td>False</td>\n",
              "    </tr>\n",
              "    <tr>\n",
              "      <th>16</th>\n",
              "      <td>4</td>\n",
              "      <td>3</td>\n",
              "      <td>Colina Del Sol 826</td>\n",
              "      <td>0</td>\n",
              "      <td>30</td>\n",
              "      <td>male</td>\n",
              "      <td>Traffic Violation</td>\n",
              "      <td>Non-moving Violation, including Registration V...</td>\n",
              "      <td>Black/African American</td>\n",
              "      <td>No Action</td>\n",
              "      <td>None</td>\n",
              "      <td>July</td>\n",
              "      <td>1</td>\n",
              "      <td>0</td>\n",
              "      <td>0</td>\n",
              "      <td>0</td>\n",
              "      <td>1</td>\n",
              "      <td>0</td>\n",
              "      <td>1</td>\n",
              "      <td>Sunday</td>\n",
              "      <td>False</td>\n",
              "    </tr>\n",
              "  </tbody>\n",
              "</table>\n",
              "</div>"
            ],
            "text/plain": [
              "    exp_years  stopduration           beat_name  ...  weekend  day_of_week citation\n",
              "1          18            10   Mission Beach 121  ...        1       Sunday    False\n",
              "2           1            15      El Cerrito 822  ...        1       Sunday    False\n",
              "3           1            15      El Cerrito 822  ...        1       Sunday    False\n",
              "4           3             5     Ocean Beach 614  ...        1       Sunday    False\n",
              "16          4             3  Colina Del Sol 826  ...        1       Sunday    False\n",
              "\n",
              "[5 rows x 21 columns]"
            ]
          },
          "metadata": {
            "tags": []
          },
          "execution_count": 12
        }
      ]
    },
    {
      "cell_type": "code",
      "metadata": {
        "id": "tpBtzOe9mK95",
        "colab_type": "code",
        "colab": {}
      },
      "source": [
        ""
      ],
      "execution_count": 0,
      "outputs": []
    },
    {
      "cell_type": "code",
      "metadata": {
        "id": "wTfd24QtmLL8",
        "colab_type": "code",
        "colab": {}
      },
      "source": [
        ""
      ],
      "execution_count": 0,
      "outputs": []
    },
    {
      "cell_type": "markdown",
      "metadata": {
        "id": "DsFEgwrMWN7e",
        "colab_type": "text"
      },
      "source": [
        "## Data Visualization"
      ]
    },
    {
      "cell_type": "code",
      "metadata": {
        "id": "sX0prTqwWQ3c",
        "colab_type": "code",
        "colab": {}
      },
      "source": [
        "# functions being used for data visualization\n",
        "\n",
        "def creating_boxplots(size, target, features, data):\n",
        "    plt.figure(figsize=size)\n",
        "    for i in range(len(features)):\n",
        "        plt.subplot(5, 3, i+1)\n",
        "        sns.boxplot(x=target, y=features[i], data=data)\n",
        "        \n",
        "def creating_distplot(size, data, features):\n",
        "    plt.figure(figsize=size)\n",
        "    for i in range(len(features)):\n",
        "        plt.subplot(5, 3, i+1)\n",
        "        sns.distplot(data[features[i]])\n",
        "        \n",
        "def cross_correlation(data):\n",
        "    corr = data.corr()\n",
        "    plt.figure(figsize=(10,6))\n",
        "    sns.heatmap(corr, \n",
        "          xticklabels=corr.columns.values,\n",
        "          yticklabels=corr.columns.values)\n",
        "    print(corr)"
      ],
      "execution_count": 0,
      "outputs": []
    },
    {
      "cell_type": "code",
      "metadata": {
        "id": "ofDDKdccWRLl",
        "colab_type": "code",
        "colab": {
          "base_uri": "https://localhost:8080/",
          "height": 839
        },
        "outputId": "b58f9cda-008a-4e58-bac8-2bb1ba861ef9"
      },
      "source": [
        "# isolating numerical features\n",
        "num_vars = police.select_dtypes(exclude=['object', 'datetime64']).columns\n",
        "\n",
        "# Creating distribution plots\n",
        "creating_distplot((16,18), police, num_vars);\n",
        "creating_distplot;"
      ],
      "execution_count": 14,
      "outputs": [
        {
          "output_type": "display_data",
          "data": {
            "image/png": "[encoded data removed]",
            "text/plain": [
              "<Figure size 1152x1296 with 12 Axes>"
            ]
          },
          "metadata": {
            "tags": [],
            "needs_background": "light"
          }
        }
      ]
    },
    {
      "cell_type": "code",
      "metadata": {
        "id": "HI8roaD0WRWD",
        "colab_type": "code",
        "colab": {
          "base_uri": "https://localhost:8080/",
          "height": 838
        },
        "outputId": "c72d80b6-b97c-4c8f-b209-21f543dd2bd1"
      },
      "source": [
        "# Generating boxplots with respect to our target feature\n",
        "target = \"citation\"\n",
        "features = ['exp_years', 'stop_hour', ]\n",
        "\n",
        "creating_boxplots((16,18), target, num_vars, police);"
      ],
      "execution_count": 20,
      "outputs": [
        {
          "output_type": "display_data",
          "data": {
            "image/png": "[encoded data removed]",
            "text/plain": [
              "<Figure size 1152x1296 with 12 Axes>"
            ]
          },
          "metadata": {
            "tags": [],
            "needs_background": "light"
          }
        }
      ]
    },
    {
      "cell_type": "code",
      "metadata": {
        "id": "2n5_5Ho2tSG2",
        "colab_type": "code",
        "colab": {
          "base_uri": "https://localhost:8080/",
          "height": 753
        },
        "outputId": "6c80cd39-edf2-4056-c8b8-4a18061d9a2c"
      },
      "source": [
        "cross_correlation(police)"
      ],
      "execution_count": 16,
      "outputs": [
        {
          "output_type": "stream",
          "text": [
            "                           exp_years  stopduration  ...   weekend  citation\n",
            "exp_years                   1.000000     -0.041969  ...  0.009128  0.286218\n",
            "stopduration               -0.041969      1.000000  ...  0.000633  0.004429\n",
            "perceived_limited_english   0.007455      0.004863  ... -0.004317  0.006072\n",
            "perceived_age               0.010607     -0.039547  ... -0.024279 -0.003764\n",
            "day                        -0.005377      0.008750  ... -0.006865 -0.000490\n",
            "stop_hour                   0.025208     -0.027509  ...  0.007748  0.025340\n",
            "morning                     0.055301     -0.015990  ... -0.050378  0.049874\n",
            "afternoon                   0.058176     -0.035385  ...  0.030821  0.091243\n",
            "night                      -0.108325      0.049713  ...  0.015642 -0.136111\n",
            "weekday                     0.000356     -0.008761  ... -0.629069  0.018165\n",
            "weekend                     0.009128      0.000633  ...  1.000000 -0.011994\n",
            "citation                    0.286218      0.004429  ... -0.011994  1.000000\n",
            "\n",
            "[12 rows x 12 columns]\n"
          ],
          "name": "stdout"
        },
        {
          "output_type": "display_data",
          "data": {
            "image/png": "[encoded data removed]",
            "text/plain": [
              "<Figure size 720x432 with 2 Axes>"
            ]
          },
          "metadata": {
            "tags": [],
            "needs_background": "light"
          }
        }
      ]
    },
    {
      "cell_type": "code",
      "metadata": {
        "id": "3EjAJPIXWRg7",
        "colab_type": "code",
        "colab": {
          "base_uri": "https://localhost:8080/",
          "height": 274
        },
        "outputId": "44111f08-e1ec-43c2-8e42-38e6f9a8009b"
      },
      "source": [
        "# Subsetting by 'citation received'!\n",
        "ticketed_df = (police[\"citation\"] == True)\n",
        "non_ticketed_df = (police[\"citation\"] == False)\n",
        "\n",
        "# Creating the plots\n",
        "features = ['exp_years', 'stop_hour', 'perceived_age',  'stopduration']\n",
        "labels = ['Ticketed', \"Non-Ticketed\"]\n",
        "\n",
        "def creating_plots(features, labels):\n",
        "    plt.figure(figsize=(16,6))\n",
        "    for feature in features:\n",
        "        plt.subplot(3, 2, features.index(feature)+1)\n",
        "        sns.distplot(police[feature][ticketed_df], label=labels[0], color=\"b\")\n",
        "        sns.distplot(police[feature][non_ticketed_df], label=labels[1], color=\"y\")\n",
        "        plt.axvline(police[feature][ticketed_df].mean(), linestyle = '--', color=\"b\")\n",
        "        plt.axvline(police[feature][non_ticketed_df].mean(), linestyle = '--', color=\"y\")\n",
        "        plt.legend()\n",
        "\n",
        "creating_plots(features, labels)"
      ],
      "execution_count": 18,
      "outputs": [
        {
          "output_type": "display_data",
          "data": {
            "image/png": "[encoded data removed]",
            "text/plain": [
              "<Figure size 1152x432 with 4 Axes>"
            ]
          },
          "metadata": {
            "tags": [],
            "needs_background": "light"
          }
        }
      ]
    },
    {
      "cell_type": "code",
      "metadata": {
        "id": "ZDzX9NWdWRty",
        "colab_type": "code",
        "colab": {}
      },
      "source": [
        ""
      ],
      "execution_count": 0,
      "outputs": []
    },
    {
      "cell_type": "code",
      "metadata": {
        "id": "mKoKnmgbWR-M",
        "colab_type": "code",
        "colab": {}
      },
      "source": [
        ""
      ],
      "execution_count": 0,
      "outputs": []
    },
    {
      "cell_type": "markdown",
      "metadata": {
        "id": "H0kl6M4BNQ9I",
        "colab_type": "text"
      },
      "source": [
        "## Machine Learning"
      ]
    },
    {
      "cell_type": "code",
      "metadata": {
        "id": "cWGtjsK2NQ9I",
        "colab_type": "code",
        "colab": {}
      },
      "source": [
        "# get features and target\n",
        "\n",
        "target = 'citation'\n",
        "\n",
        "features = police.columns.drop('citation')"
      ],
      "execution_count": 0,
      "outputs": []
    },
    {
      "cell_type": "code",
      "metadata": {
        "scrolled": true,
        "id": "roqFMUP2NQ9K",
        "colab_type": "code",
        "colab": {
          "base_uri": "https://localhost:8080/",
          "height": 119
        },
        "outputId": "fb6d8cc4-4133-473b-836f-3643b622f187"
      },
      "source": [
        "features"
      ],
      "execution_count": 13,
      "outputs": [
        {
          "output_type": "execute_result",
          "data": {
            "text/plain": [
              "Index(['exp_years', 'stopduration', 'stop_in_response_to_cfs',\n",
              "       'officer_assignment_key', 'assignment', 'beat_name',\n",
              "       'perceived_limited_english', 'perceived_age', 'gend', 'perceived_lgbt',\n",
              "       'reason_for_stop', 'reason_for_stop_detail', 'race', 'action', 'year',\n",
              "       'day', 'stop_hour', 'morning', 'afternoon', 'night'],\n",
              "      dtype='object')"
            ]
          },
          "metadata": {
            "tags": []
          },
          "execution_count": 13
        }
      ]
    },
    {
      "cell_type": "code",
      "metadata": {
        "id": "pH9w6kD9NQ9M",
        "colab_type": "code",
        "colab": {
          "base_uri": "https://localhost:8080/",
          "height": 34
        },
        "outputId": "bd3fb639-dc34-46ce-dd1b-3acc95ae546d"
      },
      "source": [
        "police.shape"
      ],
      "execution_count": 14,
      "outputs": [
        {
          "output_type": "execute_result",
          "data": {
            "text/plain": [
              "(114651, 21)"
            ]
          },
          "metadata": {
            "tags": []
          },
          "execution_count": 14
        }
      ]
    },
    {
      "cell_type": "code",
      "metadata": {
        "id": "Jy_fp_vWNQ9O",
        "colab_type": "code",
        "colab": {
          "base_uri": "https://localhost:8080/",
          "height": 391
        },
        "outputId": "5fe65cf8-a62a-4447-9f98-38814d3099d6"
      },
      "source": [
        "police.isnull().sum()"
      ],
      "execution_count": 15,
      "outputs": [
        {
          "output_type": "execute_result",
          "data": {
            "text/plain": [
              "exp_years                       0\n",
              "stopduration                    0\n",
              "stop_in_response_to_cfs         0\n",
              "officer_assignment_key          0\n",
              "assignment                      0\n",
              "beat_name                       0\n",
              "perceived_limited_english       0\n",
              "perceived_age                   0\n",
              "gend                            0\n",
              "perceived_lgbt                  0\n",
              "reason_for_stop                 0\n",
              "reason_for_stop_detail       5461\n",
              "race                            0\n",
              "result                          0\n",
              "action                          0\n",
              "year                            0\n",
              "day                             0\n",
              "stop_hour                       0\n",
              "morning                         0\n",
              "afternoon                       0\n",
              "night                           0\n",
              "dtype: int64"
            ]
          },
          "metadata": {
            "tags": []
          },
          "execution_count": 15
        }
      ]
    },
    {
      "cell_type": "code",
      "metadata": {
        "scrolled": false,
        "id": "9_F2tSIUNQ9U",
        "colab_type": "code",
        "colab": {
          "base_uri": "https://localhost:8080/",
          "height": 391
        },
        "outputId": "b179a0d1-6049-42de-86ee-10918ee1bf33"
      },
      "source": [
        "police = police.dropna()\n",
        "police.isnull().sum()"
      ],
      "execution_count": 16,
      "outputs": [
        {
          "output_type": "execute_result",
          "data": {
            "text/plain": [
              "exp_years                    0\n",
              "stopduration                 0\n",
              "stop_in_response_to_cfs      0\n",
              "officer_assignment_key       0\n",
              "assignment                   0\n",
              "beat_name                    0\n",
              "perceived_limited_english    0\n",
              "perceived_age                0\n",
              "gend                         0\n",
              "perceived_lgbt               0\n",
              "reason_for_stop              0\n",
              "reason_for_stop_detail       0\n",
              "race                         0\n",
              "result                       0\n",
              "action                       0\n",
              "year                         0\n",
              "day                          0\n",
              "stop_hour                    0\n",
              "morning                      0\n",
              "afternoon                    0\n",
              "night                        0\n",
              "dtype: int64"
            ]
          },
          "metadata": {
            "tags": []
          },
          "execution_count": 16
        }
      ]
    },
    {
      "cell_type": "code",
      "metadata": {
        "id": "rkkueZ5qNQ9X",
        "colab_type": "code",
        "colab": {
          "base_uri": "https://localhost:8080/",
          "height": 34
        },
        "outputId": "b9d98853-6097-4275-8c59-82ca5553f8a8"
      },
      "source": [
        "train = police\n",
        "train.shape"
      ],
      "execution_count": 17,
      "outputs": [
        {
          "output_type": "execute_result",
          "data": {
            "text/plain": [
              "(109190, 21)"
            ]
          },
          "metadata": {
            "tags": []
          },
          "execution_count": 17
        }
      ]
    },
    {
      "cell_type": "code",
      "metadata": {
        "id": "xSDAzwoVNQ9Z",
        "colab_type": "code",
        "colab": {
          "base_uri": "https://localhost:8080/",
          "height": 34
        },
        "outputId": "44dd6dc6-37b2-40aa-97bf-9699796965be"
      },
      "source": [
        "from sklearn.model_selection import train_test_split\n",
        "\n",
        "# Split train into train & test, then will split train again into train and val\n",
        "train, test = train_test_split(train, train_size=0.80, test_size=0.20, \n",
        "                              stratify=train[target], random_state=42)\n",
        "train.shape, test.shape"
      ],
      "execution_count": 18,
      "outputs": [
        {
          "output_type": "execute_result",
          "data": {
            "text/plain": [
              "((87352, 21), (21838, 21))"
            ]
          },
          "metadata": {
            "tags": []
          },
          "execution_count": 18
        }
      ]
    },
    {
      "cell_type": "code",
      "metadata": {
        "scrolled": true,
        "id": "J1blNZAXNQ9b",
        "colab_type": "code",
        "colab": {
          "base_uri": "https://localhost:8080/",
          "height": 34
        },
        "outputId": "48cc4278-c748-4b51-8ce0-d8293d6e4a09"
      },
      "source": [
        "# Split train into train & val\n",
        "train, val = train_test_split(train, train_size=0.80, test_size=0.20, \n",
        "                              stratify=train['result'], random_state=42)\n",
        "train.shape,val.shape,test.shape"
      ],
      "execution_count": 19,
      "outputs": [
        {
          "output_type": "execute_result",
          "data": {
            "text/plain": [
              "((69881, 21), (17471, 21), (21838, 21))"
            ]
          },
          "metadata": {
            "tags": []
          },
          "execution_count": 19
        }
      ]
    },
    {
      "cell_type": "code",
      "metadata": {
        "id": "BFNyHobONQ9d",
        "colab_type": "code",
        "colab": {
          "base_uri": "https://localhost:8080/",
          "height": 34
        },
        "outputId": "b437b331-4769-4665-b131-644a3a0a2bd8"
      },
      "source": [
        "# The app has a max of 100 MB. so going make a smaller data set for the app to make predictions on.\n",
        "# The notebook will still make predictions on the full data set, there will just be a separate dataset for the app.\n",
        "app_train, app_val = train_test_split(train, train_size=50000, test_size=18363, \n",
        "                              stratify=train['result'], random_state=42)\n",
        "train.shape,val.shape,test.shape, app_train.shape, app_val.shape"
      ],
      "execution_count": 20,
      "outputs": [
        {
          "output_type": "execute_result",
          "data": {
            "text/plain": [
              "((69881, 21), (17471, 21), (21838, 21), (50000, 21), (18363, 21))"
            ]
          },
          "metadata": {
            "tags": []
          },
          "execution_count": 20
        }
      ]
    },
    {
      "cell_type": "code",
      "metadata": {
        "scrolled": false,
        "id": "4BPRW2uZNQ9f",
        "colab_type": "code",
        "colab": {
          "base_uri": "https://localhost:8080/",
          "height": 187
        },
        "outputId": "a5225ff2-b2aa-4842-9045-15643fe3a5c3"
      },
      "source": [
        "# Arrange data into X features matrix and y target vector\n",
        "target = 'result'\n",
        "X_train = train.drop(columns=target)\n",
        "y_train = train[target]\n",
        "X_val = val.drop(columns=target)\n",
        "y_val = val[target]\n",
        "X_test = test.drop(columns=target)\n",
        "y_test = test[target]\n",
        "\n",
        "# And for the app data\n",
        "app_train_X = app_train.drop(columns=target)\n",
        "app_train_y = app_train[target]\n",
        "app_val_X = app_val.drop(columns=target)\n",
        "app_val_y = app_val[target]\n",
        "# Check shapes\n",
        "print('X_train shape', X_train.shape)\n",
        "print('y_train shape', y_train.shape)\n",
        "print('X_val shape', X_val.shape)\n",
        "print('y_val shape', y_val.shape)\n",
        "print('X_test shape', X_test.shape)\n",
        "print('y_test shape', y_test.shape)\n",
        "print('app_train_X shape', app_train_X.shape)\n",
        "print('app_train_y shape', app_train_y.shape)\n",
        "print('app_val_X shape', app_val_X.shape)\n",
        "print('app_val_y shape', app_val_y.shape)"
      ],
      "execution_count": 21,
      "outputs": [
        {
          "output_type": "stream",
          "text": [
            "X_train shape (69881, 20)\n",
            "y_train shape (69881,)\n",
            "X_val shape (17471, 20)\n",
            "y_val shape (17471,)\n",
            "X_test shape (21838, 20)\n",
            "y_test shape (21838,)\n",
            "app_train_X shape (50000, 20)\n",
            "app_train_y shape (50000,)\n",
            "app_val_X shape (18363, 20)\n",
            "app_val_y shape (18363,)\n"
          ],
          "name": "stdout"
        }
      ]
    },
    {
      "cell_type": "markdown",
      "metadata": {
        "id": "0TX7U_p0NQ9h",
        "colab_type": "text"
      },
      "source": [
        "# Get accuracy score for majority baseline"
      ]
    },
    {
      "cell_type": "code",
      "metadata": {
        "scrolled": false,
        "id": "qM97xguONQ9h",
        "colab_type": "code",
        "colab": {
          "base_uri": "https://localhost:8080/",
          "height": 85
        },
        "outputId": "6b9c0350-63f9-4708-f891-d8f27e8edfe0"
      },
      "source": [
        "# Get accuracy score for majority class baseline\n",
        "y_train.value_counts(normalize=True)"
      ],
      "execution_count": 22,
      "outputs": [
        {
          "output_type": "execute_result",
          "data": {
            "text/plain": [
              "Citation for infraction        0.420000\n",
              "Warning (verbal or written)    0.324752\n",
              "No Action                      0.255248\n",
              "Name: result, dtype: float64"
            ]
          },
          "metadata": {
            "tags": []
          },
          "execution_count": 22
        }
      ]
    },
    {
      "cell_type": "code",
      "metadata": {
        "scrolled": true,
        "id": "ABkNML_zNQ9j",
        "colab_type": "code",
        "colab": {
          "base_uri": "https://localhost:8080/",
          "height": 34
        },
        "outputId": "db81fdea-479b-4d6a-a6a0-19fb4faa6a91"
      },
      "source": [
        "import numpy as np\n",
        "from sklearn.metrics import accuracy_score\n",
        "\n",
        "majority_class = y_train.mode()[0]\n",
        "y_pred = np.full_like(y_val, fill_value=majority_class)\n",
        "accuracy_score(y_val, y_pred)"
      ],
      "execution_count": 23,
      "outputs": [
        {
          "output_type": "execute_result",
          "data": {
            "text/plain": [
              "0.42001030278747636"
            ]
          },
          "metadata": {
            "tags": []
          },
          "execution_count": 23
        }
      ]
    },
    {
      "cell_type": "markdown",
      "metadata": {
        "id": "TQ2jM_BGNQ9l",
        "colab_type": "text"
      },
      "source": [
        "# Create Model - Random Forest"
      ]
    },
    {
      "cell_type": "code",
      "metadata": {
        "scrolled": true,
        "id": "xaeduMElNQ9l",
        "colab_type": "code",
        "colab": {
          "base_uri": "https://localhost:8080/",
          "height": 51
        },
        "outputId": "d9f1d705-47f5-4be8-fe6f-c8c83f81b2b5"
      },
      "source": [
        "import category_encoders as ce\n",
        "from sklearn.ensemble import RandomForestClassifier\n",
        "from sklearn.pipeline import make_pipeline\n",
        "\n",
        "# Instantiate the class\n",
        "pipeline = make_pipeline(\n",
        "    ce.OrdinalEncoder(),\n",
        "    RandomForestClassifier(n_estimators=1000, n_jobs=-1, random_state=42, max_depth=20)\n",
        ")\n",
        "# Fit on training set, test on val set\n",
        "pipeline.fit(X_train, y_train)\n",
        "y_pred = pipeline.predict(X_val)\n",
        "print('Validation Accuracy', accuracy_score(y_val, y_pred))\n",
        "\n",
        "# Now predicting on test\n",
        "y_pred = pipeline.predict(X_test)\n",
        "print('Test Accuracy', accuracy_score(y_test, y_pred))"
      ],
      "execution_count": 24,
      "outputs": [
        {
          "output_type": "stream",
          "text": [
            "Validation Accuracy 0.7375078701848778\n",
            "Test Accuracy 0.739170253686235\n"
          ],
          "name": "stdout"
        }
      ]
    },
    {
      "cell_type": "code",
      "metadata": {
        "id": "dMi-Q4BnNQ9n",
        "colab_type": "code",
        "colab": {
          "base_uri": "https://localhost:8080/",
          "height": 34
        },
        "outputId": "0bbbe87f-05e2-4a26-fda6-ec1f89d629e9"
      },
      "source": [
        "y_pred = pipeline.predict(X_test)\n",
        "print('Test Accuracy', accuracy_score(y_test, y_pred))"
      ],
      "execution_count": 25,
      "outputs": [
        {
          "output_type": "stream",
          "text": [
            "Test Accuracy 0.739170253686235\n"
          ],
          "name": "stdout"
        }
      ]
    },
    {
      "cell_type": "code",
      "metadata": {
        "id": "3Pf7cLzWNQ9p",
        "colab_type": "code",
        "colab": {}
      },
      "source": [
        "# This forest is for the app\n",
        "import category_encoders as ce\n",
        "from sklearn.ensemble import RandomForestClassifier\n",
        "from sklearn.pipeline import make_pipeline\n",
        "\n",
        "app_pipeline = make_pipeline(\n",
        "    ce.OrdinalEncoder(),\n",
        "    RandomForestClassifier(n_estimators=100, n_jobs=-1, random_state=42, max_depth=20)\n",
        ")\n",
        "\n",
        "pipeline.fit(app_train_X, app_train_y)\n",
        "app_y_pred = pipeline.predict(app_val_X)\n",
        "print('Validation Accuracy', accuracy_score(app_val_y, app_y_pred))"
      ],
      "execution_count": 0,
      "outputs": []
    },
    {
      "cell_type": "code",
      "metadata": {
        "id": "BBm0hDPKNQ9r",
        "colab_type": "code",
        "colab": {}
      },
      "source": [
        "# Pickling pipeline\n",
        "from joblib import dump\n",
        "dump(pipeline, 'pipeline.joblib1', compress=True)"
      ],
      "execution_count": 0,
      "outputs": []
    },
    {
      "cell_type": "code",
      "metadata": {
        "scrolled": true,
        "id": "4UmaUq1hNQ9u",
        "colab_type": "code",
        "colab": {}
      },
      "source": [
        "# Get feature importances\n",
        "rf = pipeline.named_steps['randomforestclassifier']\n",
        "importances = pd.Series(rf.feature_importances_, X_train.columns)\n",
        "\n",
        "%matplotlib inline\n",
        "import matplotlib.pyplot as plt\n",
        "\n",
        "n=20\n",
        "plt.figure(figsize=(10, n/2))\n",
        "plt.title(f'Top {n} features')\n",
        "importances.sort_values()[-n:].plot.barh(color='grey');"
      ],
      "execution_count": 0,
      "outputs": []
    },
    {
      "cell_type": "code",
      "metadata": {
        "scrolled": true,
        "id": "DpmRsKUaNQ9v",
        "colab_type": "code",
        "colab": {}
      },
      "source": [
        "# Going to get permutation importance\n",
        "\n",
        "\n",
        "# eli5 doesn't work well with pipelines, so need to decosntruct a little bit for it to work\n",
        "transformers = make_pipeline(\n",
        "    ce.OrdinalEncoder(), \n",
        ")\n",
        "\n",
        "X_train_transformed = transformers.fit_transform(X_train)\n",
        "X_val_transformed = transformers.transform(X_val)\n",
        "\n",
        "model = RandomForestClassifier(n_estimators=500, random_state=42, n_jobs=-1)\n",
        "model.fit(X_train_transformed, y_train)\n",
        "\n",
        "# Going to instantiate the permuter class to get the permutation importance\n",
        "import eli5\n",
        "from eli5.sklearn import PermutationImportance\n",
        "\n",
        "permuter = PermutationImportance(\n",
        "    model,\n",
        "    scoring='accuracy', \n",
        "    n_iter=2, \n",
        "    random_state=42\n",
        ")\n",
        "\n",
        "permuter.fit(X_val_transformed, y_val)\n",
        "feature_names = X_val.columns.tolist()\n",
        "\n",
        "eli5.show_weights(\n",
        "    permuter, \n",
        "    top=None, # show permutation importances for all features\n",
        "    feature_names=feature_names\n",
        ")"
      ],
      "execution_count": 0,
      "outputs": []
    },
    {
      "cell_type": "code",
      "metadata": {
        "scrolled": true,
        "id": "eV8W9f8uNQ9y",
        "colab_type": "code",
        "colab": {}
      },
      "source": [
        "print('Shape before removing features:', X_train.shape)"
      ],
      "execution_count": 0,
      "outputs": []
    },
    {
      "cell_type": "code",
      "metadata": {
        "id": "uTZ36A3LNQ90",
        "colab_type": "code",
        "colab": {}
      },
      "source": [
        "minimum_importance = 0\n",
        "mask = permuter.feature_importances_ > minimum_importance\n",
        "features = X_train.columns[mask]\n",
        "X_train = X_train[features]\n",
        "\n",
        "print('Shape after removing features:', X_train.shape)"
      ],
      "execution_count": 0,
      "outputs": []
    },
    {
      "cell_type": "code",
      "metadata": {
        "id": "GaE9uFC5NQ92",
        "colab_type": "code",
        "colab": {}
      },
      "source": [
        "X_val = X_val[features]"
      ],
      "execution_count": 0,
      "outputs": []
    },
    {
      "cell_type": "code",
      "metadata": {
        "id": "WynVoC9MNQ94",
        "colab_type": "code",
        "colab": {}
      },
      "source": [
        "from sklearn.impute import SimpleImputer\n",
        "pipeline = make_pipeline(\n",
        "    ce.OrdinalEncoder(), \n",
        "    SimpleImputer(strategy='median'), \n",
        "    RandomForestClassifier(n_estimators=100, random_state=42, n_jobs=-1)\n",
        ")\n",
        "\n",
        "# Fit on train, score on val\n",
        "pipeline.fit(X_train, y_train)\n",
        "print('Validation Accuracy', pipeline.score(X_val, y_val))"
      ],
      "execution_count": 0,
      "outputs": []
    },
    {
      "cell_type": "markdown",
      "metadata": {
        "id": "5WTG67N2NQ97",
        "colab_type": "text"
      },
      "source": [
        "# ROC AUC"
      ]
    },
    {
      "cell_type": "code",
      "metadata": {
        "id": "UrTPWJ3ZNQ97",
        "colab_type": "code",
        "colab": {}
      },
      "source": [
        "%%time\n",
        "import category_encoders as ce\n",
        "from sklearn.ensemble import RandomForestClassifier\n",
        "from sklearn.impute import SimpleImputer\n",
        "from sklearn.pipeline import make_pipeline\n",
        "\n",
        "pipeline = make_pipeline(\n",
        "    ce.OrdinalEncoder(), \n",
        "    SimpleImputer(strategy='median'), \n",
        "    RandomForestClassifier(n_estimators=100, n_jobs=-1, random_state=42)\n",
        ")\n",
        "\n",
        "pipeline.fit(X_train, y_train);"
      ],
      "execution_count": 0,
      "outputs": []
    },
    {
      "cell_type": "code",
      "metadata": {
        "id": "Efe5HRnSNQ9-",
        "colab_type": "code",
        "colab": {}
      },
      "source": [
        "#  get accuracy score for model\n",
        "y_pred = pipeline.predict(X_val)\n",
        "accuracy_score(y_val, y_pred)"
      ],
      "execution_count": 0,
      "outputs": []
    },
    {
      "cell_type": "code",
      "metadata": {
        "id": "zsd3XWP2NQ-A",
        "colab_type": "code",
        "colab": {}
      },
      "source": [
        "# define confusion matrix function\n",
        "%matplotlib inline\n",
        "import seaborn as sns\n",
        "from sklearn.metrics import confusion_matrix\n",
        "from sklearn.utils.multiclass import unique_labels\n",
        "\n",
        "def plot_confusion_matrix(y_true, y_pred):\n",
        "    labels = unique_labels(y_true)\n",
        "    columns = [f'Predicted {label}' for label in labels]\n",
        "    index = [f'Actual {label}' for label in labels]\n",
        "    table = pd.DataFrame(confusion_matrix(y_true, y_pred), \n",
        "                         columns=columns, index=index)\n",
        "    return sns.heatmap(table, annot=True, fmt='d', cmap='viridis')"
      ],
      "execution_count": 0,
      "outputs": []
    },
    {
      "cell_type": "code",
      "metadata": {
        "id": "tp6JS-0bNQ-C",
        "colab_type": "code",
        "colab": {}
      },
      "source": [
        "plot_confusion_matrix(y_val, y_pred);"
      ],
      "execution_count": 0,
      "outputs": []
    },
    {
      "cell_type": "code",
      "metadata": {
        "id": "1x-srQlnNQ-D",
        "colab_type": "code",
        "colab": {}
      },
      "source": [
        "# get precision and recall\n",
        "from sklearn.metrics import classification_report\n",
        "from sklearn.metrics import roc_auc_score\n",
        "import matplotlib.pyplot as plt\n",
        "from sklearn.metrics import roc_curve\n",
        "print(classification_report(y_val, y_pred))"
      ],
      "execution_count": 0,
      "outputs": []
    },
    {
      "cell_type": "code",
      "metadata": {
        "scrolled": false,
        "id": "58SGDKrZNQ-F",
        "colab_type": "code",
        "colab": {}
      },
      "source": [
        "# get ROC AUC score for model\n",
        "\n",
        "y_pred_proba = pipeline.predict_proba(X_val)[:, 1]"
      ],
      "execution_count": 0,
      "outputs": []
    },
    {
      "cell_type": "code",
      "metadata": {
        "scrolled": true,
        "id": "BcPbMB3JNQ-H",
        "colab_type": "code",
        "colab": {}
      },
      "source": [
        "# Plot ROC curve\n",
        "\n",
        "tpr, fpr, thresholds = roc_curve(y_val=='Citation for infraction', y_pred_proba)\n",
        "plt.plot(fpr, tpr)\n",
        "plt.title('ROC curve')\n",
        "plt.xlabel('False Positive Rate')\n",
        "plt.ylabel('True Positive Rate');"
      ],
      "execution_count": 0,
      "outputs": []
    },
    {
      "cell_type": "markdown",
      "metadata": {
        "id": "xsm8Nj4uNQ-J",
        "colab_type": "text"
      },
      "source": [
        "# Exploratory Visual analysis"
      ]
    },
    {
      "cell_type": "code",
      "metadata": {
        "id": "N1WulEpFNQ-K",
        "colab_type": "code",
        "colab": {}
      },
      "source": [
        "police.exp_years.value_counts(normalize=True)"
      ],
      "execution_count": 0,
      "outputs": []
    },
    {
      "cell_type": "code",
      "metadata": {
        "scrolled": true,
        "id": "MSehXhRrNQ-M",
        "colab_type": "code",
        "colab": {}
      },
      "source": [
        "import seaborn as sns\n",
        "sns.distplot(police.exp_years);"
      ],
      "execution_count": 0,
      "outputs": []
    },
    {
      "cell_type": "code",
      "metadata": {
        "id": "Hn-iiNoiNQ-P",
        "colab_type": "code",
        "colab": {}
      },
      "source": [
        "police.action"
      ],
      "execution_count": 0,
      "outputs": []
    },
    {
      "cell_type": "code",
      "metadata": {
        "id": "MaQQCCD_NQ-S",
        "colab_type": "code",
        "colab": {}
      },
      "source": [
        "police_ticket = police[police['result'] == 'Citation for infraction']"
      ],
      "execution_count": 0,
      "outputs": []
    },
    {
      "cell_type": "code",
      "metadata": {
        "id": "fF0u5jzUNQ-U",
        "colab_type": "code",
        "colab": {}
      },
      "source": [
        "police_no_ticket = police[police['result'] != 'Citation for infraction']"
      ],
      "execution_count": 0,
      "outputs": []
    },
    {
      "cell_type": "code",
      "metadata": {
        "id": "iUWAYP0jNQ-W",
        "colab_type": "code",
        "colab": {}
      },
      "source": [
        "# Looks like three out of the five highest percentage time slots for getting a ticket are during the afternoon commute\n",
        "# The third highest, though not in the afternoon, is during the morning commute. From 8-9AM\n",
        "police_ticket['stop_hour'].value_counts(normalize=True).plot(kind='bar');\n",
        "print(police_ticket['stop_hour'].value_counts(normalize=True))"
      ],
      "execution_count": 0,
      "outputs": []
    },
    {
      "cell_type": "code",
      "metadata": {
        "id": "VLx0opGdNQ-Z",
        "colab_type": "code",
        "colab": {}
      },
      "source": [
        "# it seems like the time of day when you're most likely to get off with just a warning or less would be at 10PM.\n",
        "# Possible reasons could be that, it's too early for most people to be staggeringly drunk. That likelihood increases the later it gets\n",
        "print(police_no_ticket['stop_hour'].value_counts(normalize=True))\n",
        "police_no_ticket['stop_hour'].value_counts().plot(kind='bar');"
      ],
      "execution_count": 0,
      "outputs": []
    },
    {
      "cell_type": "code",
      "metadata": {
        "id": "fJpBFtygNQ-d",
        "colab_type": "code",
        "colab": {}
      },
      "source": [
        "police_no_ticket['exp_years'].value_counts().plot(kind='bar');\n",
        "print(police_no_ticket['exp_years'].value_counts(normalize=True))"
      ],
      "execution_count": 0,
      "outputs": []
    },
    {
      "cell_type": "code",
      "metadata": {
        "id": "JFnnnLyrNQ-e",
        "colab_type": "code",
        "colab": {}
      },
      "source": [
        "police_ticket['exp_years'].value_counts().plot(kind='bar');\n",
        "print(police_ticket['exp_years'].value_counts(normalize=True))"
      ],
      "execution_count": 0,
      "outputs": []
    },
    {
      "cell_type": "code",
      "metadata": {
        "id": "_dzGNr2FNQ-g",
        "colab_type": "code",
        "colab": {}
      },
      "source": [
        "print(police.exp_years.value_counts())\n",
        "print(police_no_ticket.exp_years.value_counts())\n",
        "print(police_ticket.exp_years.value_counts())"
      ],
      "execution_count": 0,
      "outputs": []
    },
    {
      "cell_type": "code",
      "metadata": {
        "id": "bLUeDnB8NQ-i",
        "colab_type": "code",
        "colab": {}
      },
      "source": [
        "9289 / (9289 + 17929)"
      ],
      "execution_count": 0,
      "outputs": []
    },
    {
      "cell_type": "code",
      "metadata": {
        "id": "8QLBUjRyNQ-k",
        "colab_type": "code",
        "colab": {}
      },
      "source": [
        "police_ticket['day'].value_counts().plot(kind='bar');"
      ],
      "execution_count": 0,
      "outputs": []
    },
    {
      "cell_type": "code",
      "metadata": {
        "id": "V-wiy-6jNQ-m",
        "colab_type": "code",
        "colab": {}
      },
      "source": [
        "police_ticket['day'].value_counts(normalize=True)"
      ],
      "execution_count": 0,
      "outputs": []
    },
    {
      "cell_type": "code",
      "metadata": {
        "id": "DhaBpOMINQ-n",
        "colab_type": "code",
        "colab": {}
      },
      "source": [
        "police_no_ticket['day'].value_counts().plot(kind='bar');"
      ],
      "execution_count": 0,
      "outputs": []
    },
    {
      "cell_type": "code",
      "metadata": {
        "id": "r7Lgl9KNNQ-p",
        "colab_type": "code",
        "colab": {}
      },
      "source": [
        "police_no_ticket['day'].value_counts()"
      ],
      "execution_count": 0,
      "outputs": []
    },
    {
      "cell_type": "code",
      "metadata": {
        "id": "FhPZC68JNQ-q",
        "colab_type": "code",
        "colab": {}
      },
      "source": [
        "police_ticket.reason_for_stop_detail.value_counts(normalize=True)"
      ],
      "execution_count": 0,
      "outputs": []
    },
    {
      "cell_type": "code",
      "metadata": {
        "id": "X4_eSZORNQ-r",
        "colab_type": "code",
        "colab": {}
      },
      "source": [
        "police_no_ticket.reason_for_stop_detail.value_counts(normalize=True)"
      ],
      "execution_count": 0,
      "outputs": []
    },
    {
      "cell_type": "code",
      "metadata": {
        "id": "3R5P_qtrNQ-t",
        "colab_type": "code",
        "colab": {}
      },
      "source": [
        "police_ticket['stopduration'].value_counts(normalize=True)"
      ],
      "execution_count": 0,
      "outputs": []
    },
    {
      "cell_type": "code",
      "metadata": {
        "id": "f6w3-xRRNQ-u",
        "colab_type": "code",
        "colab": {}
      },
      "source": [
        "police_no_ticket['stopduration'].value_counts(normalize=True)"
      ],
      "execution_count": 0,
      "outputs": []
    },
    {
      "cell_type": "code",
      "metadata": {
        "id": "u5cktxZjNQ-w",
        "colab_type": "code",
        "colab": {}
      },
      "source": [
        ""
      ],
      "execution_count": 0,
      "outputs": []
    }
  ]
}
